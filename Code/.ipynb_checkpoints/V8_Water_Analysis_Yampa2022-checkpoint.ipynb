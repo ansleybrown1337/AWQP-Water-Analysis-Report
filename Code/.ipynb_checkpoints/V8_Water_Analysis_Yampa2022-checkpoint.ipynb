{
 "cells": [
  {
   "cell_type": "markdown",
   "id": "44d80645-f7de-4de8-b2d4-39f7866d99f1",
   "metadata": {
    "tags": []
   },
   "source": [
    "# Exploratory Water Analysis Report - Yampa River Valley 2022\n",
    "Report created by A.J. Brown - Ansley.Brown@colostate.edu\\\n",
    "6 September 2022\\\n",
    "Using Python 3.9.6\\\n",
    "Jupyter Lab 3.2.1\\\n",
    "Script Version 0.7"
   ]
  },
  {
   "cell_type": "markdown",
   "id": "ba1f478f-7254-4228-baba-40697473d342",
   "metadata": {},
   "source": [
    "## Introduction\n",
    "The following script is a data report containing water quality data from samples taken in 2022 in the Yampa River Valley by the Colorado State University (CSU) Agriculture Water Quality Program (AWQP). For more information, please contact Erik Wardle at Erik.Wardle@colostate.edu or visit the CSU AWQP Website at https://waterquality.colostate.edu."
   ]
  },
  {
   "cell_type": "code",
   "execution_count": 1,
   "id": "9cd6bc6c-9422-46c1-b1e0-65b1d859612c",
   "metadata": {},
   "outputs": [],
   "source": [
    "# To convert to html and hide code, run the following console command in the same directory as the ipynb:\n",
    "# jupyter nbconvert YourNotebook.ipynb --no-input --to html\n",
    "# DO NOT use the export in Jupyter Lab"
   ]
  },
  {
   "cell_type": "markdown",
   "id": "877a0479-6b14-4c72-890a-355c272baa4b",
   "metadata": {
    "tags": []
   },
   "source": [
    "## Table of contents\n",
    "1. [Sample ID Legend](#legend)\n",
    "2. [Sample Location Map](#map)\n",
    "3. [Interactive Graphics](#graphics)\n",
    "    1. [Boxplot](#Boxplot)\n",
    "    2. [Scatterplot](#Scatterplot)\n",
    "    3. [Correlation Matrix of All Numerical Values](#matrix)\n",
    "4. [Table of Raw Data](#data)"
   ]
  },
  {
   "cell_type": "code",
   "execution_count": 2,
   "id": "f2b62a5f-636f-41bd-93e3-f1bd52bcc79c",
   "metadata": {},
   "outputs": [],
   "source": [
    "# TODO: add ols regression lines to scatterplot\n",
    "# TODO: add geopandas map with sample locations\n",
    "# TODO: fix plotly Y-axis for numerical values"
   ]
  },
  {
   "cell_type": "code",
   "execution_count": 3,
   "id": "6e3d8747-ae39-4021-961b-b980563471b2",
   "metadata": {
    "tags": []
   },
   "outputs": [],
   "source": [
    "# Import Python Modules\n",
    "import itertools\n",
    "import contextily as cx\n",
    "import geopandas as gpd\n",
    "import numpy as np\n",
    "import pandas as pd\n",
    "import seaborn as sns\n",
    "import tabulate\n",
    "import matplotlib.pyplot as plt\n",
    "import plotly.express as px\n",
    "import plotly.graph_objects as go\n",
    "import plotly.figure_factory as ff\n",
    "from tkinter import filedialog\n",
    "from scipy import stats"
   ]
  },
  {
   "cell_type": "code",
   "execution_count": 40,
   "id": "165f33a0-a4a1-4ae3-96f4-5a4eb46cfe2e",
   "metadata": {
    "tags": []
   },
   "outputs": [
    {
     "name": "stdout",
     "output_type": "stream",
     "text": [
      "<class 'pandas.core.frame.DataFrame'>\n",
      "RangeIndex: 14 entries, 0 to 13\n",
      "Data columns (total 21 columns):\n",
      " #   Column                       Non-Null Count  Dtype  \n",
      "---  ------                       --------------  -----  \n",
      " 0   Location                     14 non-null     object \n",
      " 1   Date                         14 non-null     object \n",
      " 2   Irr./Storm Event             14 non-null     object \n",
      " 3   Sample Type                  14 non-null     object \n",
      " 4   Replication ID               14 non-null     int64  \n",
      " 5   Sample ID                    14 non-null     object \n",
      " 6   Orthophosphate (mg/L)        0 non-null      float64\n",
      " 7   NO3 (mg/L)                   0 non-null      float64\n",
      " 8   NH4 (mg/L)                   0 non-null      float64\n",
      " 9   no2                          6 non-null      float64\n",
      " 10  TKN (mg/L)                   2 non-null      float64\n",
      " 11  Total Phosphorus (mg/L)      9 non-null      float64\n",
      " 12  Selenium (mg/L)              0 non-null      float64\n",
      " 13  E. coli. (Ct./100 mL)        0 non-null      float64\n",
      " 14  Fecal Coliform (Ct./100 mL)  0 non-null      float64\n",
      " 15  TSS (mg/L)                   14 non-null     float64\n",
      " 16  Chlorophyll A (ug/L)         3 non-null      float64\n",
      " 17  Latitude                     14 non-null     float64\n",
      " 18  Longitude                    14 non-null     float64\n",
      " 19  notes                        11 non-null     object \n",
      " 20  Year                         14 non-null     int64  \n",
      "dtypes: float64(13), int64(2), object(6)\n",
      "memory usage: 2.4+ KB\n"
     ]
    }
   ],
   "source": [
    "# Import csv data (e.g., Berthoud_filter.csv)\n",
    "df = pd.read_csv(r\"C:\\Users\\ansleybr\\OneDrive - Colostate\\Documents\\GitHub\\AWQP-Water-Analysis-Report\\Example Data\\2022_YampaValley.csv\", na_values=['na','NA','nd','ND','Nd','nD','U','u','data missing','Data missing','no data','No data'])\n",
    "# df = pd.read_csv(filedialog.askopenfilename(), na_values=['nd','ND','Nd','nD','U','u','data missing','Data missing','no data','No data'])\n",
    "\n",
    "# Data Cleaning\n",
    "## Make Station ID Uppercase\n",
    "df['Station']=df['Station'].str.upper()\n",
    "## Assign 'Date' column name from csv\n",
    "date_name = 'Date' #or 'Start Date'\n",
    "## Extract 'Year' into its own column\n",
    "df['Year'] = pd.DatetimeIndex(df[date_name]).year\n",
    "## clean whitespace from column names\n",
    "df.columns = df.columns.str.replace(' ', '')\n",
    "dfx = df.copy()\n",
    "#converting to type numeric\n",
    "cols = df.columns.drop(['Location','Date','Irr/Storm','Station','Rep','ID','notes','Year'])\n",
    "df[cols] = df[cols].apply(pd.to_numeric)\n",
    "## Rename Columns for 'real' values\n",
    "water_dict = {\n",
    "            'Location': 'Location',\n",
    "            'Date': 'Date',\n",
    "            'Irr/Storm': 'Irr./Storm Event',\n",
    "            'Station': 'Sample Type',\n",
    "            'Rep': 'Replication ID',\n",
    "            'ID': 'Sample ID',\n",
    "            'op': 'Orthophosphate (mg/L)',\n",
    "            'no3': 'NO3 (mg/L)',\n",
    "            'nh4': 'NH4 (mg/L)',\n",
    "            'tkn': 'TKN (mg/L)',\n",
    "            'tp': 'Total Phosphorus (mg/L)',\n",
    "            'selenium': 'Selenium (mg/L)',\n",
    "            'ECOLI': 'E. coli. (Ct./100 mL)',\n",
    "            'fecal': 'Fecal Coliform (Ct./100 mL)', #confirm w/ manny on coliform\n",
    "            'tss': 'TSS (mg/L)',\n",
    "            'Flow': 'Flow (GPM)',  #confirm w/ manny on units\n",
    "            'Notes': 'Notes',\n",
    "            'Year': 'Year',\n",
    "            'chlorophyllA':'Chlorophyll A (ug/L)'\n",
    "            }\n",
    "df.rename(\n",
    "          columns=water_dict,\n",
    "          inplace = True\n",
    "         )\n",
    "## List of columns for reference\n",
    "#df.columns\n",
    "#df.select_dtypes(include=np.number).columns\n",
    "df.info()"
   ]
  },
  {
   "cell_type": "markdown",
   "id": "658a0d48-06bf-47a7-a361-8c9457706a3e",
   "metadata": {},
   "source": [
    "## Sample ID Legend <a name=\"legend\"></a>\n",
    "All samples were identified via \"Sample ID\" prefix using abbreviations corresponding to locations as noted in the legend below:"
   ]
  },
  {
   "cell_type": "code",
   "execution_count": 41,
   "id": "76948c9a-907b-4a61-bc80-53e5abbbec82",
   "metadata": {},
   "outputs": [
    {
     "data": {
      "text/html": [
       "<table>\n",
       "<thead>\n",
       "<tr><th>Sample ID  </th><th>Location           </th></tr>\n",
       "</thead>\n",
       "<tbody>\n",
       "<tr><td>SB-SCI     </td><td>Stagecoach Inlet   </td></tr>\n",
       "<tr><td>SB-SCA     </td><td>Stagecoach Resevoir</td></tr>\n",
       "<tr><td>SB-SCO     </td><td>Stagecoach Spillway</td></tr>\n",
       "<tr><td>SB-TR      </td><td>Todd Ranch         </td></tr>\n",
       "</tbody>\n",
       "</table>"
      ],
      "text/plain": [
       "'<table>\\n<thead>\\n<tr><th>Sample ID  </th><th>Location           </th></tr>\\n</thead>\\n<tbody>\\n<tr><td>SB-SCI     </td><td>Stagecoach Inlet   </td></tr>\\n<tr><td>SB-SCA     </td><td>Stagecoach Resevoir</td></tr>\\n<tr><td>SB-SCO     </td><td>Stagecoach Spillway</td></tr>\\n<tr><td>SB-TR      </td><td>Todd Ranch         </td></tr>\\n</tbody>\\n</table>'"
      ]
     },
     "execution_count": 41,
     "metadata": {},
     "output_type": "execute_result"
    }
   ],
   "source": [
    "legend = [[\"SB-SCI\",'Stagecoach Inlet'],\n",
    "         [\"SB-SCA\",'Stagecoach Resevoir'],\n",
    "         [\"SB-SCO\",'Stagecoach Spillway'],\n",
    "         [\"SB-TR\",'Todd Ranch']]\n",
    "legendTable = tabulate.tabulate(legend, tablefmt='html', headers=['Sample ID','Location'])\n",
    "legendTable"
   ]
  },
  {
   "cell_type": "markdown",
   "id": "f5882069-b70b-467b-8877-c2ea293805aa",
   "metadata": {},
   "source": [
    "## Sample Location Map <a name=\"map\"></a>\n",
    "Use the interactive map below to look at samples taken. Hovering over points will show all parameters collected on site."
   ]
  },
  {
   "cell_type": "code",
   "execution_count": 35,
   "id": "18e45232-ccd5-45bc-9a56-657eb0bc3941",
   "metadata": {},
   "outputs": [
    {
     "data": {
      "text/html": [
       "<div style=\"width:100%;\"><div style=\"position:relative;width:100%;height:0;padding-bottom:60%;\"><span style=\"color:#565656\">Make this Notebook Trusted to load map: File -> Trust Notebook</span><iframe srcdoc=\"&lt;!DOCTYPE html&gt;\n",
       "&lt;head&gt;    \n",
       "    &lt;meta http-equiv=&quot;content-type&quot; content=&quot;text/html; charset=UTF-8&quot; /&gt;\n",
       "    \n",
       "        &lt;script&gt;\n",
       "            L_NO_TOUCH = false;\n",
       "            L_DISABLE_3D = false;\n",
       "        &lt;/script&gt;\n",
       "    \n",
       "    &lt;style&gt;html, body {width: 100%;height: 100%;margin: 0;padding: 0;}&lt;/style&gt;\n",
       "    &lt;style&gt;#map {position:absolute;top:0;bottom:0;right:0;left:0;}&lt;/style&gt;\n",
       "    &lt;script src=&quot;https://cdn.jsdelivr.net/npm/leaflet@1.6.0/dist/leaflet.js&quot;&gt;&lt;/script&gt;\n",
       "    &lt;script src=&quot;https://code.jquery.com/jquery-1.12.4.min.js&quot;&gt;&lt;/script&gt;\n",
       "    &lt;script src=&quot;https://maxcdn.bootstrapcdn.com/bootstrap/3.2.0/js/bootstrap.min.js&quot;&gt;&lt;/script&gt;\n",
       "    &lt;script src=&quot;https://cdnjs.cloudflare.com/ajax/libs/Leaflet.awesome-markers/2.0.2/leaflet.awesome-markers.js&quot;&gt;&lt;/script&gt;\n",
       "    &lt;link rel=&quot;stylesheet&quot; href=&quot;https://cdn.jsdelivr.net/npm/leaflet@1.6.0/dist/leaflet.css&quot;/&gt;\n",
       "    &lt;link rel=&quot;stylesheet&quot; href=&quot;https://maxcdn.bootstrapcdn.com/bootstrap/3.2.0/css/bootstrap.min.css&quot;/&gt;\n",
       "    &lt;link rel=&quot;stylesheet&quot; href=&quot;https://maxcdn.bootstrapcdn.com/bootstrap/3.2.0/css/bootstrap-theme.min.css&quot;/&gt;\n",
       "    &lt;link rel=&quot;stylesheet&quot; href=&quot;https://maxcdn.bootstrapcdn.com/font-awesome/4.6.3/css/font-awesome.min.css&quot;/&gt;\n",
       "    &lt;link rel=&quot;stylesheet&quot; href=&quot;https://cdnjs.cloudflare.com/ajax/libs/Leaflet.awesome-markers/2.0.2/leaflet.awesome-markers.css&quot;/&gt;\n",
       "    &lt;link rel=&quot;stylesheet&quot; href=&quot;https://cdn.jsdelivr.net/gh/python-visualization/folium/folium/templates/leaflet.awesome.rotate.min.css&quot;/&gt;\n",
       "    \n",
       "            &lt;meta name=&quot;viewport&quot; content=&quot;width=device-width,\n",
       "                initial-scale=1.0, maximum-scale=1.0, user-scalable=no&quot; /&gt;\n",
       "            &lt;style&gt;\n",
       "                #map_0f4e8bd2aaa73ec37168bf364d1c4e23 {\n",
       "                    position: relative;\n",
       "                    width: 100.0%;\n",
       "                    height: 100.0%;\n",
       "                    left: 0.0%;\n",
       "                    top: 0.0%;\n",
       "                }\n",
       "            &lt;/style&gt;\n",
       "        \n",
       "    \n",
       "                    &lt;style&gt;\n",
       "                        .foliumtooltip {\n",
       "                            \n",
       "                        }\n",
       "                       .foliumtooltip table{\n",
       "                            margin: auto;\n",
       "                        }\n",
       "                        .foliumtooltip tr{\n",
       "                            text-align: left;\n",
       "                        }\n",
       "                        .foliumtooltip th{\n",
       "                            padding: 2px; padding-right: 8px;\n",
       "                        }\n",
       "                    &lt;/style&gt;\n",
       "            \n",
       "&lt;/head&gt;\n",
       "&lt;body&gt;    \n",
       "    \n",
       "            &lt;div class=&quot;folium-map&quot; id=&quot;map_0f4e8bd2aaa73ec37168bf364d1c4e23&quot; &gt;&lt;/div&gt;\n",
       "        \n",
       "&lt;/body&gt;\n",
       "&lt;script&gt;    \n",
       "    \n",
       "            var map_0f4e8bd2aaa73ec37168bf364d1c4e23 = L.map(\n",
       "                &quot;map_0f4e8bd2aaa73ec37168bf364d1c4e23&quot;,\n",
       "                {\n",
       "                    center: [40.278948, -106.8517135],\n",
       "                    crs: L.CRS.EPSG3857,\n",
       "                    zoom: 10,\n",
       "                    zoomControl: true,\n",
       "                    preferCanvas: false,\n",
       "                }\n",
       "            );\n",
       "            L.control.scale().addTo(map_0f4e8bd2aaa73ec37168bf364d1c4e23);\n",
       "\n",
       "            \n",
       "\n",
       "        \n",
       "    \n",
       "            var tile_layer_7485eafb38030679012e9325669137af = L.tileLayer(\n",
       "                &quot;https://{s}.tile.openstreetmap.org/{z}/{x}/{y}.png&quot;,\n",
       "                {&quot;attribution&quot;: &quot;Data by \\u0026copy; \\u003ca href=\\&quot;http://openstreetmap.org\\&quot;\\u003eOpenStreetMap\\u003c/a\\u003e, under \\u003ca href=\\&quot;http://www.openstreetmap.org/copyright\\&quot;\\u003eODbL\\u003c/a\\u003e.&quot;, &quot;detectRetina&quot;: false, &quot;maxNativeZoom&quot;: 18, &quot;maxZoom&quot;: 18, &quot;minZoom&quot;: 0, &quot;noWrap&quot;: false, &quot;opacity&quot;: 1, &quot;subdomains&quot;: &quot;abc&quot;, &quot;tms&quot;: false}\n",
       "            ).addTo(map_0f4e8bd2aaa73ec37168bf364d1c4e23);\n",
       "        \n",
       "    \n",
       "            map_0f4e8bd2aaa73ec37168bf364d1c4e23.fitBounds(\n",
       "                [[40.268871, -106.883927], [40.289025, -106.8195]],\n",
       "                {}\n",
       "            );\n",
       "        \n",
       "    \n",
       "        function geo_json_024f087cbb4375c6a585bf980b4d382e_styler(feature) {\n",
       "            switch(feature.id) {\n",
       "                default:\n",
       "                    return {&quot;fillOpacity&quot;: 0.5, &quot;weight&quot;: 2};\n",
       "            }\n",
       "        }\n",
       "        function geo_json_024f087cbb4375c6a585bf980b4d382e_highlighter(feature) {\n",
       "            switch(feature.id) {\n",
       "                default:\n",
       "                    return {&quot;fillOpacity&quot;: 0.75};\n",
       "            }\n",
       "        }\n",
       "        function geo_json_024f087cbb4375c6a585bf980b4d382e_pointToLayer(feature, latlng) {\n",
       "            var opts = {};\n",
       "            \n",
       "            let style = geo_json_024f087cbb4375c6a585bf980b4d382e_styler(feature)\n",
       "            Object.assign(opts, style)\n",
       "            \n",
       "            return new L.Marker(latlng, opts)\n",
       "        }\n",
       "\n",
       "        function geo_json_024f087cbb4375c6a585bf980b4d382e_onEachFeature(feature, layer) {\n",
       "            layer.on({\n",
       "                mouseout: function(e) {\n",
       "                    if(typeof e.target.setStyle === &quot;function&quot;){\n",
       "                        geo_json_024f087cbb4375c6a585bf980b4d382e.resetStyle(e.target);\n",
       "                    }\n",
       "                },\n",
       "                mouseover: function(e) {\n",
       "                    if(typeof e.target.setStyle === &quot;function&quot;){\n",
       "                        const highlightStyle = geo_json_024f087cbb4375c6a585bf980b4d382e_highlighter(e.target.feature)\n",
       "                        e.target.setStyle(highlightStyle);\n",
       "                    }\n",
       "                },\n",
       "            });\n",
       "        };\n",
       "        var geo_json_024f087cbb4375c6a585bf980b4d382e = L.geoJson(null, {\n",
       "                onEachFeature: geo_json_024f087cbb4375c6a585bf980b4d382e_onEachFeature,\n",
       "            \n",
       "                style: geo_json_024f087cbb4375c6a585bf980b4d382e_styler,\n",
       "                pointToLayer: geo_json_024f087cbb4375c6a585bf980b4d382e_pointToLayer\n",
       "        });\n",
       "\n",
       "        function geo_json_024f087cbb4375c6a585bf980b4d382e_add (data) {\n",
       "            geo_json_024f087cbb4375c6a585bf980b4d382e\n",
       "                .addData(data)\n",
       "                .addTo(map_0f4e8bd2aaa73ec37168bf364d1c4e23);\n",
       "        }\n",
       "            geo_json_024f087cbb4375c6a585bf980b4d382e_add({&quot;bbox&quot;: [-106.883927, 40.268871, -106.8195, 40.289025], &quot;features&quot;: [{&quot;bbox&quot;: [-106.846751, 40.28528, -106.846751, 40.28528], &quot;geometry&quot;: {&quot;coordinates&quot;: [-106.846751, 40.28528], &quot;type&quot;: &quot;Point&quot;}, &quot;id&quot;: &quot;0&quot;, &quot;properties&quot;: {&quot;Chlorophyll A (ug/L)&quot;: 30.65, &quot;Date&quot;: &quot;5/26/2022&quot;, &quot;E. coli. (Ct./100 mL)&quot;: null, &quot;Fecal Coliform (Ct./100 mL)&quot;: null, &quot;Irr./Storm Event&quot;: &quot;Grab 1&quot;, &quot;Latitude&quot;: 40.28528, &quot;Location&quot;: &quot;Yampa Valley&quot;, &quot;Longitude&quot;: -106.846751, &quot;NH4 (mg/L)&quot;: null, &quot;NO3 (mg/L)&quot;: null, &quot;Orthophosphate (mg/L)&quot;: null, &quot;Replication ID&quot;: 1, &quot;Sample ID&quot;: &quot;SB-SCI-01-GB&quot;, &quot;Sample Type&quot;: &quot;SCI&quot;, &quot;Selenium (mg/L)&quot;: null, &quot;TKN (mg/L)&quot;: null, &quot;TSS (mg/L)&quot;: 13.33333333, &quot;Total Phosphorus (mg/L)&quot;: null, &quot;Year&quot;: 2022, &quot;no2&quot;: null, &quot;notes&quot;: &quot;nitrite not tested for; no duplicate for chlorophyll A analysis&quot;}, &quot;type&quot;: &quot;Feature&quot;}, {&quot;bbox&quot;: [-106.846751, 40.28528, -106.846751, 40.28528], &quot;geometry&quot;: {&quot;coordinates&quot;: [-106.846751, 40.28528], &quot;type&quot;: &quot;Point&quot;}, &quot;id&quot;: &quot;1&quot;, &quot;properties&quot;: {&quot;Chlorophyll A (ug/L)&quot;: null, &quot;Date&quot;: &quot;5/26/2022&quot;, &quot;E. coli. (Ct./100 mL)&quot;: null, &quot;Fecal Coliform (Ct./100 mL)&quot;: null, &quot;Irr./Storm Event&quot;: &quot;Grab 1&quot;, &quot;Latitude&quot;: 40.28528, &quot;Location&quot;: &quot;Yampa Valley&quot;, &quot;Longitude&quot;: -106.846751, &quot;NH4 (mg/L)&quot;: null, &quot;NO3 (mg/L)&quot;: null, &quot;Orthophosphate (mg/L)&quot;: null, &quot;Replication ID&quot;: 2, &quot;Sample ID&quot;: &quot;SB-SCI-01-GB-D&quot;, &quot;Sample Type&quot;: &quot;SCI&quot;, &quot;Selenium (mg/L)&quot;: null, &quot;TKN (mg/L)&quot;: null, &quot;TSS (mg/L)&quot;: 6.666666667, &quot;Total Phosphorus (mg/L)&quot;: 0.11, &quot;Year&quot;: 2022, &quot;no2&quot;: null, &quot;notes&quot;: &quot;nitrite not tested for; no duplicate for chlorophyll A analysis&quot;}, &quot;type&quot;: &quot;Feature&quot;}, {&quot;bbox&quot;: [-106.883927, 40.268871, -106.883927, 40.268871], &quot;geometry&quot;: {&quot;coordinates&quot;: [-106.883927, 40.268871], &quot;type&quot;: &quot;Point&quot;}, &quot;id&quot;: &quot;2&quot;, &quot;properties&quot;: {&quot;Chlorophyll A (ug/L)&quot;: 7.37, &quot;Date&quot;: &quot;5/26/2022&quot;, &quot;E. coli. (Ct./100 mL)&quot;: null, &quot;Fecal Coliform (Ct./100 mL)&quot;: null, &quot;Irr./Storm Event&quot;: &quot;Grab 1&quot;, &quot;Latitude&quot;: 40.268871, &quot;Location&quot;: &quot;Yampa Valley&quot;, &quot;Longitude&quot;: -106.883927, &quot;NH4 (mg/L)&quot;: null, &quot;NO3 (mg/L)&quot;: null, &quot;Orthophosphate (mg/L)&quot;: null, &quot;Replication ID&quot;: 1, &quot;Sample ID&quot;: &quot;SB-SCA-01-GB&quot;, &quot;Sample Type&quot;: &quot;SCA&quot;, &quot;Selenium (mg/L)&quot;: null, &quot;TKN (mg/L)&quot;: null, &quot;TSS (mg/L)&quot;: 20.0, &quot;Total Phosphorus (mg/L)&quot;: 0.056, &quot;Year&quot;: 2022, &quot;no2&quot;: null, &quot;notes&quot;: &quot;nitrite not tested for; no duplicate for chlorophyll A analysis&quot;}, &quot;type&quot;: &quot;Feature&quot;}, {&quot;bbox&quot;: [-106.883927, 40.268871, -106.883927, 40.268871], &quot;geometry&quot;: {&quot;coordinates&quot;: [-106.883927, 40.268871], &quot;type&quot;: &quot;Point&quot;}, &quot;id&quot;: &quot;3&quot;, &quot;properties&quot;: {&quot;Chlorophyll A (ug/L)&quot;: null, &quot;Date&quot;: &quot;5/26/2022&quot;, &quot;E. coli. (Ct./100 mL)&quot;: null, &quot;Fecal Coliform (Ct./100 mL)&quot;: null, &quot;Irr./Storm Event&quot;: &quot;Grab 1&quot;, &quot;Latitude&quot;: 40.268871, &quot;Location&quot;: &quot;Yampa Valley&quot;, &quot;Longitude&quot;: -106.883927, &quot;NH4 (mg/L)&quot;: null, &quot;NO3 (mg/L)&quot;: null, &quot;Orthophosphate (mg/L)&quot;: null, &quot;Replication ID&quot;: 2, &quot;Sample ID&quot;: &quot;SB-SCA-01-GB-D&quot;, &quot;Sample Type&quot;: &quot;SCA&quot;, &quot;Selenium (mg/L)&quot;: null, &quot;TKN (mg/L)&quot;: null, &quot;TSS (mg/L)&quot;: 6.666666667, &quot;Total Phosphorus (mg/L)&quot;: 0.051, &quot;Year&quot;: 2022, &quot;no2&quot;: null, &quot;notes&quot;: &quot;nitrite not tested for; no duplicate for chlorophyll A analysis&quot;}, &quot;type&quot;: &quot;Feature&quot;}, {&quot;bbox&quot;: [-106.8195, 40.289025, -106.8195, 40.289025], &quot;geometry&quot;: {&quot;coordinates&quot;: [-106.8195, 40.289025], &quot;type&quot;: &quot;Point&quot;}, &quot;id&quot;: &quot;4&quot;, &quot;properties&quot;: {&quot;Chlorophyll A (ug/L)&quot;: 14.44, &quot;Date&quot;: &quot;5/26/2022&quot;, &quot;E. coli. (Ct./100 mL)&quot;: null, &quot;Fecal Coliform (Ct./100 mL)&quot;: null, &quot;Irr./Storm Event&quot;: &quot;Grab 1&quot;, &quot;Latitude&quot;: 40.289025, &quot;Location&quot;: &quot;Yampa Valley&quot;, &quot;Longitude&quot;: -106.8195, &quot;NH4 (mg/L)&quot;: null, &quot;NO3 (mg/L)&quot;: null, &quot;Orthophosphate (mg/L)&quot;: null, &quot;Replication ID&quot;: 1, &quot;Sample ID&quot;: &quot;SB-TR-01-GB&quot;, &quot;Sample Type&quot;: &quot;TR&quot;, &quot;Selenium (mg/L)&quot;: null, &quot;TKN (mg/L)&quot;: null, &quot;TSS (mg/L)&quot;: 0.0, &quot;Total Phosphorus (mg/L)&quot;: null, &quot;Year&quot;: 2022, &quot;no2&quot;: null, &quot;notes&quot;: &quot;nitrite not tested for; no duplicate for chlorophyll A analysis&quot;}, &quot;type&quot;: &quot;Feature&quot;}, {&quot;bbox&quot;: [-106.8195, 40.289025, -106.8195, 40.289025], &quot;geometry&quot;: {&quot;coordinates&quot;: [-106.8195, 40.289025], &quot;type&quot;: &quot;Point&quot;}, &quot;id&quot;: &quot;5&quot;, &quot;properties&quot;: {&quot;Chlorophyll A (ug/L)&quot;: null, &quot;Date&quot;: &quot;5/26/2022&quot;, &quot;E. coli. (Ct./100 mL)&quot;: null, &quot;Fecal Coliform (Ct./100 mL)&quot;: null, &quot;Irr./Storm Event&quot;: &quot;Grab 1&quot;, &quot;Latitude&quot;: 40.289025, &quot;Location&quot;: &quot;Yampa Valley&quot;, &quot;Longitude&quot;: -106.8195, &quot;NH4 (mg/L)&quot;: null, &quot;NO3 (mg/L)&quot;: null, &quot;Orthophosphate (mg/L)&quot;: null, &quot;Replication ID&quot;: 2, &quot;Sample ID&quot;: &quot;SB-TR-01-GB-D&quot;, &quot;Sample Type&quot;: &quot;TR&quot;, &quot;Selenium (mg/L)&quot;: null, &quot;TKN (mg/L)&quot;: null, &quot;TSS (mg/L)&quot;: 20.0, &quot;Total Phosphorus (mg/L)&quot;: 0.059, &quot;Year&quot;: 2022, &quot;no2&quot;: null, &quot;notes&quot;: &quot;nitrite not tested for; no duplicate for chlorophyll A analysis&quot;}, &quot;type&quot;: &quot;Feature&quot;}, {&quot;bbox&quot;: [-106.829652, 40.285947, -106.829652, 40.285947], &quot;geometry&quot;: {&quot;coordinates&quot;: [-106.829652, 40.285947], &quot;type&quot;: &quot;Point&quot;}, &quot;id&quot;: &quot;6&quot;, &quot;properties&quot;: {&quot;Chlorophyll A (ug/L)&quot;: null, &quot;Date&quot;: &quot;6/16/2022&quot;, &quot;E. coli. (Ct./100 mL)&quot;: null, &quot;Fecal Coliform (Ct./100 mL)&quot;: null, &quot;Irr./Storm Event&quot;: &quot;Grab 1&quot;, &quot;Latitude&quot;: 40.285947, &quot;Location&quot;: &quot;Yampa Valley&quot;, &quot;Longitude&quot;: -106.829652, &quot;NH4 (mg/L)&quot;: null, &quot;NO3 (mg/L)&quot;: null, &quot;Orthophosphate (mg/L)&quot;: null, &quot;Replication ID&quot;: 1, &quot;Sample ID&quot;: &quot;SB-SCO-01-GB&quot;, &quot;Sample Type&quot;: &quot;SCO&quot;, &quot;Selenium (mg/L)&quot;: null, &quot;TKN (mg/L)&quot;: 0.9, &quot;TSS (mg/L)&quot;: 156.6666667, &quot;Total Phosphorus (mg/L)&quot;: 0.33, &quot;Year&quot;: 2022, &quot;no2&quot;: null, &quot;notes&quot;: &quot;nitrite not tested for; ALS also tested TSS = 130ppm&quot;}, &quot;type&quot;: &quot;Feature&quot;}, {&quot;bbox&quot;: [-106.829652, 40.285947, -106.829652, 40.285947], &quot;geometry&quot;: {&quot;coordinates&quot;: [-106.829652, 40.285947], &quot;type&quot;: &quot;Point&quot;}, &quot;id&quot;: &quot;7&quot;, &quot;properties&quot;: {&quot;Chlorophyll A (ug/L)&quot;: null, &quot;Date&quot;: &quot;6/16/2022&quot;, &quot;E. coli. (Ct./100 mL)&quot;: null, &quot;Fecal Coliform (Ct./100 mL)&quot;: null, &quot;Irr./Storm Event&quot;: &quot;Grab 1&quot;, &quot;Latitude&quot;: 40.285947, &quot;Location&quot;: &quot;Yampa Valley&quot;, &quot;Longitude&quot;: -106.829652, &quot;NH4 (mg/L)&quot;: null, &quot;NO3 (mg/L)&quot;: null, &quot;Orthophosphate (mg/L)&quot;: null, &quot;Replication ID&quot;: 2, &quot;Sample ID&quot;: &quot;SB-SCO-01-GB-D&quot;, &quot;Sample Type&quot;: &quot;SCO&quot;, &quot;Selenium (mg/L)&quot;: null, &quot;TKN (mg/L)&quot;: 1.2, &quot;TSS (mg/L)&quot;: 156.6666667, &quot;Total Phosphorus (mg/L)&quot;: 0.29, &quot;Year&quot;: 2022, &quot;no2&quot;: null, &quot;notes&quot;: &quot;nitrite not tested for; ALS also tested TSS = 140ppm&quot;}, &quot;type&quot;: &quot;Feature&quot;}, {&quot;bbox&quot;: [-106.846751, 40.28528, -106.846751, 40.28528], &quot;geometry&quot;: {&quot;coordinates&quot;: [-106.846751, 40.28528], &quot;type&quot;: &quot;Point&quot;}, &quot;id&quot;: &quot;8&quot;, &quot;properties&quot;: {&quot;Chlorophyll A (ug/L)&quot;: null, &quot;Date&quot;: &quot;7/18/2022&quot;, &quot;E. coli. (Ct./100 mL)&quot;: null, &quot;Fecal Coliform (Ct./100 mL)&quot;: null, &quot;Irr./Storm Event&quot;: &quot;Grab 2&quot;, &quot;Latitude&quot;: 40.28528, &quot;Location&quot;: &quot;Yampa Valley&quot;, &quot;Longitude&quot;: -106.846751, &quot;NH4 (mg/L)&quot;: null, &quot;NO3 (mg/L)&quot;: null, &quot;Orthophosphate (mg/L)&quot;: null, &quot;Replication ID&quot;: 1, &quot;Sample ID&quot;: &quot;SB-SCI-02-GB&quot;, &quot;Sample Type&quot;: &quot;SCI&quot;, &quot;Selenium (mg/L)&quot;: null, &quot;TKN (mg/L)&quot;: null, &quot;TSS (mg/L)&quot;: 0.0, &quot;Total Phosphorus (mg/L)&quot;: null, &quot;Year&quot;: 2022, &quot;no2&quot;: 0.81, &quot;notes&quot;: null}, &quot;type&quot;: &quot;Feature&quot;}, {&quot;bbox&quot;: [-106.846751, 40.28528, -106.846751, 40.28528], &quot;geometry&quot;: {&quot;coordinates&quot;: [-106.846751, 40.28528], &quot;type&quot;: &quot;Point&quot;}, &quot;id&quot;: &quot;9&quot;, &quot;properties&quot;: {&quot;Chlorophyll A (ug/L)&quot;: null, &quot;Date&quot;: &quot;7/18/2022&quot;, &quot;E. coli. (Ct./100 mL)&quot;: null, &quot;Fecal Coliform (Ct./100 mL)&quot;: null, &quot;Irr./Storm Event&quot;: &quot;Grab 2&quot;, &quot;Latitude&quot;: 40.28528, &quot;Location&quot;: &quot;Yampa Valley&quot;, &quot;Longitude&quot;: -106.846751, &quot;NH4 (mg/L)&quot;: null, &quot;NO3 (mg/L)&quot;: null, &quot;Orthophosphate (mg/L)&quot;: null, &quot;Replication ID&quot;: 2, &quot;Sample ID&quot;: &quot;SB-SCI-02-GB-D&quot;, &quot;Sample Type&quot;: &quot;SCI&quot;, &quot;Selenium (mg/L)&quot;: null, &quot;TKN (mg/L)&quot;: null, &quot;TSS (mg/L)&quot;: 0.0, &quot;Total Phosphorus (mg/L)&quot;: null, &quot;Year&quot;: 2022, &quot;no2&quot;: 0.82, &quot;notes&quot;: &quot;TSS was reported as -3.33, but is presented as 0 here&quot;}, &quot;type&quot;: &quot;Feature&quot;}, {&quot;bbox&quot;: [-106.883927, 40.268871, -106.883927, 40.268871], &quot;geometry&quot;: {&quot;coordinates&quot;: [-106.883927, 40.268871], &quot;type&quot;: &quot;Point&quot;}, &quot;id&quot;: &quot;10&quot;, &quot;properties&quot;: {&quot;Chlorophyll A (ug/L)&quot;: null, &quot;Date&quot;: &quot;7/18/2022&quot;, &quot;E. coli. (Ct./100 mL)&quot;: null, &quot;Fecal Coliform (Ct./100 mL)&quot;: null, &quot;Irr./Storm Event&quot;: &quot;Grab 2&quot;, &quot;Latitude&quot;: 40.268871, &quot;Location&quot;: &quot;Yampa Valley&quot;, &quot;Longitude&quot;: -106.883927, &quot;NH4 (mg/L)&quot;: null, &quot;NO3 (mg/L)&quot;: null, &quot;Orthophosphate (mg/L)&quot;: null, &quot;Replication ID&quot;: 1, &quot;Sample ID&quot;: &quot;SB-SCA-02-GB&quot;, &quot;Sample Type&quot;: &quot;SCA&quot;, &quot;Selenium (mg/L)&quot;: null, &quot;TKN (mg/L)&quot;: null, &quot;TSS (mg/L)&quot;: 3.333333333, &quot;Total Phosphorus (mg/L)&quot;: 0.059, &quot;Year&quot;: 2022, &quot;no2&quot;: 0.15, &quot;notes&quot;: null}, &quot;type&quot;: &quot;Feature&quot;}, {&quot;bbox&quot;: [-106.883927, 40.268871, -106.883927, 40.268871], &quot;geometry&quot;: {&quot;coordinates&quot;: [-106.883927, 40.268871], &quot;type&quot;: &quot;Point&quot;}, &quot;id&quot;: &quot;11&quot;, &quot;properties&quot;: {&quot;Chlorophyll A (ug/L)&quot;: null, &quot;Date&quot;: &quot;7/18/2022&quot;, &quot;E. coli. (Ct./100 mL)&quot;: null, &quot;Fecal Coliform (Ct./100 mL)&quot;: null, &quot;Irr./Storm Event&quot;: &quot;Grab 2&quot;, &quot;Latitude&quot;: 40.268871, &quot;Location&quot;: &quot;Yampa Valley&quot;, &quot;Longitude&quot;: -106.883927, &quot;NH4 (mg/L)&quot;: null, &quot;NO3 (mg/L)&quot;: null, &quot;Orthophosphate (mg/L)&quot;: null, &quot;Replication ID&quot;: 2, &quot;Sample ID&quot;: &quot;SB-SCA-02-GB-D&quot;, &quot;Sample Type&quot;: &quot;SCA&quot;, &quot;Selenium (mg/L)&quot;: null, &quot;TKN (mg/L)&quot;: null, &quot;TSS (mg/L)&quot;: 3.333333333, &quot;Total Phosphorus (mg/L)&quot;: 0.057, &quot;Year&quot;: 2022, &quot;no2&quot;: 1.1, &quot;notes&quot;: null}, &quot;type&quot;: &quot;Feature&quot;}, {&quot;bbox&quot;: [-106.8195, 40.289025, -106.8195, 40.289025], &quot;geometry&quot;: {&quot;coordinates&quot;: [-106.8195, 40.289025], &quot;type&quot;: &quot;Point&quot;}, &quot;id&quot;: &quot;12&quot;, &quot;properties&quot;: {&quot;Chlorophyll A (ug/L)&quot;: null, &quot;Date&quot;: &quot;7/13/2022&quot;, &quot;E. coli. (Ct./100 mL)&quot;: null, &quot;Fecal Coliform (Ct./100 mL)&quot;: null, &quot;Irr./Storm Event&quot;: &quot;Grab 2&quot;, &quot;Latitude&quot;: 40.289025, &quot;Location&quot;: &quot;Yampa Valley&quot;, &quot;Longitude&quot;: -106.8195, &quot;NH4 (mg/L)&quot;: null, &quot;NO3 (mg/L)&quot;: null, &quot;Orthophosphate (mg/L)&quot;: null, &quot;Replication ID&quot;: 1, &quot;Sample ID&quot;: &quot;SB-TR-02-GB&quot;, &quot;Sample Type&quot;: &quot;TR&quot;, &quot;Selenium (mg/L)&quot;: null, &quot;TKN (mg/L)&quot;: null, &quot;TSS (mg/L)&quot;: 16.66666667, &quot;Total Phosphorus (mg/L)&quot;: null, &quot;Year&quot;: 2022, &quot;no2&quot;: 0.71, &quot;notes&quot;: &quot;formally mislabelled; correct ID is shown here&quot;}, &quot;type&quot;: &quot;Feature&quot;}, {&quot;bbox&quot;: [-106.8195, 40.289025, -106.8195, 40.289025], &quot;geometry&quot;: {&quot;coordinates&quot;: [-106.8195, 40.289025], &quot;type&quot;: &quot;Point&quot;}, &quot;id&quot;: &quot;13&quot;, &quot;properties&quot;: {&quot;Chlorophyll A (ug/L)&quot;: null, &quot;Date&quot;: &quot;7/13/2022&quot;, &quot;E. coli. (Ct./100 mL)&quot;: null, &quot;Fecal Coliform (Ct./100 mL)&quot;: null, &quot;Irr./Storm Event&quot;: &quot;Grab 2&quot;, &quot;Latitude&quot;: 40.289025, &quot;Location&quot;: &quot;Yampa Valley&quot;, &quot;Longitude&quot;: -106.8195, &quot;NH4 (mg/L)&quot;: null, &quot;NO3 (mg/L)&quot;: null, &quot;Orthophosphate (mg/L)&quot;: null, &quot;Replication ID&quot;: 2, &quot;Sample ID&quot;: &quot;SB-TR-02-GB-D&quot;, &quot;Sample Type&quot;: &quot;TR&quot;, &quot;Selenium (mg/L)&quot;: null, &quot;TKN (mg/L)&quot;: null, &quot;TSS (mg/L)&quot;: 3.333333333, &quot;Total Phosphorus (mg/L)&quot;: 0.057, &quot;Year&quot;: 2022, &quot;no2&quot;: 0.71, &quot;notes&quot;: &quot;formally mislabelled; correct ID is shown here&quot;}, &quot;type&quot;: &quot;Feature&quot;}], &quot;type&quot;: &quot;FeatureCollection&quot;});\n",
       "\n",
       "        \n",
       "    \n",
       "    geo_json_024f087cbb4375c6a585bf980b4d382e.bindTooltip(\n",
       "    function(layer){\n",
       "    let div = L.DomUtil.create(&#x27;div&#x27;);\n",
       "    \n",
       "    let handleObject = feature=&gt;typeof(feature)==&#x27;object&#x27; ? JSON.stringify(feature) : feature;\n",
       "    let fields = [&quot;Location&quot;, &quot;Date&quot;, &quot;Irr./Storm Event&quot;, &quot;Sample Type&quot;, &quot;Replication ID&quot;, &quot;Sample ID&quot;, &quot;Orthophosphate (mg/L)&quot;, &quot;NO3 (mg/L)&quot;, &quot;NH4 (mg/L)&quot;, &quot;no2&quot;, &quot;TKN (mg/L)&quot;, &quot;Total Phosphorus (mg/L)&quot;, &quot;Selenium (mg/L)&quot;, &quot;E. coli. (Ct./100 mL)&quot;, &quot;Fecal Coliform (Ct./100 mL)&quot;, &quot;TSS (mg/L)&quot;, &quot;Chlorophyll A (ug/L)&quot;, &quot;Latitude&quot;, &quot;Longitude&quot;, &quot;notes&quot;, &quot;Year&quot;];\n",
       "    let aliases = [&quot;Location&quot;, &quot;Date&quot;, &quot;Irr./Storm Event&quot;, &quot;Sample Type&quot;, &quot;Replication ID&quot;, &quot;Sample ID&quot;, &quot;Orthophosphate (mg/L)&quot;, &quot;NO3 (mg/L)&quot;, &quot;NH4 (mg/L)&quot;, &quot;no2&quot;, &quot;TKN (mg/L)&quot;, &quot;Total Phosphorus (mg/L)&quot;, &quot;Selenium (mg/L)&quot;, &quot;E. coli. (Ct./100 mL)&quot;, &quot;Fecal Coliform (Ct./100 mL)&quot;, &quot;TSS (mg/L)&quot;, &quot;Chlorophyll A (ug/L)&quot;, &quot;Latitude&quot;, &quot;Longitude&quot;, &quot;notes&quot;, &quot;Year&quot;];\n",
       "    let table = &#x27;&lt;table&gt;&#x27; +\n",
       "        String(\n",
       "        fields.map(\n",
       "        (v,i)=&gt;\n",
       "        `&lt;tr&gt;\n",
       "            &lt;th&gt;${aliases[i]}&lt;/th&gt;\n",
       "            \n",
       "            &lt;td&gt;${handleObject(layer.feature.properties[v])}&lt;/td&gt;\n",
       "        &lt;/tr&gt;`).join(&#x27;&#x27;))\n",
       "    +&#x27;&lt;/table&gt;&#x27;;\n",
       "    div.innerHTML=table;\n",
       "    \n",
       "    return div\n",
       "    }\n",
       "    ,{&quot;className&quot;: &quot;foliumtooltip&quot;, &quot;sticky&quot;: true});\n",
       "                     \n",
       "&lt;/script&gt;\" style=\"position:absolute;width:100%;height:100%;left:0;top:0;border:none !important;\" allowfullscreen webkitallowfullscreen mozallowfullscreen></iframe></div></div>"
      ],
      "text/plain": [
       "<folium.folium.Map at 0x2ba90783820>"
      ]
     },
     "execution_count": 35,
     "metadata": {},
     "output_type": "execute_result"
    }
   ],
   "source": [
    "gdf = gpd.GeoDataFrame(df, geometry=gpd.points_from_xy(df.Longitude, df.Latitude))\n",
    "# Call CO Boundaries from US Census\n",
    "state_df = gpd.read_file(\"https://datascience.quantecon.org/assets/data/cb_2016_us_state_5m.zip\")\n",
    "\n",
    "# Call CO Country Boundaries from US Census\n",
    "county_df = gpd.read_file(\"https://datascience.quantecon.org/assets/data/cb_2016_us_county_5m.zip\")\n",
    "county_df = county_df.query(\"STATEFP == '08'\")\n",
    "county_df = county_df.query(\"COUNTYFP == '107'\")\n",
    "\n",
    "# Set coordinate system to WGS 84 decimal degrees: https://geopandas.org/en/stable/docs/user_guide/projections.html\n",
    "gdf = gdf.set_crs('epsg:4326', allow_override=True)\n",
    "\n",
    "# Initialize Point map (optional, default will be to use interactive map below instead)\n",
    "# fig, gax = plt.subplots(figsize=(10, 10))\n",
    "\n",
    "# state_df.query(\"NAME == 'Colorado'\").plot(ax=gax, edgecolor=\"black\", color=\"white\")\n",
    "# county_df.plot(ax=gax, edgecolor=\"black\", color=\"white\")\n",
    "# gdf.plot(ax=gax, color='red')\n",
    "# plt.show()\n",
    "gdf.explore(marker_type='marker')"
   ]
  },
  {
   "cell_type": "markdown",
   "id": "2a0e9d57-02a5-4849-a0ff-a9f584cbee8d",
   "metadata": {
    "tags": []
   },
   "source": [
    "## Interactive Graphics <a name=\"graphics\"></a>"
   ]
  },
  {
   "cell_type": "code",
   "execution_count": 36,
   "id": "2b1e4678-d00d-44df-a0ef-e8c5401d5382",
   "metadata": {},
   "outputs": [],
   "source": [
    "df = df.drop('geometry', axis=1)"
   ]
  },
  {
   "cell_type": "markdown",
   "id": "009a61b5-658a-4824-8404-5e2716fc195c",
   "metadata": {
    "tags": []
   },
   "source": [
    "### Boxplot <a name=\"Boxplot\"></a>"
   ]
  },
  {
   "cell_type": "markdown",
   "id": "15146656-f860-4505-8f80-10565cb5d47b",
   "metadata": {},
   "source": [
    "Use the below boxplot to graph various water analytes stratified by sample type (i.e., Inflow, Outflow, etc.).\n",
    "Analytes can be selected by using the dropdown menu on the top left of the graph.\n",
    "Hover over points with your mouse for additional information."
   ]
  },
  {
   "cell_type": "code",
   "execution_count": 39,
   "id": "59ddb2de-f6f0-4355-8625-b45487c14453",
   "metadata": {
    "tags": []
   },
   "outputs": [
    {
     "ename": "ValueError",
     "evalue": "Value of 'x' is not the name of a column in 'data_frame'. Expected one of ['Replication ID', 'Orthophosphate (mg/L)', 'NO3 (mg/L)', 'NH4 (mg/L)', 'no2', 'TKN (mg/L)', 'Total Phosphorus (mg/L)', 'Selenium (mg/L)', 'E. coli. (Ct./100 mL)', 'Fecal Coliform (Ct./100 mL)', 'TSS (mg/L)', 'Chlorophyll A (ug/L)', 'Latitude', 'Longitude', 'Year', 'Plot'] but received: Sample Type",
     "output_type": "error",
     "traceback": [
      "\u001b[1;31m---------------------------------------------------------------------------\u001b[0m",
      "\u001b[1;31mValueError\u001b[0m                                Traceback (most recent call last)",
      "Input \u001b[1;32mIn [39]\u001b[0m, in \u001b[0;36m<cell line: 7>\u001b[1;34m()\u001b[0m\n\u001b[0;32m      6\u001b[0m fig \u001b[38;5;241m=\u001b[39m go\u001b[38;5;241m.\u001b[39mFigure()\n\u001b[0;32m      7\u001b[0m \u001b[38;5;28;01mfor\u001b[39;00m col \u001b[38;5;129;01min\u001b[39;00m cols:\n\u001b[1;32m----> 8\u001b[0m     figpx \u001b[38;5;241m=\u001b[39m \u001b[43mpx\u001b[49m\u001b[38;5;241;43m.\u001b[39;49m\u001b[43mviolin\u001b[49m\u001b[43m(\u001b[49m\u001b[43mdf\u001b[49m\u001b[38;5;241;43m.\u001b[39;49m\u001b[43massign\u001b[49m\u001b[43m(\u001b[49m\u001b[43mPlot\u001b[49m\u001b[38;5;241;43m=\u001b[39;49m\u001b[43mcol\u001b[49m\u001b[43m)\u001b[49m\u001b[43m,\u001b[49m\u001b[43m \u001b[49m\u001b[38;5;66;43;03m#change this to px.box for only boxplot\u001b[39;49;00m\n\u001b[0;32m      9\u001b[0m \u001b[43m                   \u001b[49m\u001b[38;5;66;43;03m#x='Station', \u001b[39;49;00m\n\u001b[0;32m     10\u001b[0m \u001b[43m                   \u001b[49m\u001b[43mx\u001b[49m\u001b[38;5;241;43m=\u001b[39;49m\u001b[38;5;124;43m'\u001b[39;49m\u001b[38;5;124;43mSample Type\u001b[39;49m\u001b[38;5;124;43m'\u001b[39;49m\u001b[43m,\u001b[49m\u001b[43m \u001b[49m\n\u001b[0;32m     11\u001b[0m \u001b[43m                   \u001b[49m\u001b[43my\u001b[49m\u001b[38;5;241;43m=\u001b[39;49m\u001b[43mcol\u001b[49m\u001b[43m,\u001b[49m\u001b[43m \u001b[49m\n\u001b[0;32m     12\u001b[0m \u001b[43m                   \u001b[49m\u001b[38;5;66;43;03m#color='Station', \u001b[39;49;00m\n\u001b[0;32m     13\u001b[0m \u001b[43m                   \u001b[49m\u001b[43mcolor\u001b[49m\u001b[38;5;241;43m=\u001b[39;49m\u001b[38;5;124;43m'\u001b[39;49m\u001b[38;5;124;43mSample Type\u001b[39;49m\u001b[38;5;124;43m'\u001b[39;49m\u001b[43m,\u001b[49m\u001b[43m \u001b[49m\n\u001b[0;32m     14\u001b[0m \u001b[43m                   \u001b[49m\u001b[43mpoints\u001b[49m\u001b[38;5;241;43m=\u001b[39;49m\u001b[38;5;124;43m'\u001b[39;49m\u001b[38;5;124;43mall\u001b[39;49m\u001b[38;5;124;43m'\u001b[39;49m\u001b[43m,\u001b[49m\n\u001b[0;32m     15\u001b[0m \u001b[43m                   \u001b[49m\u001b[43mbox\u001b[49m\u001b[38;5;241;43m=\u001b[39;49m\u001b[38;5;28;43;01mTrue\u001b[39;49;00m\u001b[43m,\u001b[49m\u001b[43m \u001b[49m\u001b[38;5;66;43;03m# comment this line out for only boxplot\u001b[39;49;00m\n\u001b[0;32m     16\u001b[0m \u001b[43m                   \u001b[49m\u001b[43mhover_name\u001b[49m\u001b[38;5;241;43m=\u001b[39;49m\u001b[38;5;124;43m'\u001b[39;49m\u001b[38;5;124;43mSample ID\u001b[39;49m\u001b[38;5;124;43m'\u001b[39;49m\u001b[43m,\u001b[49m\n\u001b[0;32m     17\u001b[0m \u001b[43m                   \u001b[49m\u001b[43mhover_data\u001b[49m\u001b[38;5;241;43m=\u001b[39;49m\u001b[43m[\u001b[49m\u001b[38;5;124;43m'\u001b[39;49m\u001b[38;5;124;43mPlot\u001b[39;49m\u001b[38;5;124;43m'\u001b[39;49m\u001b[43m]\u001b[49m\u001b[43m)\u001b[49m\u001b[38;5;241m.\u001b[39mupdate_traces(visible\u001b[38;5;241m=\u001b[39m\u001b[38;5;28;01mFalse\u001b[39;00m)\n\u001b[0;32m     19\u001b[0m     fig\u001b[38;5;241m.\u001b[39madd_traces(figpx\u001b[38;5;241m.\u001b[39mdata)\n\u001b[0;32m     21\u001b[0m fig\u001b[38;5;241m.\u001b[39mupdate_layout(\n\u001b[0;32m     22\u001b[0m     updatemenus\u001b[38;5;241m=\u001b[39m[\n\u001b[0;32m     23\u001b[0m         {\n\u001b[1;32m   (...)\u001b[0m\n\u001b[0;32m     39\u001b[0m     autotypenumbers\u001b[38;5;241m=\u001b[39m\u001b[38;5;124m'\u001b[39m\u001b[38;5;124mconvert types\u001b[39m\u001b[38;5;124m'\u001b[39m\n\u001b[0;32m     40\u001b[0m )\u001b[38;5;241m.\u001b[39mupdate_traces(visible\u001b[38;5;241m=\u001b[39m\u001b[38;5;28;01mTrue\u001b[39;00m, selector\u001b[38;5;241m=\u001b[39m\u001b[38;5;28;01mlambda\u001b[39;00m t: t\u001b[38;5;241m.\u001b[39mcustomdata[\u001b[38;5;241m0\u001b[39m][\u001b[38;5;241m0\u001b[39m]\u001b[38;5;241m==\u001b[39mcols[\u001b[38;5;241m0\u001b[39m] )\n",
      "File \u001b[1;32m~\\Miniconda3\\envs\\playground2\\lib\\site-packages\\plotly\\express\\_chart_types.py:608\u001b[0m, in \u001b[0;36mviolin\u001b[1;34m(data_frame, x, y, color, facet_row, facet_col, facet_col_wrap, facet_row_spacing, facet_col_spacing, hover_name, hover_data, custom_data, animation_frame, animation_group, category_orders, labels, color_discrete_sequence, color_discrete_map, orientation, violinmode, log_x, log_y, range_x, range_y, points, box, title, template, width, height)\u001b[0m\n\u001b[0;32m    572\u001b[0m \u001b[38;5;28;01mdef\u001b[39;00m \u001b[38;5;21mviolin\u001b[39m(\n\u001b[0;32m    573\u001b[0m     data_frame\u001b[38;5;241m=\u001b[39m\u001b[38;5;28;01mNone\u001b[39;00m,\n\u001b[0;32m    574\u001b[0m     x\u001b[38;5;241m=\u001b[39m\u001b[38;5;28;01mNone\u001b[39;00m,\n\u001b[1;32m   (...)\u001b[0m\n\u001b[0;32m    602\u001b[0m     height\u001b[38;5;241m=\u001b[39m\u001b[38;5;28;01mNone\u001b[39;00m,\n\u001b[0;32m    603\u001b[0m ) \u001b[38;5;241m-\u001b[39m\u001b[38;5;241m>\u001b[39m go\u001b[38;5;241m.\u001b[39mFigure:\n\u001b[0;32m    604\u001b[0m     \u001b[38;5;124;03m\"\"\"\u001b[39;00m\n\u001b[0;32m    605\u001b[0m \u001b[38;5;124;03m    In a violin plot, rows of `data_frame` are grouped together into a\u001b[39;00m\n\u001b[0;32m    606\u001b[0m \u001b[38;5;124;03m    curved mark to visualize their distribution.\u001b[39;00m\n\u001b[0;32m    607\u001b[0m \u001b[38;5;124;03m    \"\"\"\u001b[39;00m\n\u001b[1;32m--> 608\u001b[0m     \u001b[38;5;28;01mreturn\u001b[39;00m \u001b[43mmake_figure\u001b[49m\u001b[43m(\u001b[49m\n\u001b[0;32m    609\u001b[0m \u001b[43m        \u001b[49m\u001b[43margs\u001b[49m\u001b[38;5;241;43m=\u001b[39;49m\u001b[38;5;28;43mlocals\u001b[39;49m\u001b[43m(\u001b[49m\u001b[43m)\u001b[49m\u001b[43m,\u001b[49m\n\u001b[0;32m    610\u001b[0m \u001b[43m        \u001b[49m\u001b[43mconstructor\u001b[49m\u001b[38;5;241;43m=\u001b[39;49m\u001b[43mgo\u001b[49m\u001b[38;5;241;43m.\u001b[39;49m\u001b[43mViolin\u001b[49m\u001b[43m,\u001b[49m\n\u001b[0;32m    611\u001b[0m \u001b[43m        \u001b[49m\u001b[43mtrace_patch\u001b[49m\u001b[38;5;241;43m=\u001b[39;49m\u001b[38;5;28;43mdict\u001b[39;49m\u001b[43m(\u001b[49m\n\u001b[0;32m    612\u001b[0m \u001b[43m            \u001b[49m\u001b[43mpoints\u001b[49m\u001b[38;5;241;43m=\u001b[39;49m\u001b[43mpoints\u001b[49m\u001b[43m,\u001b[49m\n\u001b[0;32m    613\u001b[0m \u001b[43m            \u001b[49m\u001b[43mbox\u001b[49m\u001b[38;5;241;43m=\u001b[39;49m\u001b[38;5;28;43mdict\u001b[39;49m\u001b[43m(\u001b[49m\u001b[43mvisible\u001b[49m\u001b[38;5;241;43m=\u001b[39;49m\u001b[43mbox\u001b[49m\u001b[43m)\u001b[49m\u001b[43m,\u001b[49m\n\u001b[0;32m    614\u001b[0m \u001b[43m            \u001b[49m\u001b[43mscalegroup\u001b[49m\u001b[38;5;241;43m=\u001b[39;49m\u001b[38;5;28;43;01mTrue\u001b[39;49;00m\u001b[43m,\u001b[49m\n\u001b[0;32m    615\u001b[0m \u001b[43m            \u001b[49m\u001b[43mx0\u001b[49m\u001b[38;5;241;43m=\u001b[39;49m\u001b[38;5;124;43m\"\u001b[39;49m\u001b[38;5;124;43m \u001b[39;49m\u001b[38;5;124;43m\"\u001b[39;49m\u001b[43m,\u001b[49m\n\u001b[0;32m    616\u001b[0m \u001b[43m            \u001b[49m\u001b[43my0\u001b[49m\u001b[38;5;241;43m=\u001b[39;49m\u001b[38;5;124;43m\"\u001b[39;49m\u001b[38;5;124;43m \u001b[39;49m\u001b[38;5;124;43m\"\u001b[39;49m\u001b[43m,\u001b[49m\n\u001b[0;32m    617\u001b[0m \u001b[43m        \u001b[49m\u001b[43m)\u001b[49m\u001b[43m,\u001b[49m\n\u001b[0;32m    618\u001b[0m \u001b[43m        \u001b[49m\u001b[43mlayout_patch\u001b[49m\u001b[38;5;241;43m=\u001b[39;49m\u001b[38;5;28;43mdict\u001b[39;49m\u001b[43m(\u001b[49m\u001b[43mviolinmode\u001b[49m\u001b[38;5;241;43m=\u001b[39;49m\u001b[43mviolinmode\u001b[49m\u001b[43m)\u001b[49m\u001b[43m,\u001b[49m\n\u001b[0;32m    619\u001b[0m \u001b[43m    \u001b[49m\u001b[43m)\u001b[49m\n",
      "File \u001b[1;32m~\\Miniconda3\\envs\\playground2\\lib\\site-packages\\plotly\\express\\_core.py:1990\u001b[0m, in \u001b[0;36mmake_figure\u001b[1;34m(args, constructor, trace_patch, layout_patch)\u001b[0m\n\u001b[0;32m   1987\u001b[0m layout_patch \u001b[38;5;241m=\u001b[39m layout_patch \u001b[38;5;129;01mor\u001b[39;00m {}\n\u001b[0;32m   1988\u001b[0m apply_default_cascade(args)\n\u001b[1;32m-> 1990\u001b[0m args \u001b[38;5;241m=\u001b[39m \u001b[43mbuild_dataframe\u001b[49m\u001b[43m(\u001b[49m\u001b[43margs\u001b[49m\u001b[43m,\u001b[49m\u001b[43m \u001b[49m\u001b[43mconstructor\u001b[49m\u001b[43m)\u001b[49m\n\u001b[0;32m   1991\u001b[0m \u001b[38;5;28;01mif\u001b[39;00m constructor \u001b[38;5;129;01min\u001b[39;00m [go\u001b[38;5;241m.\u001b[39mTreemap, go\u001b[38;5;241m.\u001b[39mSunburst, go\u001b[38;5;241m.\u001b[39mIcicle] \u001b[38;5;129;01mand\u001b[39;00m args[\u001b[38;5;124m\"\u001b[39m\u001b[38;5;124mpath\u001b[39m\u001b[38;5;124m\"\u001b[39m] \u001b[38;5;129;01mis\u001b[39;00m \u001b[38;5;129;01mnot\u001b[39;00m \u001b[38;5;28;01mNone\u001b[39;00m:\n\u001b[0;32m   1992\u001b[0m     args \u001b[38;5;241m=\u001b[39m process_dataframe_hierarchy(args)\n",
      "File \u001b[1;32m~\\Miniconda3\\envs\\playground2\\lib\\site-packages\\plotly\\express\\_core.py:1405\u001b[0m, in \u001b[0;36mbuild_dataframe\u001b[1;34m(args, constructor)\u001b[0m\n\u001b[0;32m   1402\u001b[0m     args[\u001b[38;5;124m\"\u001b[39m\u001b[38;5;124mcolor\u001b[39m\u001b[38;5;124m\"\u001b[39m] \u001b[38;5;241m=\u001b[39m \u001b[38;5;28;01mNone\u001b[39;00m\n\u001b[0;32m   1403\u001b[0m \u001b[38;5;66;03m# now that things have been prepped, we do the systematic rewriting of `args`\u001b[39;00m\n\u001b[1;32m-> 1405\u001b[0m df_output, wide_id_vars \u001b[38;5;241m=\u001b[39m \u001b[43mprocess_args_into_dataframe\u001b[49m\u001b[43m(\u001b[49m\n\u001b[0;32m   1406\u001b[0m \u001b[43m    \u001b[49m\u001b[43margs\u001b[49m\u001b[43m,\u001b[49m\u001b[43m \u001b[49m\u001b[43mwide_mode\u001b[49m\u001b[43m,\u001b[49m\u001b[43m \u001b[49m\u001b[43mvar_name\u001b[49m\u001b[43m,\u001b[49m\u001b[43m \u001b[49m\u001b[43mvalue_name\u001b[49m\n\u001b[0;32m   1407\u001b[0m \u001b[43m\u001b[49m\u001b[43m)\u001b[49m\n\u001b[0;32m   1409\u001b[0m \u001b[38;5;66;03m# now that `df_output` exists and `args` contains only references, we complete\u001b[39;00m\n\u001b[0;32m   1410\u001b[0m \u001b[38;5;66;03m# the special-case and wide-mode handling by further rewriting args and/or mutating\u001b[39;00m\n\u001b[0;32m   1411\u001b[0m \u001b[38;5;66;03m# df_output\u001b[39;00m\n\u001b[0;32m   1413\u001b[0m count_name \u001b[38;5;241m=\u001b[39m _escape_col_name(df_output, \u001b[38;5;124m\"\u001b[39m\u001b[38;5;124mcount\u001b[39m\u001b[38;5;124m\"\u001b[39m, [var_name, value_name])\n",
      "File \u001b[1;32m~\\Miniconda3\\envs\\playground2\\lib\\site-packages\\plotly\\express\\_core.py:1207\u001b[0m, in \u001b[0;36mprocess_args_into_dataframe\u001b[1;34m(args, wide_mode, var_name, value_name)\u001b[0m\n\u001b[0;32m   1205\u001b[0m         \u001b[38;5;28;01mif\u001b[39;00m argument \u001b[38;5;241m==\u001b[39m \u001b[38;5;124m\"\u001b[39m\u001b[38;5;124mindex\u001b[39m\u001b[38;5;124m\"\u001b[39m:\n\u001b[0;32m   1206\u001b[0m             err_msg \u001b[38;5;241m+\u001b[39m\u001b[38;5;241m=\u001b[39m \u001b[38;5;124m\"\u001b[39m\u001b[38;5;130;01m\\n\u001b[39;00m\u001b[38;5;124m To use the index, pass it in directly as `df.index`.\u001b[39m\u001b[38;5;124m\"\u001b[39m\n\u001b[1;32m-> 1207\u001b[0m         \u001b[38;5;28;01mraise\u001b[39;00m \u001b[38;5;167;01mValueError\u001b[39;00m(err_msg)\n\u001b[0;32m   1208\u001b[0m \u001b[38;5;28;01melif\u001b[39;00m length \u001b[38;5;129;01mand\u001b[39;00m \u001b[38;5;28mlen\u001b[39m(df_input[argument]) \u001b[38;5;241m!=\u001b[39m length:\n\u001b[0;32m   1209\u001b[0m     \u001b[38;5;28;01mraise\u001b[39;00m \u001b[38;5;167;01mValueError\u001b[39;00m(\n\u001b[0;32m   1210\u001b[0m         \u001b[38;5;124m\"\u001b[39m\u001b[38;5;124mAll arguments should have the same length. \u001b[39m\u001b[38;5;124m\"\u001b[39m\n\u001b[0;32m   1211\u001b[0m         \u001b[38;5;124m\"\u001b[39m\u001b[38;5;124mThe length of column argument `df[\u001b[39m\u001b[38;5;132;01m%s\u001b[39;00m\u001b[38;5;124m]` is \u001b[39m\u001b[38;5;132;01m%d\u001b[39;00m\u001b[38;5;124m, whereas the \u001b[39m\u001b[38;5;124m\"\u001b[39m\n\u001b[1;32m   (...)\u001b[0m\n\u001b[0;32m   1218\u001b[0m         )\n\u001b[0;32m   1219\u001b[0m     )\n",
      "\u001b[1;31mValueError\u001b[0m: Value of 'x' is not the name of a column in 'data_frame'. Expected one of ['Replication ID', 'Orthophosphate (mg/L)', 'NO3 (mg/L)', 'NH4 (mg/L)', 'no2', 'TKN (mg/L)', 'Total Phosphorus (mg/L)', 'Selenium (mg/L)', 'E. coli. (Ct./100 mL)', 'Fecal Coliform (Ct./100 mL)', 'TSS (mg/L)', 'Chlorophyll A (ug/L)', 'Latitude', 'Longitude', 'Year', 'Plot'] but received: Sample Type"
     ]
    }
   ],
   "source": [
    "# Helpful link: https://stackoverflow.com/questions/69354451/how-to-add-a-button-to-a-plotly-express-graph-to-update-a-specific-value\n",
    "cols = df.columns.values.tolist()\n",
    "\n",
    "fig = go.Figure()\n",
    "for col in cols:\n",
    "    figpx = px.violin(df.assign(Plot=col), #change this to px.box for only boxplot\n",
    "                   #x='Station', \n",
    "                   x='Sample Type', \n",
    "                   y=col, \n",
    "                   #color='Station', \n",
    "                   color='Sample Type', \n",
    "                   points='all',\n",
    "                   box=True, # comment this line out for only boxplot\n",
    "                   hover_name='Sample ID',\n",
    "                   hover_data=['Plot']).update_traces(visible=False)\n",
    "    \n",
    "    fig.add_traces(figpx.data)\n",
    "\n",
    "fig.update_layout(\n",
    "    updatemenus=[\n",
    "        {\n",
    "            \"buttons\": \n",
    "            [\n",
    "                {\n",
    "                    \"label\": k,\n",
    "                    \"method\": \"update\",\n",
    "                    \"args\": \n",
    "                    [\n",
    "                        {\"visible\": [t.customdata[0][0]==k for t in fig.data]},\n",
    "                    ],\n",
    "                }\n",
    "                for k in cols\n",
    "            ]\n",
    "        }\n",
    "    ],\n",
    "    height=700,\n",
    "    autotypenumbers='convert types'\n",
    ").update_traces(visible=True, selector=lambda t: t.customdata[0][0]==cols[0] )\n",
    "\n",
    "fig.show()"
   ]
  },
  {
   "cell_type": "markdown",
   "id": "27f92225-c1ee-4622-a701-aa78b81e8eb1",
   "metadata": {
    "tags": []
   },
   "source": [
    "### Scatterplot <a name=\"Scatterplot\"></a>"
   ]
  },
  {
   "cell_type": "markdown",
   "id": "49229c9a-d70f-47f9-a8e6-07d8a09cb613",
   "metadata": {},
   "source": [
    "Use the below Scatter plot to graph various water analytes against each other to see potential relationships.\n",
    "Analytes can be selected by using the dropdown menus near top left of the graph.\n",
    "Hover over points with your mouse for additional information."
   ]
  },
  {
   "cell_type": "code",
   "execution_count": 21,
   "id": "a0399a45-5856-43b8-82ff-c18ee794a413",
   "metadata": {
    "tags": []
   },
   "outputs": [
    {
     "data": {
      "application/vnd.plotly.v1+json": {
       "config": {
        "plotlyServerURL": "https://plot.ly"
       },
       "data": [
        {
         "marker": {
          "color": [
           "#1f77b4",
           "#1f77b4",
           "#ff7f0e",
           "#ff7f0e",
           "#2ca02c",
           "#2ca02c",
           "#d62728",
           "#d62728",
           "#1f77b4",
           "#1f77b4",
           "#ff7f0e",
           "#ff7f0e",
           "#2ca02c",
           "#2ca02c"
          ],
          "showscale": true
         },
         "mode": "markers",
         "text": [
          "SCI",
          "SCI",
          "SCA",
          "SCA",
          "TR",
          "TR",
          "SCO",
          "SCO",
          "SCI",
          "SCI",
          "SCA",
          "SCA",
          "TR",
          "TR"
         ],
         "type": "scatter",
         "x": [
          "Yampa Valley",
          "Yampa Valley",
          "Yampa Valley",
          "Yampa Valley",
          "Yampa Valley",
          "Yampa Valley",
          "Yampa Valley",
          "Yampa Valley",
          "Yampa Valley",
          "Yampa Valley",
          "Yampa Valley",
          "Yampa Valley",
          "Yampa Valley",
          "Yampa Valley"
         ],
         "y": [
          "Yampa Valley",
          "Yampa Valley",
          "Yampa Valley",
          "Yampa Valley",
          "Yampa Valley",
          "Yampa Valley",
          "Yampa Valley",
          "Yampa Valley",
          "Yampa Valley",
          "Yampa Valley",
          "Yampa Valley",
          "Yampa Valley",
          "Yampa Valley",
          "Yampa Valley"
         ]
        }
       ],
       "layout": {
        "autosize": true,
        "autotypenumbers": "convert types",
        "margin": {
         "b": 0,
         "l": 0,
         "r": 0,
         "t": 25
        },
        "template": {
         "data": {
          "bar": [
           {
            "error_x": {
             "color": "#2a3f5f"
            },
            "error_y": {
             "color": "#2a3f5f"
            },
            "marker": {
             "line": {
              "color": "#E5ECF6",
              "width": 0.5
             },
             "pattern": {
              "fillmode": "overlay",
              "size": 10,
              "solidity": 0.2
             }
            },
            "type": "bar"
           }
          ],
          "barpolar": [
           {
            "marker": {
             "line": {
              "color": "#E5ECF6",
              "width": 0.5
             },
             "pattern": {
              "fillmode": "overlay",
              "size": 10,
              "solidity": 0.2
             }
            },
            "type": "barpolar"
           }
          ],
          "carpet": [
           {
            "aaxis": {
             "endlinecolor": "#2a3f5f",
             "gridcolor": "white",
             "linecolor": "white",
             "minorgridcolor": "white",
             "startlinecolor": "#2a3f5f"
            },
            "baxis": {
             "endlinecolor": "#2a3f5f",
             "gridcolor": "white",
             "linecolor": "white",
             "minorgridcolor": "white",
             "startlinecolor": "#2a3f5f"
            },
            "type": "carpet"
           }
          ],
          "choropleth": [
           {
            "colorbar": {
             "outlinewidth": 0,
             "ticks": ""
            },
            "type": "choropleth"
           }
          ],
          "contour": [
           {
            "colorbar": {
             "outlinewidth": 0,
             "ticks": ""
            },
            "colorscale": [
             [
              0,
              "#0d0887"
             ],
             [
              0.1111111111111111,
              "#46039f"
             ],
             [
              0.2222222222222222,
              "#7201a8"
             ],
             [
              0.3333333333333333,
              "#9c179e"
             ],
             [
              0.4444444444444444,
              "#bd3786"
             ],
             [
              0.5555555555555556,
              "#d8576b"
             ],
             [
              0.6666666666666666,
              "#ed7953"
             ],
             [
              0.7777777777777778,
              "#fb9f3a"
             ],
             [
              0.8888888888888888,
              "#fdca26"
             ],
             [
              1,
              "#f0f921"
             ]
            ],
            "type": "contour"
           }
          ],
          "contourcarpet": [
           {
            "colorbar": {
             "outlinewidth": 0,
             "ticks": ""
            },
            "type": "contourcarpet"
           }
          ],
          "heatmap": [
           {
            "colorbar": {
             "outlinewidth": 0,
             "ticks": ""
            },
            "colorscale": [
             [
              0,
              "#0d0887"
             ],
             [
              0.1111111111111111,
              "#46039f"
             ],
             [
              0.2222222222222222,
              "#7201a8"
             ],
             [
              0.3333333333333333,
              "#9c179e"
             ],
             [
              0.4444444444444444,
              "#bd3786"
             ],
             [
              0.5555555555555556,
              "#d8576b"
             ],
             [
              0.6666666666666666,
              "#ed7953"
             ],
             [
              0.7777777777777778,
              "#fb9f3a"
             ],
             [
              0.8888888888888888,
              "#fdca26"
             ],
             [
              1,
              "#f0f921"
             ]
            ],
            "type": "heatmap"
           }
          ],
          "heatmapgl": [
           {
            "colorbar": {
             "outlinewidth": 0,
             "ticks": ""
            },
            "colorscale": [
             [
              0,
              "#0d0887"
             ],
             [
              0.1111111111111111,
              "#46039f"
             ],
             [
              0.2222222222222222,
              "#7201a8"
             ],
             [
              0.3333333333333333,
              "#9c179e"
             ],
             [
              0.4444444444444444,
              "#bd3786"
             ],
             [
              0.5555555555555556,
              "#d8576b"
             ],
             [
              0.6666666666666666,
              "#ed7953"
             ],
             [
              0.7777777777777778,
              "#fb9f3a"
             ],
             [
              0.8888888888888888,
              "#fdca26"
             ],
             [
              1,
              "#f0f921"
             ]
            ],
            "type": "heatmapgl"
           }
          ],
          "histogram": [
           {
            "marker": {
             "pattern": {
              "fillmode": "overlay",
              "size": 10,
              "solidity": 0.2
             }
            },
            "type": "histogram"
           }
          ],
          "histogram2d": [
           {
            "colorbar": {
             "outlinewidth": 0,
             "ticks": ""
            },
            "colorscale": [
             [
              0,
              "#0d0887"
             ],
             [
              0.1111111111111111,
              "#46039f"
             ],
             [
              0.2222222222222222,
              "#7201a8"
             ],
             [
              0.3333333333333333,
              "#9c179e"
             ],
             [
              0.4444444444444444,
              "#bd3786"
             ],
             [
              0.5555555555555556,
              "#d8576b"
             ],
             [
              0.6666666666666666,
              "#ed7953"
             ],
             [
              0.7777777777777778,
              "#fb9f3a"
             ],
             [
              0.8888888888888888,
              "#fdca26"
             ],
             [
              1,
              "#f0f921"
             ]
            ],
            "type": "histogram2d"
           }
          ],
          "histogram2dcontour": [
           {
            "colorbar": {
             "outlinewidth": 0,
             "ticks": ""
            },
            "colorscale": [
             [
              0,
              "#0d0887"
             ],
             [
              0.1111111111111111,
              "#46039f"
             ],
             [
              0.2222222222222222,
              "#7201a8"
             ],
             [
              0.3333333333333333,
              "#9c179e"
             ],
             [
              0.4444444444444444,
              "#bd3786"
             ],
             [
              0.5555555555555556,
              "#d8576b"
             ],
             [
              0.6666666666666666,
              "#ed7953"
             ],
             [
              0.7777777777777778,
              "#fb9f3a"
             ],
             [
              0.8888888888888888,
              "#fdca26"
             ],
             [
              1,
              "#f0f921"
             ]
            ],
            "type": "histogram2dcontour"
           }
          ],
          "mesh3d": [
           {
            "colorbar": {
             "outlinewidth": 0,
             "ticks": ""
            },
            "type": "mesh3d"
           }
          ],
          "parcoords": [
           {
            "line": {
             "colorbar": {
              "outlinewidth": 0,
              "ticks": ""
             }
            },
            "type": "parcoords"
           }
          ],
          "pie": [
           {
            "automargin": true,
            "type": "pie"
           }
          ],
          "scatter": [
           {
            "fillpattern": {
             "fillmode": "overlay",
             "size": 10,
             "solidity": 0.2
            },
            "type": "scatter"
           }
          ],
          "scatter3d": [
           {
            "line": {
             "colorbar": {
              "outlinewidth": 0,
              "ticks": ""
             }
            },
            "marker": {
             "colorbar": {
              "outlinewidth": 0,
              "ticks": ""
             }
            },
            "type": "scatter3d"
           }
          ],
          "scattercarpet": [
           {
            "marker": {
             "colorbar": {
              "outlinewidth": 0,
              "ticks": ""
             }
            },
            "type": "scattercarpet"
           }
          ],
          "scattergeo": [
           {
            "marker": {
             "colorbar": {
              "outlinewidth": 0,
              "ticks": ""
             }
            },
            "type": "scattergeo"
           }
          ],
          "scattergl": [
           {
            "marker": {
             "colorbar": {
              "outlinewidth": 0,
              "ticks": ""
             }
            },
            "type": "scattergl"
           }
          ],
          "scattermapbox": [
           {
            "marker": {
             "colorbar": {
              "outlinewidth": 0,
              "ticks": ""
             }
            },
            "type": "scattermapbox"
           }
          ],
          "scatterpolar": [
           {
            "marker": {
             "colorbar": {
              "outlinewidth": 0,
              "ticks": ""
             }
            },
            "type": "scatterpolar"
           }
          ],
          "scatterpolargl": [
           {
            "marker": {
             "colorbar": {
              "outlinewidth": 0,
              "ticks": ""
             }
            },
            "type": "scatterpolargl"
           }
          ],
          "scatterternary": [
           {
            "marker": {
             "colorbar": {
              "outlinewidth": 0,
              "ticks": ""
             }
            },
            "type": "scatterternary"
           }
          ],
          "surface": [
           {
            "colorbar": {
             "outlinewidth": 0,
             "ticks": ""
            },
            "colorscale": [
             [
              0,
              "#0d0887"
             ],
             [
              0.1111111111111111,
              "#46039f"
             ],
             [
              0.2222222222222222,
              "#7201a8"
             ],
             [
              0.3333333333333333,
              "#9c179e"
             ],
             [
              0.4444444444444444,
              "#bd3786"
             ],
             [
              0.5555555555555556,
              "#d8576b"
             ],
             [
              0.6666666666666666,
              "#ed7953"
             ],
             [
              0.7777777777777778,
              "#fb9f3a"
             ],
             [
              0.8888888888888888,
              "#fdca26"
             ],
             [
              1,
              "#f0f921"
             ]
            ],
            "type": "surface"
           }
          ],
          "table": [
           {
            "cells": {
             "fill": {
              "color": "#EBF0F8"
             },
             "line": {
              "color": "white"
             }
            },
            "header": {
             "fill": {
              "color": "#C8D4E3"
             },
             "line": {
              "color": "white"
             }
            },
            "type": "table"
           }
          ]
         },
         "layout": {
          "annotationdefaults": {
           "arrowcolor": "#2a3f5f",
           "arrowhead": 0,
           "arrowwidth": 1
          },
          "autotypenumbers": "strict",
          "coloraxis": {
           "colorbar": {
            "outlinewidth": 0,
            "ticks": ""
           }
          },
          "colorscale": {
           "diverging": [
            [
             0,
             "#8e0152"
            ],
            [
             0.1,
             "#c51b7d"
            ],
            [
             0.2,
             "#de77ae"
            ],
            [
             0.3,
             "#f1b6da"
            ],
            [
             0.4,
             "#fde0ef"
            ],
            [
             0.5,
             "#f7f7f7"
            ],
            [
             0.6,
             "#e6f5d0"
            ],
            [
             0.7,
             "#b8e186"
            ],
            [
             0.8,
             "#7fbc41"
            ],
            [
             0.9,
             "#4d9221"
            ],
            [
             1,
             "#276419"
            ]
           ],
           "sequential": [
            [
             0,
             "#0d0887"
            ],
            [
             0.1111111111111111,
             "#46039f"
            ],
            [
             0.2222222222222222,
             "#7201a8"
            ],
            [
             0.3333333333333333,
             "#9c179e"
            ],
            [
             0.4444444444444444,
             "#bd3786"
            ],
            [
             0.5555555555555556,
             "#d8576b"
            ],
            [
             0.6666666666666666,
             "#ed7953"
            ],
            [
             0.7777777777777778,
             "#fb9f3a"
            ],
            [
             0.8888888888888888,
             "#fdca26"
            ],
            [
             1,
             "#f0f921"
            ]
           ],
           "sequentialminus": [
            [
             0,
             "#0d0887"
            ],
            [
             0.1111111111111111,
             "#46039f"
            ],
            [
             0.2222222222222222,
             "#7201a8"
            ],
            [
             0.3333333333333333,
             "#9c179e"
            ],
            [
             0.4444444444444444,
             "#bd3786"
            ],
            [
             0.5555555555555556,
             "#d8576b"
            ],
            [
             0.6666666666666666,
             "#ed7953"
            ],
            [
             0.7777777777777778,
             "#fb9f3a"
            ],
            [
             0.8888888888888888,
             "#fdca26"
            ],
            [
             1,
             "#f0f921"
            ]
           ]
          },
          "colorway": [
           "#636efa",
           "#EF553B",
           "#00cc96",
           "#ab63fa",
           "#FFA15A",
           "#19d3f3",
           "#FF6692",
           "#B6E880",
           "#FF97FF",
           "#FECB52"
          ],
          "font": {
           "color": "#2a3f5f"
          },
          "geo": {
           "bgcolor": "white",
           "lakecolor": "white",
           "landcolor": "#E5ECF6",
           "showlakes": true,
           "showland": true,
           "subunitcolor": "white"
          },
          "hoverlabel": {
           "align": "left"
          },
          "hovermode": "closest",
          "mapbox": {
           "style": "light"
          },
          "paper_bgcolor": "white",
          "plot_bgcolor": "#E5ECF6",
          "polar": {
           "angularaxis": {
            "gridcolor": "white",
            "linecolor": "white",
            "ticks": ""
           },
           "bgcolor": "#E5ECF6",
           "radialaxis": {
            "gridcolor": "white",
            "linecolor": "white",
            "ticks": ""
           }
          },
          "scene": {
           "xaxis": {
            "backgroundcolor": "#E5ECF6",
            "gridcolor": "white",
            "gridwidth": 2,
            "linecolor": "white",
            "showbackground": true,
            "ticks": "",
            "zerolinecolor": "white"
           },
           "yaxis": {
            "backgroundcolor": "#E5ECF6",
            "gridcolor": "white",
            "gridwidth": 2,
            "linecolor": "white",
            "showbackground": true,
            "ticks": "",
            "zerolinecolor": "white"
           },
           "zaxis": {
            "backgroundcolor": "#E5ECF6",
            "gridcolor": "white",
            "gridwidth": 2,
            "linecolor": "white",
            "showbackground": true,
            "ticks": "",
            "zerolinecolor": "white"
           }
          },
          "shapedefaults": {
           "line": {
            "color": "#2a3f5f"
           }
          },
          "ternary": {
           "aaxis": {
            "gridcolor": "white",
            "linecolor": "white",
            "ticks": ""
           },
           "baxis": {
            "gridcolor": "white",
            "linecolor": "white",
            "ticks": ""
           },
           "bgcolor": "#E5ECF6",
           "caxis": {
            "gridcolor": "white",
            "linecolor": "white",
            "ticks": ""
           }
          },
          "title": {
           "x": 0.05
          },
          "xaxis": {
           "automargin": true,
           "gridcolor": "white",
           "linecolor": "white",
           "ticks": "",
           "title": {
            "standoff": 15
           },
           "zerolinecolor": "white",
           "zerolinewidth": 2
          },
          "yaxis": {
           "automargin": true,
           "gridcolor": "white",
           "linecolor": "white",
           "ticks": "",
           "title": {
            "standoff": 15
           },
           "zerolinecolor": "white",
           "zerolinewidth": 2
          }
         }
        },
        "updatemenus": [
         {
          "buttons": [
           {
            "args": [
             {
              "x": [
               [
                "Yampa Valley",
                "Yampa Valley",
                "Yampa Valley",
                "Yampa Valley",
                "Yampa Valley",
                "Yampa Valley",
                "Yampa Valley",
                "Yampa Valley",
                "Yampa Valley",
                "Yampa Valley",
                "Yampa Valley",
                "Yampa Valley",
                "Yampa Valley",
                "Yampa Valley"
               ]
              ]
             },
             {
              "xaxis": {
               "title": "Location"
              }
             }
            ],
            "label": "x - Location",
            "method": "update"
           },
           {
            "args": [
             {
              "x": [
               [
                "5/26/2022",
                "5/26/2022",
                "5/26/2022",
                "5/26/2022",
                "5/26/2022",
                "5/26/2022",
                "6/16/2022",
                "6/16/2022",
                "7/18/2022",
                "7/18/2022",
                "7/18/2022",
                "7/18/2022",
                "7/13/2022",
                "7/13/2022"
               ]
              ]
             },
             {
              "xaxis": {
               "title": "Date"
              }
             }
            ],
            "label": "x - Date",
            "method": "update"
           },
           {
            "args": [
             {
              "x": [
               [
                "Grab 1",
                "Grab 1",
                "Grab 1",
                "Grab 1",
                "Grab 1",
                "Grab 1",
                "Grab 1",
                "Grab 1",
                "Grab 2",
                "Grab 2",
                "Grab 2",
                "Grab 2",
                "Grab 2",
                "Grab 2"
               ]
              ]
             },
             {
              "xaxis": {
               "title": "Irr./Storm Event"
              }
             }
            ],
            "label": "x - Irr./Storm Event",
            "method": "update"
           },
           {
            "args": [
             {
              "x": [
               [
                "SCI",
                "SCI",
                "SCA",
                "SCA",
                "TR",
                "TR",
                "SCO",
                "SCO",
                "SCI",
                "SCI",
                "SCA",
                "SCA",
                "TR",
                "TR"
               ]
              ]
             },
             {
              "xaxis": {
               "title": "Sample Type"
              }
             }
            ],
            "label": "x - Sample Type",
            "method": "update"
           },
           {
            "args": [
             {
              "x": [
               [
                1,
                2,
                1,
                2,
                1,
                2,
                1,
                2,
                1,
                2,
                1,
                2,
                1,
                2
               ]
              ]
             },
             {
              "xaxis": {
               "title": "Replication ID"
              }
             }
            ],
            "label": "x - Replication ID",
            "method": "update"
           },
           {
            "args": [
             {
              "x": [
               [
                "SB-SCI-01-GB",
                "SB-SCI-01-GB-D",
                "SB-SCA-01-GB",
                "SB-SCA-01-GB-D",
                "SB-TR-01-GB",
                "SB-TR-01-GB-D",
                "SB-SCO-01-GB",
                "SB-SCO-01-GB-D",
                "SB-SCI-02-GB",
                "SB-SCI-02-GB-D",
                "SB-SCA-02-GB",
                "SB-SCA-02-GB-D",
                "SB-TR-02-GB",
                "SB-TR-02-GB-D"
               ]
              ]
             },
             {
              "xaxis": {
               "title": "Sample ID"
              }
             }
            ],
            "label": "x - Sample ID",
            "method": "update"
           },
           {
            "args": [
             {
              "x": [
               [
                null,
                null,
                null,
                null,
                null,
                null,
                null,
                null,
                null,
                null,
                null,
                null,
                null,
                null
               ]
              ]
             },
             {
              "xaxis": {
               "title": "Orthophosphate (mg/L)"
              }
             }
            ],
            "label": "x - Orthophosphate (mg/L)",
            "method": "update"
           },
           {
            "args": [
             {
              "x": [
               [
                null,
                null,
                null,
                null,
                null,
                null,
                null,
                null,
                null,
                null,
                null,
                null,
                null,
                null
               ]
              ]
             },
             {
              "xaxis": {
               "title": "NO3 (mg/L)"
              }
             }
            ],
            "label": "x - NO3 (mg/L)",
            "method": "update"
           },
           {
            "args": [
             {
              "x": [
               [
                null,
                null,
                null,
                null,
                null,
                null,
                null,
                null,
                null,
                null,
                null,
                null,
                null,
                null
               ]
              ]
             },
             {
              "xaxis": {
               "title": "NH4 (mg/L)"
              }
             }
            ],
            "label": "x - NH4 (mg/L)",
            "method": "update"
           },
           {
            "args": [
             {
              "x": [
               [
                null,
                null,
                null,
                null,
                null,
                null,
                null,
                null,
                0.81,
                0.82,
                0.15,
                1.1,
                0.71,
                0.71
               ]
              ]
             },
             {
              "xaxis": {
               "title": "no2"
              }
             }
            ],
            "label": "x - no2",
            "method": "update"
           },
           {
            "args": [
             {
              "x": [
               [
                null,
                null,
                null,
                null,
                null,
                null,
                0.9,
                1.2,
                null,
                null,
                null,
                null,
                null,
                null
               ]
              ]
             },
             {
              "xaxis": {
               "title": "TKN (mg/L)"
              }
             }
            ],
            "label": "x - TKN (mg/L)",
            "method": "update"
           },
           {
            "args": [
             {
              "x": [
               [
                null,
                0.11,
                0.056,
                0.051,
                null,
                0.059,
                0.33,
                0.29,
                null,
                null,
                0.059,
                0.057,
                null,
                0.057
               ]
              ]
             },
             {
              "xaxis": {
               "title": "Total Phosphorus (mg/L)"
              }
             }
            ],
            "label": "x - Total Phosphorus (mg/L)",
            "method": "update"
           },
           {
            "args": [
             {
              "x": [
               [
                null,
                null,
                null,
                null,
                null,
                null,
                null,
                null,
                null,
                null,
                null,
                null,
                null,
                null
               ]
              ]
             },
             {
              "xaxis": {
               "title": "Selenium (mg/L)"
              }
             }
            ],
            "label": "x - Selenium (mg/L)",
            "method": "update"
           },
           {
            "args": [
             {
              "x": [
               [
                null,
                null,
                null,
                null,
                null,
                null,
                null,
                null,
                null,
                null,
                null,
                null,
                null,
                null
               ]
              ]
             },
             {
              "xaxis": {
               "title": "E. coli. (Ct./100 mL)"
              }
             }
            ],
            "label": "x - E. coli. (Ct./100 mL)",
            "method": "update"
           },
           {
            "args": [
             {
              "x": [
               [
                null,
                null,
                null,
                null,
                null,
                null,
                null,
                null,
                null,
                null,
                null,
                null,
                null,
                null
               ]
              ]
             },
             {
              "xaxis": {
               "title": "Fecal Coliform (Ct./100 mL)"
              }
             }
            ],
            "label": "x - Fecal Coliform (Ct./100 mL)",
            "method": "update"
           },
           {
            "args": [
             {
              "x": [
               [
                13.33333333,
                6.666666667,
                20,
                6.666666667,
                0,
                20,
                156.6666667,
                156.6666667,
                0,
                0,
                3.333333333,
                3.333333333,
                16.66666667,
                3.333333333
               ]
              ]
             },
             {
              "xaxis": {
               "title": "TSS (g/L)"
              }
             }
            ],
            "label": "x - TSS (g/L)",
            "method": "update"
           },
           {
            "args": [
             {
              "x": [
               [
                30.65,
                null,
                7.37,
                null,
                14.44,
                null,
                null,
                null,
                null,
                null,
                null,
                null,
                null,
                null
               ]
              ]
             },
             {
              "xaxis": {
               "title": "Chlorophyll A (ug/L)"
              }
             }
            ],
            "label": "x - Chlorophyll A (ug/L)",
            "method": "update"
           },
           {
            "args": [
             {
              "x": [
               [
                40.28528,
                40.28528,
                40.268871,
                40.268871,
                40.289025,
                40.289025,
                40.285947,
                40.285947,
                40.28528,
                40.28528,
                40.268871,
                40.268871,
                40.289025,
                40.289025
               ]
              ]
             },
             {
              "xaxis": {
               "title": "Latitude"
              }
             }
            ],
            "label": "x - Latitude",
            "method": "update"
           },
           {
            "args": [
             {
              "x": [
               [
                -106.846751,
                -106.846751,
                -106.883927,
                -106.883927,
                -106.8195,
                -106.8195,
                -106.829652,
                -106.829652,
                -106.846751,
                -106.846751,
                -106.883927,
                -106.883927,
                -106.8195,
                -106.8195
               ]
              ]
             },
             {
              "xaxis": {
               "title": "Longitude"
              }
             }
            ],
            "label": "x - Longitude",
            "method": "update"
           },
           {
            "args": [
             {
              "x": [
               [
                "nitrite not tested for; no duplicate for chlorophyll A analysis",
                "nitrite not tested for; no duplicate for chlorophyll A analysis",
                "nitrite not tested for; no duplicate for chlorophyll A analysis",
                "nitrite not tested for; no duplicate for chlorophyll A analysis",
                "nitrite not tested for; no duplicate for chlorophyll A analysis",
                "nitrite not tested for; no duplicate for chlorophyll A analysis",
                "nitrite not tested for; ALS also tested TSS = 130ppm",
                "nitrite not tested for; ALS also tested TSS = 140ppm",
                null,
                "TSS was reported as -3.33, but is presented as 0 here",
                null,
                null,
                "formally mislabelled; correct ID is shown here",
                "formally mislabelled; correct ID is shown here"
               ]
              ]
             },
             {
              "xaxis": {
               "title": "notes"
              }
             }
            ],
            "label": "x - notes",
            "method": "update"
           },
           {
            "args": [
             {
              "x": [
               [
                2022,
                2022,
                2022,
                2022,
                2022,
                2022,
                2022,
                2022,
                2022,
                2022,
                2022,
                2022,
                2022,
                2022
               ]
              ]
             },
             {
              "xaxis": {
               "title": "Year"
              }
             }
            ],
            "label": "x - Year",
            "method": "update"
           }
          ]
         },
         {
          "buttons": [
           {
            "args": [
             {
              "y": [
               [
                "Yampa Valley",
                "Yampa Valley",
                "Yampa Valley",
                "Yampa Valley",
                "Yampa Valley",
                "Yampa Valley",
                "Yampa Valley",
                "Yampa Valley",
                "Yampa Valley",
                "Yampa Valley",
                "Yampa Valley",
                "Yampa Valley",
                "Yampa Valley",
                "Yampa Valley"
               ]
              ]
             },
             {
              "yaxis": {
               "title": "Location"
              }
             }
            ],
            "label": "y - Location",
            "method": "update"
           },
           {
            "args": [
             {
              "y": [
               [
                "5/26/2022",
                "5/26/2022",
                "5/26/2022",
                "5/26/2022",
                "5/26/2022",
                "5/26/2022",
                "6/16/2022",
                "6/16/2022",
                "7/18/2022",
                "7/18/2022",
                "7/18/2022",
                "7/18/2022",
                "7/13/2022",
                "7/13/2022"
               ]
              ]
             },
             {
              "yaxis": {
               "title": "Date"
              }
             }
            ],
            "label": "y - Date",
            "method": "update"
           },
           {
            "args": [
             {
              "y": [
               [
                "Grab 1",
                "Grab 1",
                "Grab 1",
                "Grab 1",
                "Grab 1",
                "Grab 1",
                "Grab 1",
                "Grab 1",
                "Grab 2",
                "Grab 2",
                "Grab 2",
                "Grab 2",
                "Grab 2",
                "Grab 2"
               ]
              ]
             },
             {
              "yaxis": {
               "title": "Irr./Storm Event"
              }
             }
            ],
            "label": "y - Irr./Storm Event",
            "method": "update"
           },
           {
            "args": [
             {
              "y": [
               [
                "SCI",
                "SCI",
                "SCA",
                "SCA",
                "TR",
                "TR",
                "SCO",
                "SCO",
                "SCI",
                "SCI",
                "SCA",
                "SCA",
                "TR",
                "TR"
               ]
              ]
             },
             {
              "yaxis": {
               "title": "Sample Type"
              }
             }
            ],
            "label": "y - Sample Type",
            "method": "update"
           },
           {
            "args": [
             {
              "y": [
               [
                1,
                2,
                1,
                2,
                1,
                2,
                1,
                2,
                1,
                2,
                1,
                2,
                1,
                2
               ]
              ]
             },
             {
              "yaxis": {
               "title": "Replication ID"
              }
             }
            ],
            "label": "y - Replication ID",
            "method": "update"
           },
           {
            "args": [
             {
              "y": [
               [
                "SB-SCI-01-GB",
                "SB-SCI-01-GB-D",
                "SB-SCA-01-GB",
                "SB-SCA-01-GB-D",
                "SB-TR-01-GB",
                "SB-TR-01-GB-D",
                "SB-SCO-01-GB",
                "SB-SCO-01-GB-D",
                "SB-SCI-02-GB",
                "SB-SCI-02-GB-D",
                "SB-SCA-02-GB",
                "SB-SCA-02-GB-D",
                "SB-TR-02-GB",
                "SB-TR-02-GB-D"
               ]
              ]
             },
             {
              "yaxis": {
               "title": "Sample ID"
              }
             }
            ],
            "label": "y - Sample ID",
            "method": "update"
           },
           {
            "args": [
             {
              "y": [
               [
                null,
                null,
                null,
                null,
                null,
                null,
                null,
                null,
                null,
                null,
                null,
                null,
                null,
                null
               ]
              ]
             },
             {
              "yaxis": {
               "title": "Orthophosphate (mg/L)"
              }
             }
            ],
            "label": "y - Orthophosphate (mg/L)",
            "method": "update"
           },
           {
            "args": [
             {
              "y": [
               [
                null,
                null,
                null,
                null,
                null,
                null,
                null,
                null,
                null,
                null,
                null,
                null,
                null,
                null
               ]
              ]
             },
             {
              "yaxis": {
               "title": "NO3 (mg/L)"
              }
             }
            ],
            "label": "y - NO3 (mg/L)",
            "method": "update"
           },
           {
            "args": [
             {
              "y": [
               [
                null,
                null,
                null,
                null,
                null,
                null,
                null,
                null,
                null,
                null,
                null,
                null,
                null,
                null
               ]
              ]
             },
             {
              "yaxis": {
               "title": "NH4 (mg/L)"
              }
             }
            ],
            "label": "y - NH4 (mg/L)",
            "method": "update"
           },
           {
            "args": [
             {
              "y": [
               [
                null,
                null,
                null,
                null,
                null,
                null,
                null,
                null,
                0.81,
                0.82,
                0.15,
                1.1,
                0.71,
                0.71
               ]
              ]
             },
             {
              "yaxis": {
               "title": "no2"
              }
             }
            ],
            "label": "y - no2",
            "method": "update"
           },
           {
            "args": [
             {
              "y": [
               [
                null,
                null,
                null,
                null,
                null,
                null,
                0.9,
                1.2,
                null,
                null,
                null,
                null,
                null,
                null
               ]
              ]
             },
             {
              "yaxis": {
               "title": "TKN (mg/L)"
              }
             }
            ],
            "label": "y - TKN (mg/L)",
            "method": "update"
           },
           {
            "args": [
             {
              "y": [
               [
                null,
                0.11,
                0.056,
                0.051,
                null,
                0.059,
                0.33,
                0.29,
                null,
                null,
                0.059,
                0.057,
                null,
                0.057
               ]
              ]
             },
             {
              "yaxis": {
               "title": "Total Phosphorus (mg/L)"
              }
             }
            ],
            "label": "y - Total Phosphorus (mg/L)",
            "method": "update"
           },
           {
            "args": [
             {
              "y": [
               [
                null,
                null,
                null,
                null,
                null,
                null,
                null,
                null,
                null,
                null,
                null,
                null,
                null,
                null
               ]
              ]
             },
             {
              "yaxis": {
               "title": "Selenium (mg/L)"
              }
             }
            ],
            "label": "y - Selenium (mg/L)",
            "method": "update"
           },
           {
            "args": [
             {
              "y": [
               [
                null,
                null,
                null,
                null,
                null,
                null,
                null,
                null,
                null,
                null,
                null,
                null,
                null,
                null
               ]
              ]
             },
             {
              "yaxis": {
               "title": "E. coli. (Ct./100 mL)"
              }
             }
            ],
            "label": "y - E. coli. (Ct./100 mL)",
            "method": "update"
           },
           {
            "args": [
             {
              "y": [
               [
                null,
                null,
                null,
                null,
                null,
                null,
                null,
                null,
                null,
                null,
                null,
                null,
                null,
                null
               ]
              ]
             },
             {
              "yaxis": {
               "title": "Fecal Coliform (Ct./100 mL)"
              }
             }
            ],
            "label": "y - Fecal Coliform (Ct./100 mL)",
            "method": "update"
           },
           {
            "args": [
             {
              "y": [
               [
                13.33333333,
                6.666666667,
                20,
                6.666666667,
                0,
                20,
                156.6666667,
                156.6666667,
                0,
                0,
                3.333333333,
                3.333333333,
                16.66666667,
                3.333333333
               ]
              ]
             },
             {
              "yaxis": {
               "title": "TSS (g/L)"
              }
             }
            ],
            "label": "y - TSS (g/L)",
            "method": "update"
           },
           {
            "args": [
             {
              "y": [
               [
                30.65,
                null,
                7.37,
                null,
                14.44,
                null,
                null,
                null,
                null,
                null,
                null,
                null,
                null,
                null
               ]
              ]
             },
             {
              "yaxis": {
               "title": "Chlorophyll A (ug/L)"
              }
             }
            ],
            "label": "y - Chlorophyll A (ug/L)",
            "method": "update"
           },
           {
            "args": [
             {
              "y": [
               [
                40.28528,
                40.28528,
                40.268871,
                40.268871,
                40.289025,
                40.289025,
                40.285947,
                40.285947,
                40.28528,
                40.28528,
                40.268871,
                40.268871,
                40.289025,
                40.289025
               ]
              ]
             },
             {
              "yaxis": {
               "title": "Latitude"
              }
             }
            ],
            "label": "y - Latitude",
            "method": "update"
           },
           {
            "args": [
             {
              "y": [
               [
                -106.846751,
                -106.846751,
                -106.883927,
                -106.883927,
                -106.8195,
                -106.8195,
                -106.829652,
                -106.829652,
                -106.846751,
                -106.846751,
                -106.883927,
                -106.883927,
                -106.8195,
                -106.8195
               ]
              ]
             },
             {
              "yaxis": {
               "title": "Longitude"
              }
             }
            ],
            "label": "y - Longitude",
            "method": "update"
           },
           {
            "args": [
             {
              "y": [
               [
                "nitrite not tested for; no duplicate for chlorophyll A analysis",
                "nitrite not tested for; no duplicate for chlorophyll A analysis",
                "nitrite not tested for; no duplicate for chlorophyll A analysis",
                "nitrite not tested for; no duplicate for chlorophyll A analysis",
                "nitrite not tested for; no duplicate for chlorophyll A analysis",
                "nitrite not tested for; no duplicate for chlorophyll A analysis",
                "nitrite not tested for; ALS also tested TSS = 130ppm",
                "nitrite not tested for; ALS also tested TSS = 140ppm",
                null,
                "TSS was reported as -3.33, but is presented as 0 here",
                null,
                null,
                "formally mislabelled; correct ID is shown here",
                "formally mislabelled; correct ID is shown here"
               ]
              ]
             },
             {
              "yaxis": {
               "title": "notes"
              }
             }
            ],
            "label": "y - notes",
            "method": "update"
           },
           {
            "args": [
             {
              "y": [
               [
                2022,
                2022,
                2022,
                2022,
                2022,
                2022,
                2022,
                2022,
                2022,
                2022,
                2022,
                2022,
                2022,
                2022
               ]
              ]
             },
             {
              "yaxis": {
               "title": "Year"
              }
             }
            ],
            "label": "y - Year",
            "method": "update"
           }
          ],
          "x": -0.05,
          "y": 0.9
         }
        ],
        "xaxis": {
         "autorange": true,
         "range": [
          -1,
          1
         ],
         "type": "category"
        },
        "yaxis": {
         "autorange": true,
         "range": [
          -1,
          1
         ],
         "type": "category"
        }
       }
      },
      "image/png": "[encoded data removed]",
      "text/html": [
       "<div>                            <div id=\"27f90ecd-c2eb-4c8e-9783-eabfa49187b6\" class=\"plotly-graph-div\" style=\"height:700px; width:100%;\"></div>            <script type=\"text/javascript\">                require([\"plotly\"], function(Plotly) {                    window.PLOTLYENV=window.PLOTLYENV || {};                                    if (document.getElementById(\"27f90ecd-c2eb-4c8e-9783-eabfa49187b6\")) {                    Plotly.newPlot(                        \"27f90ecd-c2eb-4c8e-9783-eabfa49187b6\",                        [{\"marker\":{\"color\":[\"#1f77b4\",\"#1f77b4\",\"#ff7f0e\",\"#ff7f0e\",\"#2ca02c\",\"#2ca02c\",\"#d62728\",\"#d62728\",\"#1f77b4\",\"#1f77b4\",\"#ff7f0e\",\"#ff7f0e\",\"#2ca02c\",\"#2ca02c\"],\"showscale\":true},\"mode\":\"markers\",\"text\":[\"SCI\",\"SCI\",\"SCA\",\"SCA\",\"TR\",\"TR\",\"SCO\",\"SCO\",\"SCI\",\"SCI\",\"SCA\",\"SCA\",\"TR\",\"TR\"],\"x\":[\"Yampa Valley\",\"Yampa Valley\",\"Yampa Valley\",\"Yampa Valley\",\"Yampa Valley\",\"Yampa Valley\",\"Yampa Valley\",\"Yampa Valley\",\"Yampa Valley\",\"Yampa Valley\",\"Yampa Valley\",\"Yampa Valley\",\"Yampa Valley\",\"Yampa Valley\"],\"y\":[\"Yampa Valley\",\"Yampa Valley\",\"Yampa Valley\",\"Yampa Valley\",\"Yampa Valley\",\"Yampa Valley\",\"Yampa Valley\",\"Yampa Valley\",\"Yampa Valley\",\"Yampa Valley\",\"Yampa Valley\",\"Yampa Valley\",\"Yampa Valley\",\"Yampa Valley\"],\"type\":\"scatter\"}],                        {\"template\":{\"data\":{\"histogram2dcontour\":[{\"type\":\"histogram2dcontour\",\"colorbar\":{\"outlinewidth\":0,\"ticks\":\"\"},\"colorscale\":[[0.0,\"#0d0887\"],[0.1111111111111111,\"#46039f\"],[0.2222222222222222,\"#7201a8\"],[0.3333333333333333,\"#9c179e\"],[0.4444444444444444,\"#bd3786\"],[0.5555555555555556,\"#d8576b\"],[0.6666666666666666,\"#ed7953\"],[0.7777777777777778,\"#fb9f3a\"],[0.8888888888888888,\"#fdca26\"],[1.0,\"#f0f921\"]]}],\"choropleth\":[{\"type\":\"choropleth\",\"colorbar\":{\"outlinewidth\":0,\"ticks\":\"\"}}],\"histogram2d\":[{\"type\":\"histogram2d\",\"colorbar\":{\"outlinewidth\":0,\"ticks\":\"\"},\"colorscale\":[[0.0,\"#0d0887\"],[0.1111111111111111,\"#46039f\"],[0.2222222222222222,\"#7201a8\"],[0.3333333333333333,\"#9c179e\"],[0.4444444444444444,\"#bd3786\"],[0.5555555555555556,\"#d8576b\"],[0.6666666666666666,\"#ed7953\"],[0.7777777777777778,\"#fb9f3a\"],[0.8888888888888888,\"#fdca26\"],[1.0,\"#f0f921\"]]}],\"heatmap\":[{\"type\":\"heatmap\",\"colorbar\":{\"outlinewidth\":0,\"ticks\":\"\"},\"colorscale\":[[0.0,\"#0d0887\"],[0.1111111111111111,\"#46039f\"],[0.2222222222222222,\"#7201a8\"],[0.3333333333333333,\"#9c179e\"],[0.4444444444444444,\"#bd3786\"],[0.5555555555555556,\"#d8576b\"],[0.6666666666666666,\"#ed7953\"],[0.7777777777777778,\"#fb9f3a\"],[0.8888888888888888,\"#fdca26\"],[1.0,\"#f0f921\"]]}],\"heatmapgl\":[{\"type\":\"heatmapgl\",\"colorbar\":{\"outlinewidth\":0,\"ticks\":\"\"},\"colorscale\":[[0.0,\"#0d0887\"],[0.1111111111111111,\"#46039f\"],[0.2222222222222222,\"#7201a8\"],[0.3333333333333333,\"#9c179e\"],[0.4444444444444444,\"#bd3786\"],[0.5555555555555556,\"#d8576b\"],[0.6666666666666666,\"#ed7953\"],[0.7777777777777778,\"#fb9f3a\"],[0.8888888888888888,\"#fdca26\"],[1.0,\"#f0f921\"]]}],\"contourcarpet\":[{\"type\":\"contourcarpet\",\"colorbar\":{\"outlinewidth\":0,\"ticks\":\"\"}}],\"contour\":[{\"type\":\"contour\",\"colorbar\":{\"outlinewidth\":0,\"ticks\":\"\"},\"colorscale\":[[0.0,\"#0d0887\"],[0.1111111111111111,\"#46039f\"],[0.2222222222222222,\"#7201a8\"],[0.3333333333333333,\"#9c179e\"],[0.4444444444444444,\"#bd3786\"],[0.5555555555555556,\"#d8576b\"],[0.6666666666666666,\"#ed7953\"],[0.7777777777777778,\"#fb9f3a\"],[0.8888888888888888,\"#fdca26\"],[1.0,\"#f0f921\"]]}],\"surface\":[{\"type\":\"surface\",\"colorbar\":{\"outlinewidth\":0,\"ticks\":\"\"},\"colorscale\":[[0.0,\"#0d0887\"],[0.1111111111111111,\"#46039f\"],[0.2222222222222222,\"#7201a8\"],[0.3333333333333333,\"#9c179e\"],[0.4444444444444444,\"#bd3786\"],[0.5555555555555556,\"#d8576b\"],[0.6666666666666666,\"#ed7953\"],[0.7777777777777778,\"#fb9f3a\"],[0.8888888888888888,\"#fdca26\"],[1.0,\"#f0f921\"]]}],\"mesh3d\":[{\"type\":\"mesh3d\",\"colorbar\":{\"outlinewidth\":0,\"ticks\":\"\"}}],\"scatter\":[{\"fillpattern\":{\"fillmode\":\"overlay\",\"size\":10,\"solidity\":0.2},\"type\":\"scatter\"}],\"parcoords\":[{\"type\":\"parcoords\",\"line\":{\"colorbar\":{\"outlinewidth\":0,\"ticks\":\"\"}}}],\"scatterpolargl\":[{\"type\":\"scatterpolargl\",\"marker\":{\"colorbar\":{\"outlinewidth\":0,\"ticks\":\"\"}}}],\"bar\":[{\"error_x\":{\"color\":\"#2a3f5f\"},\"error_y\":{\"color\":\"#2a3f5f\"},\"marker\":{\"line\":{\"color\":\"#E5ECF6\",\"width\":0.5},\"pattern\":{\"fillmode\":\"overlay\",\"size\":10,\"solidity\":0.2}},\"type\":\"bar\"}],\"scattergeo\":[{\"type\":\"scattergeo\",\"marker\":{\"colorbar\":{\"outlinewidth\":0,\"ticks\":\"\"}}}],\"scatterpolar\":[{\"type\":\"scatterpolar\",\"marker\":{\"colorbar\":{\"outlinewidth\":0,\"ticks\":\"\"}}}],\"histogram\":[{\"marker\":{\"pattern\":{\"fillmode\":\"overlay\",\"size\":10,\"solidity\":0.2}},\"type\":\"histogram\"}],\"scattergl\":[{\"type\":\"scattergl\",\"marker\":{\"colorbar\":{\"outlinewidth\":0,\"ticks\":\"\"}}}],\"scatter3d\":[{\"type\":\"scatter3d\",\"line\":{\"colorbar\":{\"outlinewidth\":0,\"ticks\":\"\"}},\"marker\":{\"colorbar\":{\"outlinewidth\":0,\"ticks\":\"\"}}}],\"scattermapbox\":[{\"type\":\"scattermapbox\",\"marker\":{\"colorbar\":{\"outlinewidth\":0,\"ticks\":\"\"}}}],\"scatterternary\":[{\"type\":\"scatterternary\",\"marker\":{\"colorbar\":{\"outlinewidth\":0,\"ticks\":\"\"}}}],\"scattercarpet\":[{\"type\":\"scattercarpet\",\"marker\":{\"colorbar\":{\"outlinewidth\":0,\"ticks\":\"\"}}}],\"carpet\":[{\"aaxis\":{\"endlinecolor\":\"#2a3f5f\",\"gridcolor\":\"white\",\"linecolor\":\"white\",\"minorgridcolor\":\"white\",\"startlinecolor\":\"#2a3f5f\"},\"baxis\":{\"endlinecolor\":\"#2a3f5f\",\"gridcolor\":\"white\",\"linecolor\":\"white\",\"minorgridcolor\":\"white\",\"startlinecolor\":\"#2a3f5f\"},\"type\":\"carpet\"}],\"table\":[{\"cells\":{\"fill\":{\"color\":\"#EBF0F8\"},\"line\":{\"color\":\"white\"}},\"header\":{\"fill\":{\"color\":\"#C8D4E3\"},\"line\":{\"color\":\"white\"}},\"type\":\"table\"}],\"barpolar\":[{\"marker\":{\"line\":{\"color\":\"#E5ECF6\",\"width\":0.5},\"pattern\":{\"fillmode\":\"overlay\",\"size\":10,\"solidity\":0.2}},\"type\":\"barpolar\"}],\"pie\":[{\"automargin\":true,\"type\":\"pie\"}]},\"layout\":{\"autotypenumbers\":\"strict\",\"colorway\":[\"#636efa\",\"#EF553B\",\"#00cc96\",\"#ab63fa\",\"#FFA15A\",\"#19d3f3\",\"#FF6692\",\"#B6E880\",\"#FF97FF\",\"#FECB52\"],\"font\":{\"color\":\"#2a3f5f\"},\"hovermode\":\"closest\",\"hoverlabel\":{\"align\":\"left\"},\"paper_bgcolor\":\"white\",\"plot_bgcolor\":\"#E5ECF6\",\"polar\":{\"bgcolor\":\"#E5ECF6\",\"angularaxis\":{\"gridcolor\":\"white\",\"linecolor\":\"white\",\"ticks\":\"\"},\"radialaxis\":{\"gridcolor\":\"white\",\"linecolor\":\"white\",\"ticks\":\"\"}},\"ternary\":{\"bgcolor\":\"#E5ECF6\",\"aaxis\":{\"gridcolor\":\"white\",\"linecolor\":\"white\",\"ticks\":\"\"},\"baxis\":{\"gridcolor\":\"white\",\"linecolor\":\"white\",\"ticks\":\"\"},\"caxis\":{\"gridcolor\":\"white\",\"linecolor\":\"white\",\"ticks\":\"\"}},\"coloraxis\":{\"colorbar\":{\"outlinewidth\":0,\"ticks\":\"\"}},\"colorscale\":{\"sequential\":[[0.0,\"#0d0887\"],[0.1111111111111111,\"#46039f\"],[0.2222222222222222,\"#7201a8\"],[0.3333333333333333,\"#9c179e\"],[0.4444444444444444,\"#bd3786\"],[0.5555555555555556,\"#d8576b\"],[0.6666666666666666,\"#ed7953\"],[0.7777777777777778,\"#fb9f3a\"],[0.8888888888888888,\"#fdca26\"],[1.0,\"#f0f921\"]],\"sequentialminus\":[[0.0,\"#0d0887\"],[0.1111111111111111,\"#46039f\"],[0.2222222222222222,\"#7201a8\"],[0.3333333333333333,\"#9c179e\"],[0.4444444444444444,\"#bd3786\"],[0.5555555555555556,\"#d8576b\"],[0.6666666666666666,\"#ed7953\"],[0.7777777777777778,\"#fb9f3a\"],[0.8888888888888888,\"#fdca26\"],[1.0,\"#f0f921\"]],\"diverging\":[[0,\"#8e0152\"],[0.1,\"#c51b7d\"],[0.2,\"#de77ae\"],[0.3,\"#f1b6da\"],[0.4,\"#fde0ef\"],[0.5,\"#f7f7f7\"],[0.6,\"#e6f5d0\"],[0.7,\"#b8e186\"],[0.8,\"#7fbc41\"],[0.9,\"#4d9221\"],[1,\"#276419\"]]},\"xaxis\":{\"gridcolor\":\"white\",\"linecolor\":\"white\",\"ticks\":\"\",\"title\":{\"standoff\":15},\"zerolinecolor\":\"white\",\"automargin\":true,\"zerolinewidth\":2},\"yaxis\":{\"gridcolor\":\"white\",\"linecolor\":\"white\",\"ticks\":\"\",\"title\":{\"standoff\":15},\"zerolinecolor\":\"white\",\"automargin\":true,\"zerolinewidth\":2},\"scene\":{\"xaxis\":{\"backgroundcolor\":\"#E5ECF6\",\"gridcolor\":\"white\",\"linecolor\":\"white\",\"showbackground\":true,\"ticks\":\"\",\"zerolinecolor\":\"white\",\"gridwidth\":2},\"yaxis\":{\"backgroundcolor\":\"#E5ECF6\",\"gridcolor\":\"white\",\"linecolor\":\"white\",\"showbackground\":true,\"ticks\":\"\",\"zerolinecolor\":\"white\",\"gridwidth\":2},\"zaxis\":{\"backgroundcolor\":\"#E5ECF6\",\"gridcolor\":\"white\",\"linecolor\":\"white\",\"showbackground\":true,\"ticks\":\"\",\"zerolinecolor\":\"white\",\"gridwidth\":2}},\"shapedefaults\":{\"line\":{\"color\":\"#2a3f5f\"}},\"annotationdefaults\":{\"arrowcolor\":\"#2a3f5f\",\"arrowhead\":0,\"arrowwidth\":1},\"geo\":{\"bgcolor\":\"white\",\"landcolor\":\"#E5ECF6\",\"subunitcolor\":\"white\",\"showland\":true,\"showlakes\":true,\"lakecolor\":\"white\"},\"title\":{\"x\":0.05},\"mapbox\":{\"style\":\"light\"}}},\"margin\":{\"l\":0,\"r\":0,\"t\":25,\"b\":0},\"updatemenus\":[{\"buttons\":[{\"args\":[{\"x\":[[\"Yampa Valley\",\"Yampa Valley\",\"Yampa Valley\",\"Yampa Valley\",\"Yampa Valley\",\"Yampa Valley\",\"Yampa Valley\",\"Yampa Valley\",\"Yampa Valley\",\"Yampa Valley\",\"Yampa Valley\",\"Yampa Valley\",\"Yampa Valley\",\"Yampa Valley\"]]},{\"xaxis\":{\"title\":\"Location\"}}],\"label\":\"x - Location\",\"method\":\"update\"},{\"args\":[{\"x\":[[\"5/26/2022\",\"5/26/2022\",\"5/26/2022\",\"5/26/2022\",\"5/26/2022\",\"5/26/2022\",\"6/16/2022\",\"6/16/2022\",\"7/18/2022\",\"7/18/2022\",\"7/18/2022\",\"7/18/2022\",\"7/13/2022\",\"7/13/2022\"]]},{\"xaxis\":{\"title\":\"Date\"}}],\"label\":\"x - Date\",\"method\":\"update\"},{\"args\":[{\"x\":[[\"Grab 1\",\"Grab 1\",\"Grab 1\",\"Grab 1\",\"Grab 1\",\"Grab 1\",\"Grab 1\",\"Grab 1\",\"Grab 2\",\"Grab 2\",\"Grab 2\",\"Grab 2\",\"Grab 2\",\"Grab 2\"]]},{\"xaxis\":{\"title\":\"Irr./Storm Event\"}}],\"label\":\"x - Irr./Storm Event\",\"method\":\"update\"},{\"args\":[{\"x\":[[\"SCI\",\"SCI\",\"SCA\",\"SCA\",\"TR\",\"TR\",\"SCO\",\"SCO\",\"SCI\",\"SCI\",\"SCA\",\"SCA\",\"TR\",\"TR\"]]},{\"xaxis\":{\"title\":\"Sample Type\"}}],\"label\":\"x - Sample Type\",\"method\":\"update\"},{\"args\":[{\"x\":[[1,2,1,2,1,2,1,2,1,2,1,2,1,2]]},{\"xaxis\":{\"title\":\"Replication ID\"}}],\"label\":\"x - Replication ID\",\"method\":\"update\"},{\"args\":[{\"x\":[[\"SB-SCI-01-GB\",\"SB-SCI-01-GB-D\",\"SB-SCA-01-GB\",\"SB-SCA-01-GB-D\",\"SB-TR-01-GB\",\"SB-TR-01-GB-D\",\"SB-SCO-01-GB\",\"SB-SCO-01-GB-D\",\"SB-SCI-02-GB\",\"SB-SCI-02-GB-D\",\"SB-SCA-02-GB\",\"SB-SCA-02-GB-D\",\"SB-TR-02-GB\",\"SB-TR-02-GB-D\"]]},{\"xaxis\":{\"title\":\"Sample ID\"}}],\"label\":\"x - Sample ID\",\"method\":\"update\"},{\"args\":[{\"x\":[[null,null,null,null,null,null,null,null,null,null,null,null,null,null]]},{\"xaxis\":{\"title\":\"Orthophosphate (mg/L)\"}}],\"label\":\"x - Orthophosphate (mg/L)\",\"method\":\"update\"},{\"args\":[{\"x\":[[null,null,null,null,null,null,null,null,null,null,null,null,null,null]]},{\"xaxis\":{\"title\":\"NO3 (mg/L)\"}}],\"label\":\"x - NO3 (mg/L)\",\"method\":\"update\"},{\"args\":[{\"x\":[[null,null,null,null,null,null,null,null,null,null,null,null,null,null]]},{\"xaxis\":{\"title\":\"NH4 (mg/L)\"}}],\"label\":\"x - NH4 (mg/L)\",\"method\":\"update\"},{\"args\":[{\"x\":[[null,null,null,null,null,null,null,null,0.81,0.82,0.15,1.1,0.71,0.71]]},{\"xaxis\":{\"title\":\"no2\"}}],\"label\":\"x - no2\",\"method\":\"update\"},{\"args\":[{\"x\":[[null,null,null,null,null,null,0.9,1.2,null,null,null,null,null,null]]},{\"xaxis\":{\"title\":\"TKN (mg/L)\"}}],\"label\":\"x - TKN (mg/L)\",\"method\":\"update\"},{\"args\":[{\"x\":[[null,0.11,0.056,0.051,null,0.059,0.33,0.29,null,null,0.059,0.057,null,0.057]]},{\"xaxis\":{\"title\":\"Total Phosphorus (mg/L)\"}}],\"label\":\"x - Total Phosphorus (mg/L)\",\"method\":\"update\"},{\"args\":[{\"x\":[[null,null,null,null,null,null,null,null,null,null,null,null,null,null]]},{\"xaxis\":{\"title\":\"Selenium (mg/L)\"}}],\"label\":\"x - Selenium (mg/L)\",\"method\":\"update\"},{\"args\":[{\"x\":[[null,null,null,null,null,null,null,null,null,null,null,null,null,null]]},{\"xaxis\":{\"title\":\"E. coli. (Ct./100 mL)\"}}],\"label\":\"x - E. coli. (Ct./100 mL)\",\"method\":\"update\"},{\"args\":[{\"x\":[[null,null,null,null,null,null,null,null,null,null,null,null,null,null]]},{\"xaxis\":{\"title\":\"Fecal Coliform (Ct./100 mL)\"}}],\"label\":\"x - Fecal Coliform (Ct./100 mL)\",\"method\":\"update\"},{\"args\":[{\"x\":[[13.33333333,6.666666667,20.0,6.666666667,0.0,20.0,156.6666667,156.6666667,0.0,0.0,3.333333333,3.333333333,16.66666667,3.333333333]]},{\"xaxis\":{\"title\":\"TSS (g/L)\"}}],\"label\":\"x - TSS (g/L)\",\"method\":\"update\"},{\"args\":[{\"x\":[[30.65,null,7.37,null,14.44,null,null,null,null,null,null,null,null,null]]},{\"xaxis\":{\"title\":\"Chlorophyll A (ug/L)\"}}],\"label\":\"x - Chlorophyll A (ug/L)\",\"method\":\"update\"},{\"args\":[{\"x\":[[40.28528,40.28528,40.268871,40.268871,40.289025,40.289025,40.285947,40.285947,40.28528,40.28528,40.268871,40.268871,40.289025,40.289025]]},{\"xaxis\":{\"title\":\"Latitude\"}}],\"label\":\"x - Latitude\",\"method\":\"update\"},{\"args\":[{\"x\":[[-106.846751,-106.846751,-106.883927,-106.883927,-106.8195,-106.8195,-106.829652,-106.829652,-106.846751,-106.846751,-106.883927,-106.883927,-106.8195,-106.8195]]},{\"xaxis\":{\"title\":\"Longitude\"}}],\"label\":\"x - Longitude\",\"method\":\"update\"},{\"args\":[{\"x\":[[\"nitrite not tested for; no duplicate for chlorophyll A analysis\",\"nitrite not tested for; no duplicate for chlorophyll A analysis\",\"nitrite not tested for; no duplicate for chlorophyll A analysis\",\"nitrite not tested for; no duplicate for chlorophyll A analysis\",\"nitrite not tested for; no duplicate for chlorophyll A analysis\",\"nitrite not tested for; no duplicate for chlorophyll A analysis\",\"nitrite not tested for; ALS also tested TSS = 130ppm\",\"nitrite not tested for; ALS also tested TSS = 140ppm\",null,\"TSS was reported as -3.33, but is presented as 0 here\",null,null,\"formally mislabelled; correct ID is shown here\",\"formally mislabelled; correct ID is shown here\"]]},{\"xaxis\":{\"title\":\"notes\"}}],\"label\":\"x - notes\",\"method\":\"update\"},{\"args\":[{\"x\":[[2022,2022,2022,2022,2022,2022,2022,2022,2022,2022,2022,2022,2022,2022]]},{\"xaxis\":{\"title\":\"Year\"}}],\"label\":\"x - Year\",\"method\":\"update\"}]},{\"buttons\":[{\"args\":[{\"y\":[[\"Yampa Valley\",\"Yampa Valley\",\"Yampa Valley\",\"Yampa Valley\",\"Yampa Valley\",\"Yampa Valley\",\"Yampa Valley\",\"Yampa Valley\",\"Yampa Valley\",\"Yampa Valley\",\"Yampa Valley\",\"Yampa Valley\",\"Yampa Valley\",\"Yampa Valley\"]]},{\"yaxis\":{\"title\":\"Location\"}}],\"label\":\"y - Location\",\"method\":\"update\"},{\"args\":[{\"y\":[[\"5/26/2022\",\"5/26/2022\",\"5/26/2022\",\"5/26/2022\",\"5/26/2022\",\"5/26/2022\",\"6/16/2022\",\"6/16/2022\",\"7/18/2022\",\"7/18/2022\",\"7/18/2022\",\"7/18/2022\",\"7/13/2022\",\"7/13/2022\"]]},{\"yaxis\":{\"title\":\"Date\"}}],\"label\":\"y - Date\",\"method\":\"update\"},{\"args\":[{\"y\":[[\"Grab 1\",\"Grab 1\",\"Grab 1\",\"Grab 1\",\"Grab 1\",\"Grab 1\",\"Grab 1\",\"Grab 1\",\"Grab 2\",\"Grab 2\",\"Grab 2\",\"Grab 2\",\"Grab 2\",\"Grab 2\"]]},{\"yaxis\":{\"title\":\"Irr./Storm Event\"}}],\"label\":\"y - Irr./Storm Event\",\"method\":\"update\"},{\"args\":[{\"y\":[[\"SCI\",\"SCI\",\"SCA\",\"SCA\",\"TR\",\"TR\",\"SCO\",\"SCO\",\"SCI\",\"SCI\",\"SCA\",\"SCA\",\"TR\",\"TR\"]]},{\"yaxis\":{\"title\":\"Sample Type\"}}],\"label\":\"y - Sample Type\",\"method\":\"update\"},{\"args\":[{\"y\":[[1,2,1,2,1,2,1,2,1,2,1,2,1,2]]},{\"yaxis\":{\"title\":\"Replication ID\"}}],\"label\":\"y - Replication ID\",\"method\":\"update\"},{\"args\":[{\"y\":[[\"SB-SCI-01-GB\",\"SB-SCI-01-GB-D\",\"SB-SCA-01-GB\",\"SB-SCA-01-GB-D\",\"SB-TR-01-GB\",\"SB-TR-01-GB-D\",\"SB-SCO-01-GB\",\"SB-SCO-01-GB-D\",\"SB-SCI-02-GB\",\"SB-SCI-02-GB-D\",\"SB-SCA-02-GB\",\"SB-SCA-02-GB-D\",\"SB-TR-02-GB\",\"SB-TR-02-GB-D\"]]},{\"yaxis\":{\"title\":\"Sample ID\"}}],\"label\":\"y - Sample ID\",\"method\":\"update\"},{\"args\":[{\"y\":[[null,null,null,null,null,null,null,null,null,null,null,null,null,null]]},{\"yaxis\":{\"title\":\"Orthophosphate (mg/L)\"}}],\"label\":\"y - Orthophosphate (mg/L)\",\"method\":\"update\"},{\"args\":[{\"y\":[[null,null,null,null,null,null,null,null,null,null,null,null,null,null]]},{\"yaxis\":{\"title\":\"NO3 (mg/L)\"}}],\"label\":\"y - NO3 (mg/L)\",\"method\":\"update\"},{\"args\":[{\"y\":[[null,null,null,null,null,null,null,null,null,null,null,null,null,null]]},{\"yaxis\":{\"title\":\"NH4 (mg/L)\"}}],\"label\":\"y - NH4 (mg/L)\",\"method\":\"update\"},{\"args\":[{\"y\":[[null,null,null,null,null,null,null,null,0.81,0.82,0.15,1.1,0.71,0.71]]},{\"yaxis\":{\"title\":\"no2\"}}],\"label\":\"y - no2\",\"method\":\"update\"},{\"args\":[{\"y\":[[null,null,null,null,null,null,0.9,1.2,null,null,null,null,null,null]]},{\"yaxis\":{\"title\":\"TKN (mg/L)\"}}],\"label\":\"y - TKN (mg/L)\",\"method\":\"update\"},{\"args\":[{\"y\":[[null,0.11,0.056,0.051,null,0.059,0.33,0.29,null,null,0.059,0.057,null,0.057]]},{\"yaxis\":{\"title\":\"Total Phosphorus (mg/L)\"}}],\"label\":\"y - Total Phosphorus (mg/L)\",\"method\":\"update\"},{\"args\":[{\"y\":[[null,null,null,null,null,null,null,null,null,null,null,null,null,null]]},{\"yaxis\":{\"title\":\"Selenium (mg/L)\"}}],\"label\":\"y - Selenium (mg/L)\",\"method\":\"update\"},{\"args\":[{\"y\":[[null,null,null,null,null,null,null,null,null,null,null,null,null,null]]},{\"yaxis\":{\"title\":\"E. coli. (Ct./100 mL)\"}}],\"label\":\"y - E. coli. (Ct./100 mL)\",\"method\":\"update\"},{\"args\":[{\"y\":[[null,null,null,null,null,null,null,null,null,null,null,null,null,null]]},{\"yaxis\":{\"title\":\"Fecal Coliform (Ct./100 mL)\"}}],\"label\":\"y - Fecal Coliform (Ct./100 mL)\",\"method\":\"update\"},{\"args\":[{\"y\":[[13.33333333,6.666666667,20.0,6.666666667,0.0,20.0,156.6666667,156.6666667,0.0,0.0,3.333333333,3.333333333,16.66666667,3.333333333]]},{\"yaxis\":{\"title\":\"TSS (g/L)\"}}],\"label\":\"y - TSS (g/L)\",\"method\":\"update\"},{\"args\":[{\"y\":[[30.65,null,7.37,null,14.44,null,null,null,null,null,null,null,null,null]]},{\"yaxis\":{\"title\":\"Chlorophyll A (ug/L)\"}}],\"label\":\"y - Chlorophyll A (ug/L)\",\"method\":\"update\"},{\"args\":[{\"y\":[[40.28528,40.28528,40.268871,40.268871,40.289025,40.289025,40.285947,40.285947,40.28528,40.28528,40.268871,40.268871,40.289025,40.289025]]},{\"yaxis\":{\"title\":\"Latitude\"}}],\"label\":\"y - Latitude\",\"method\":\"update\"},{\"args\":[{\"y\":[[-106.846751,-106.846751,-106.883927,-106.883927,-106.8195,-106.8195,-106.829652,-106.829652,-106.846751,-106.846751,-106.883927,-106.883927,-106.8195,-106.8195]]},{\"yaxis\":{\"title\":\"Longitude\"}}],\"label\":\"y - Longitude\",\"method\":\"update\"},{\"args\":[{\"y\":[[\"nitrite not tested for; no duplicate for chlorophyll A analysis\",\"nitrite not tested for; no duplicate for chlorophyll A analysis\",\"nitrite not tested for; no duplicate for chlorophyll A analysis\",\"nitrite not tested for; no duplicate for chlorophyll A analysis\",\"nitrite not tested for; no duplicate for chlorophyll A analysis\",\"nitrite not tested for; no duplicate for chlorophyll A analysis\",\"nitrite not tested for; ALS also tested TSS = 130ppm\",\"nitrite not tested for; ALS also tested TSS = 140ppm\",null,\"TSS was reported as -3.33, but is presented as 0 here\",null,null,\"formally mislabelled; correct ID is shown here\",\"formally mislabelled; correct ID is shown here\"]]},{\"yaxis\":{\"title\":\"notes\"}}],\"label\":\"y - notes\",\"method\":\"update\"},{\"args\":[{\"y\":[[2022,2022,2022,2022,2022,2022,2022,2022,2022,2022,2022,2022,2022,2022]]},{\"yaxis\":{\"title\":\"Year\"}}],\"label\":\"y - Year\",\"method\":\"update\"}],\"y\":0.9}],\"height\":700,\"autotypenumbers\":\"convert types\"},                        {\"responsive\": true}                    ).then(function(){\n",
       "                            \n",
       "var gd = document.getElementById('27f90ecd-c2eb-4c8e-9783-eabfa49187b6');\n",
       "var x = new MutationObserver(function (mutations, observer) {{\n",
       "        var display = window.getComputedStyle(gd).display;\n",
       "        if (!display || display === 'none') {{\n",
       "            console.log([gd, 'removed!']);\n",
       "            Plotly.purge(gd);\n",
       "            observer.disconnect();\n",
       "        }}\n",
       "}});\n",
       "\n",
       "// Listen for the removal of the full notebook cells\n",
       "var notebookContainer = gd.closest('#notebook-container');\n",
       "if (notebookContainer) {{\n",
       "    x.observe(notebookContainer, {childList: true});\n",
       "}}\n",
       "\n",
       "// Listen for the clearing of the current output cell\n",
       "var outputEl = gd.closest('.output');\n",
       "if (outputEl) {{\n",
       "    x.observe(outputEl, {childList: true});\n",
       "}}\n",
       "\n",
       "                        })                };                });            </script>        </div>"
      ]
     },
     "metadata": {},
     "output_type": "display_data"
    }
   ],
   "source": [
    "# Helpful link: https://stackoverflow.com/questions/69242033/build-a-plotly-scatterplot-with-two-drop-down-buttons-one-for-x-and-one-for-y-ax\n",
    "# My post: https://stackoverflow.com/questions/71028751/plotly-scatter-plot-with-dropdown-menu-and-color-by-group/71069032#71069032\n",
    "cols = df.columns.values.tolist()\n",
    "# make list of default plotly colors in hex\n",
    "plotly_colors=[\n",
    "                '#1f77b4',  # muted blue\n",
    "                '#ff7f0e',  # safety orange\n",
    "                '#2ca02c',  # cooked asparagus green\n",
    "                '#d62728',  # brick red\n",
    "                '#9467bd',  # muted purple\n",
    "                '#8c564b',  # chestnut brown\n",
    "                '#e377c2',  # raspberry yogurt pink\n",
    "                '#7f7f7f',  # middle gray\n",
    "                '#bcbd22',  # curry yellow-green\n",
    "                '#17becf'   # blue-teal\n",
    "              ]\n",
    "# create dictionary to associate colors with unique categories\n",
    "color_dict = dict(zip(df['Sample Type'].unique(),plotly_colors))\n",
    "\n",
    "# map new column with hex colors to pass to go.Scatter()\n",
    "df['hex']= df['Sample Type'].map(color_dict)\n",
    "# initialize scatter plot\n",
    "fig = go.Figure(\n",
    "    go.Scatter(\n",
    "        x=df['Location'],\n",
    "        y=df['Location'],\n",
    "        text=df['Sample Type'],\n",
    "        marker=dict(color=df['hex'], showscale=True),\n",
    "        mode=\"markers\"\n",
    "    )\n",
    ")\n",
    "# initialize dropdown menus    \n",
    "fig.update_layout(\n",
    "    updatemenus=[\n",
    "        {\n",
    "            \"buttons\": [\n",
    "                {\n",
    "                    \"label\": f\"x - {x}\",\n",
    "                    \"method\": \"update\",\n",
    "                    \"args\": [\n",
    "                        {\"x\": [df[x]]},\n",
    "                        {\"xaxis\": {\"title\": x}},\n",
    "                    ],\n",
    "                }\n",
    "                for x in cols\n",
    "            ]\n",
    "        },\n",
    "        {\n",
    "            \"buttons\": [\n",
    "                {\n",
    "                    \"label\": f\"y - {x}\",\n",
    "                    \"method\": \"update\",\n",
    "                    \"args\": [\n",
    "                        {\"y\": [df[x]]},\n",
    "                        {\"yaxis\": {\"title\": x}}\n",
    "                    ],\n",
    "                }\n",
    "                for x in cols\n",
    "            ],\n",
    "            \"y\": 0.9,\n",
    "        },\n",
    "    ],\n",
    "    margin={\"l\": 0, \"r\": 0, \"t\": 25, \"b\": 0},\n",
    "    height=700,\n",
    "    autotypenumbers='convert types'\n",
    ")\n",
    "fig.show()"
   ]
  },
  {
   "cell_type": "markdown",
   "id": "8ec7d323-ba74-4428-a08a-eeacd20fe508",
   "metadata": {},
   "source": [
    "### Scatter Matrix of All Numerical Values <a name=\"matrix\"></a>"
   ]
  },
  {
   "cell_type": "markdown",
   "id": "db88c8aa-2da6-4e6f-988e-170d563983e6",
   "metadata": {},
   "source": [
    "Use the below scatter matrix to look at potential relationships between numerical variables.  \n",
    "Points are stratified by sample type (i.e., Inflow, Outflow, etc.).\n",
    "Hover over points with your mouse for additional information."
   ]
  },
  {
   "cell_type": "code",
   "execution_count": 10,
   "id": "6b64a28d-d53f-4db9-b170-ef7f1544ded0",
   "metadata": {},
   "outputs": [
    {
     "data": {
      "text/plain": [
       "Index(['Rep', 'op', 'no3', 'nh4', 'no2', 'tkn', 'tp', 'selenium', 'ECOLI',\n",
       "       'fecal', 'tss', 'chlorophyllA', 'Latitude', 'Longitude', 'Year'],\n",
       "      dtype='object')"
      ]
     },
     "execution_count": 10,
     "metadata": {},
     "output_type": "execute_result"
    }
   ],
   "source": [
    "dfx.select_dtypes(include=np.number).columns"
   ]
  },
  {
   "cell_type": "code",
   "execution_count": 11,
   "id": "8a9c4c84-fd1d-4145-af4e-dbdb010720d0",
   "metadata": {
    "tags": []
   },
   "outputs": [
    {
     "data": {
      "application/vnd.plotly.v1+json": {
       "config": {
        "plotlyServerURL": "https://plot.ly"
       },
       "data": [
        {
         "dimensions": [
          {
           "axis": {
            "matches": true
           },
           "label": "Rep",
           "values": [
            1,
            2,
            1,
            2
           ]
          },
          {
           "axis": {
            "matches": true
           },
           "label": "op",
           "values": [
            null,
            null,
            null,
            null
           ]
          },
          {
           "axis": {
            "matches": true
           },
           "label": "no3",
           "values": [
            null,
            null,
            null,
            null
           ]
          },
          {
           "axis": {
            "matches": true
           },
           "label": "nh4",
           "values": [
            null,
            null,
            null,
            null
           ]
          },
          {
           "axis": {
            "matches": true
           },
           "label": "no2",
           "values": [
            null,
            null,
            0.81,
            0.82
           ]
          },
          {
           "axis": {
            "matches": true
           },
           "label": "tkn",
           "values": [
            null,
            null,
            null,
            null
           ]
          },
          {
           "axis": {
            "matches": true
           },
           "label": "tp",
           "values": [
            null,
            0.11,
            null,
            null
           ]
          },
          {
           "axis": {
            "matches": true
           },
           "label": "selenium",
           "values": [
            null,
            null,
            null,
            null
           ]
          },
          {
           "axis": {
            "matches": true
           },
           "label": "ECOLI",
           "values": [
            null,
            null,
            null,
            null
           ]
          },
          {
           "axis": {
            "matches": true
           },
           "label": "fecal",
           "values": [
            null,
            null,
            null,
            null
           ]
          },
          {
           "axis": {
            "matches": true
           },
           "label": "tss",
           "values": [
            13.33333333,
            6.666666667,
            0,
            0
           ]
          },
          {
           "axis": {
            "matches": true
           },
           "label": "chlorophyllA",
           "values": [
            30.65,
            null,
            null,
            null
           ]
          },
          {
           "axis": {
            "matches": true
           },
           "label": "Latitude",
           "values": [
            40.28528,
            40.28528,
            40.28528,
            40.28528
           ]
          },
          {
           "axis": {
            "matches": true
           },
           "label": "Longitude",
           "values": [
            -106.846751,
            -106.846751,
            -106.846751,
            -106.846751
           ]
          },
          {
           "axis": {
            "matches": true
           },
           "label": "Year",
           "values": [
            2022,
            2022,
            2022,
            2022
           ]
          }
         ],
         "hovertemplate": "Station=SCI<br>%{xaxis.title.text}=%{x}<br>%{yaxis.title.text}=%{y}<extra></extra>",
         "legendgroup": "SCI",
         "marker": {
          "color": "#636efa",
          "symbol": "circle"
         },
         "name": "SCI",
         "showlegend": true,
         "type": "splom"
        },
        {
         "dimensions": [
          {
           "axis": {
            "matches": true
           },
           "label": "Rep",
           "values": [
            1,
            2,
            1,
            2
           ]
          },
          {
           "axis": {
            "matches": true
           },
           "label": "op",
           "values": [
            null,
            null,
            null,
            null
           ]
          },
          {
           "axis": {
            "matches": true
           },
           "label": "no3",
           "values": [
            null,
            null,
            null,
            null
           ]
          },
          {
           "axis": {
            "matches": true
           },
           "label": "nh4",
           "values": [
            null,
            null,
            null,
            null
           ]
          },
          {
           "axis": {
            "matches": true
           },
           "label": "no2",
           "values": [
            null,
            null,
            0.15,
            1.1
           ]
          },
          {
           "axis": {
            "matches": true
           },
           "label": "tkn",
           "values": [
            null,
            null,
            null,
            null
           ]
          },
          {
           "axis": {
            "matches": true
           },
           "label": "tp",
           "values": [
            0.056,
            0.051,
            0.059,
            0.057
           ]
          },
          {
           "axis": {
            "matches": true
           },
           "label": "selenium",
           "values": [
            null,
            null,
            null,
            null
           ]
          },
          {
           "axis": {
            "matches": true
           },
           "label": "ECOLI",
           "values": [
            null,
            null,
            null,
            null
           ]
          },
          {
           "axis": {
            "matches": true
           },
           "label": "fecal",
           "values": [
            null,
            null,
            null,
            null
           ]
          },
          {
           "axis": {
            "matches": true
           },
           "label": "tss",
           "values": [
            20,
            6.666666667,
            3.333333333,
            3.333333333
           ]
          },
          {
           "axis": {
            "matches": true
           },
           "label": "chlorophyllA",
           "values": [
            7.37,
            null,
            null,
            null
           ]
          },
          {
           "axis": {
            "matches": true
           },
           "label": "Latitude",
           "values": [
            40.268871,
            40.268871,
            40.268871,
            40.268871
           ]
          },
          {
           "axis": {
            "matches": true
           },
           "label": "Longitude",
           "values": [
            -106.883927,
            -106.883927,
            -106.883927,
            -106.883927
           ]
          },
          {
           "axis": {
            "matches": true
           },
           "label": "Year",
           "values": [
            2022,
            2022,
            2022,
            2022
           ]
          }
         ],
         "hovertemplate": "Station=SCA<br>%{xaxis.title.text}=%{x}<br>%{yaxis.title.text}=%{y}<extra></extra>",
         "legendgroup": "SCA",
         "marker": {
          "color": "#EF553B",
          "symbol": "circle"
         },
         "name": "SCA",
         "showlegend": true,
         "type": "splom"
        },
        {
         "dimensions": [
          {
           "axis": {
            "matches": true
           },
           "label": "Rep",
           "values": [
            1,
            2,
            1,
            2
           ]
          },
          {
           "axis": {
            "matches": true
           },
           "label": "op",
           "values": [
            null,
            null,
            null,
            null
           ]
          },
          {
           "axis": {
            "matches": true
           },
           "label": "no3",
           "values": [
            null,
            null,
            null,
            null
           ]
          },
          {
           "axis": {
            "matches": true
           },
           "label": "nh4",
           "values": [
            null,
            null,
            null,
            null
           ]
          },
          {
           "axis": {
            "matches": true
           },
           "label": "no2",
           "values": [
            null,
            null,
            0.71,
            0.71
           ]
          },
          {
           "axis": {
            "matches": true
           },
           "label": "tkn",
           "values": [
            null,
            null,
            null,
            null
           ]
          },
          {
           "axis": {
            "matches": true
           },
           "label": "tp",
           "values": [
            null,
            0.059,
            null,
            0.057
           ]
          },
          {
           "axis": {
            "matches": true
           },
           "label": "selenium",
           "values": [
            null,
            null,
            null,
            null
           ]
          },
          {
           "axis": {
            "matches": true
           },
           "label": "ECOLI",
           "values": [
            null,
            null,
            null,
            null
           ]
          },
          {
           "axis": {
            "matches": true
           },
           "label": "fecal",
           "values": [
            null,
            null,
            null,
            null
           ]
          },
          {
           "axis": {
            "matches": true
           },
           "label": "tss",
           "values": [
            0,
            20,
            16.66666667,
            3.333333333
           ]
          },
          {
           "axis": {
            "matches": true
           },
           "label": "chlorophyllA",
           "values": [
            14.44,
            null,
            null,
            null
           ]
          },
          {
           "axis": {
            "matches": true
           },
           "label": "Latitude",
           "values": [
            40.289025,
            40.289025,
            40.289025,
            40.289025
           ]
          },
          {
           "axis": {
            "matches": true
           },
           "label": "Longitude",
           "values": [
            -106.8195,
            -106.8195,
            -106.8195,
            -106.8195
           ]
          },
          {
           "axis": {
            "matches": true
           },
           "label": "Year",
           "values": [
            2022,
            2022,
            2022,
            2022
           ]
          }
         ],
         "hovertemplate": "Station=TR<br>%{xaxis.title.text}=%{x}<br>%{yaxis.title.text}=%{y}<extra></extra>",
         "legendgroup": "TR",
         "marker": {
          "color": "#00cc96",
          "symbol": "circle"
         },
         "name": "TR",
         "showlegend": true,
         "type": "splom"
        },
        {
         "dimensions": [
          {
           "axis": {
            "matches": true
           },
           "label": "Rep",
           "values": [
            1,
            2
           ]
          },
          {
           "axis": {
            "matches": true
           },
           "label": "op",
           "values": [
            null,
            null
           ]
          },
          {
           "axis": {
            "matches": true
           },
           "label": "no3",
           "values": [
            null,
            null
           ]
          },
          {
           "axis": {
            "matches": true
           },
           "label": "nh4",
           "values": [
            null,
            null
           ]
          },
          {
           "axis": {
            "matches": true
           },
           "label": "no2",
           "values": [
            null,
            null
           ]
          },
          {
           "axis": {
            "matches": true
           },
           "label": "tkn",
           "values": [
            0.9,
            1.2
           ]
          },
          {
           "axis": {
            "matches": true
           },
           "label": "tp",
           "values": [
            0.33,
            0.29
           ]
          },
          {
           "axis": {
            "matches": true
           },
           "label": "selenium",
           "values": [
            null,
            null
           ]
          },
          {
           "axis": {
            "matches": true
           },
           "label": "ECOLI",
           "values": [
            null,
            null
           ]
          },
          {
           "axis": {
            "matches": true
           },
           "label": "fecal",
           "values": [
            null,
            null
           ]
          },
          {
           "axis": {
            "matches": true
           },
           "label": "tss",
           "values": [
            156.6666667,
            156.6666667
           ]
          },
          {
           "axis": {
            "matches": true
           },
           "label": "chlorophyllA",
           "values": [
            null,
            null
           ]
          },
          {
           "axis": {
            "matches": true
           },
           "label": "Latitude",
           "values": [
            40.285947,
            40.285947
           ]
          },
          {
           "axis": {
            "matches": true
           },
           "label": "Longitude",
           "values": [
            -106.829652,
            -106.829652
           ]
          },
          {
           "axis": {
            "matches": true
           },
           "label": "Year",
           "values": [
            2022,
            2022
           ]
          }
         ],
         "hovertemplate": "Station=SCO<br>%{xaxis.title.text}=%{x}<br>%{yaxis.title.text}=%{y}<extra></extra>",
         "legendgroup": "SCO",
         "marker": {
          "color": "#ab63fa",
          "symbol": "circle"
         },
         "name": "SCO",
         "showlegend": true,
         "type": "splom"
        }
       ],
       "layout": {
        "autosize": true,
        "dragmode": "select",
        "legend": {
         "title": {
          "text": "Station"
         },
         "tracegroupgap": 0
        },
        "margin": {
         "t": 60
        },
        "template": {
         "data": {
          "bar": [
           {
            "error_x": {
             "color": "#2a3f5f"
            },
            "error_y": {
             "color": "#2a3f5f"
            },
            "marker": {
             "line": {
              "color": "#E5ECF6",
              "width": 0.5
             },
             "pattern": {
              "fillmode": "overlay",
              "size": 10,
              "solidity": 0.2
             }
            },
            "type": "bar"
           }
          ],
          "barpolar": [
           {
            "marker": {
             "line": {
              "color": "#E5ECF6",
              "width": 0.5
             },
             "pattern": {
              "fillmode": "overlay",
              "size": 10,
              "solidity": 0.2
             }
            },
            "type": "barpolar"
           }
          ],
          "carpet": [
           {
            "aaxis": {
             "endlinecolor": "#2a3f5f",
             "gridcolor": "white",
             "linecolor": "white",
             "minorgridcolor": "white",
             "startlinecolor": "#2a3f5f"
            },
            "baxis": {
             "endlinecolor": "#2a3f5f",
             "gridcolor": "white",
             "linecolor": "white",
             "minorgridcolor": "white",
             "startlinecolor": "#2a3f5f"
            },
            "type": "carpet"
           }
          ],
          "choropleth": [
           {
            "colorbar": {
             "outlinewidth": 0,
             "ticks": ""
            },
            "type": "choropleth"
           }
          ],
          "contour": [
           {
            "colorbar": {
             "outlinewidth": 0,
             "ticks": ""
            },
            "colorscale": [
             [
              0,
              "#0d0887"
             ],
             [
              0.1111111111111111,
              "#46039f"
             ],
             [
              0.2222222222222222,
              "#7201a8"
             ],
             [
              0.3333333333333333,
              "#9c179e"
             ],
             [
              0.4444444444444444,
              "#bd3786"
             ],
             [
              0.5555555555555556,
              "#d8576b"
             ],
             [
              0.6666666666666666,
              "#ed7953"
             ],
             [
              0.7777777777777778,
              "#fb9f3a"
             ],
             [
              0.8888888888888888,
              "#fdca26"
             ],
             [
              1,
              "#f0f921"
             ]
            ],
            "type": "contour"
           }
          ],
          "contourcarpet": [
           {
            "colorbar": {
             "outlinewidth": 0,
             "ticks": ""
            },
            "type": "contourcarpet"
           }
          ],
          "heatmap": [
           {
            "colorbar": {
             "outlinewidth": 0,
             "ticks": ""
            },
            "colorscale": [
             [
              0,
              "#0d0887"
             ],
             [
              0.1111111111111111,
              "#46039f"
             ],
             [
              0.2222222222222222,
              "#7201a8"
             ],
             [
              0.3333333333333333,
              "#9c179e"
             ],
             [
              0.4444444444444444,
              "#bd3786"
             ],
             [
              0.5555555555555556,
              "#d8576b"
             ],
             [
              0.6666666666666666,
              "#ed7953"
             ],
             [
              0.7777777777777778,
              "#fb9f3a"
             ],
             [
              0.8888888888888888,
              "#fdca26"
             ],
             [
              1,
              "#f0f921"
             ]
            ],
            "type": "heatmap"
           }
          ],
          "heatmapgl": [
           {
            "colorbar": {
             "outlinewidth": 0,
             "ticks": ""
            },
            "colorscale": [
             [
              0,
              "#0d0887"
             ],
             [
              0.1111111111111111,
              "#46039f"
             ],
             [
              0.2222222222222222,
              "#7201a8"
             ],
             [
              0.3333333333333333,
              "#9c179e"
             ],
             [
              0.4444444444444444,
              "#bd3786"
             ],
             [
              0.5555555555555556,
              "#d8576b"
             ],
             [
              0.6666666666666666,
              "#ed7953"
             ],
             [
              0.7777777777777778,
              "#fb9f3a"
             ],
             [
              0.8888888888888888,
              "#fdca26"
             ],
             [
              1,
              "#f0f921"
             ]
            ],
            "type": "heatmapgl"
           }
          ],
          "histogram": [
           {
            "marker": {
             "pattern": {
              "fillmode": "overlay",
              "size": 10,
              "solidity": 0.2
             }
            },
            "type": "histogram"
           }
          ],
          "histogram2d": [
           {
            "colorbar": {
             "outlinewidth": 0,
             "ticks": ""
            },
            "colorscale": [
             [
              0,
              "#0d0887"
             ],
             [
              0.1111111111111111,
              "#46039f"
             ],
             [
              0.2222222222222222,
              "#7201a8"
             ],
             [
              0.3333333333333333,
              "#9c179e"
             ],
             [
              0.4444444444444444,
              "#bd3786"
             ],
             [
              0.5555555555555556,
              "#d8576b"
             ],
             [
              0.6666666666666666,
              "#ed7953"
             ],
             [
              0.7777777777777778,
              "#fb9f3a"
             ],
             [
              0.8888888888888888,
              "#fdca26"
             ],
             [
              1,
              "#f0f921"
             ]
            ],
            "type": "histogram2d"
           }
          ],
          "histogram2dcontour": [
           {
            "colorbar": {
             "outlinewidth": 0,
             "ticks": ""
            },
            "colorscale": [
             [
              0,
              "#0d0887"
             ],
             [
              0.1111111111111111,
              "#46039f"
             ],
             [
              0.2222222222222222,
              "#7201a8"
             ],
             [
              0.3333333333333333,
              "#9c179e"
             ],
             [
              0.4444444444444444,
              "#bd3786"
             ],
             [
              0.5555555555555556,
              "#d8576b"
             ],
             [
              0.6666666666666666,
              "#ed7953"
             ],
             [
              0.7777777777777778,
              "#fb9f3a"
             ],
             [
              0.8888888888888888,
              "#fdca26"
             ],
             [
              1,
              "#f0f921"
             ]
            ],
            "type": "histogram2dcontour"
           }
          ],
          "mesh3d": [
           {
            "colorbar": {
             "outlinewidth": 0,
             "ticks": ""
            },
            "type": "mesh3d"
           }
          ],
          "parcoords": [
           {
            "line": {
             "colorbar": {
              "outlinewidth": 0,
              "ticks": ""
             }
            },
            "type": "parcoords"
           }
          ],
          "pie": [
           {
            "automargin": true,
            "type": "pie"
           }
          ],
          "scatter": [
           {
            "fillpattern": {
             "fillmode": "overlay",
             "size": 10,
             "solidity": 0.2
            },
            "type": "scatter"
           }
          ],
          "scatter3d": [
           {
            "line": {
             "colorbar": {
              "outlinewidth": 0,
              "ticks": ""
             }
            },
            "marker": {
             "colorbar": {
              "outlinewidth": 0,
              "ticks": ""
             }
            },
            "type": "scatter3d"
           }
          ],
          "scattercarpet": [
           {
            "marker": {
             "colorbar": {
              "outlinewidth": 0,
              "ticks": ""
             }
            },
            "type": "scattercarpet"
           }
          ],
          "scattergeo": [
           {
            "marker": {
             "colorbar": {
              "outlinewidth": 0,
              "ticks": ""
             }
            },
            "type": "scattergeo"
           }
          ],
          "scattergl": [
           {
            "marker": {
             "colorbar": {
              "outlinewidth": 0,
              "ticks": ""
             }
            },
            "type": "scattergl"
           }
          ],
          "scattermapbox": [
           {
            "marker": {
             "colorbar": {
              "outlinewidth": 0,
              "ticks": ""
             }
            },
            "type": "scattermapbox"
           }
          ],
          "scatterpolar": [
           {
            "marker": {
             "colorbar": {
              "outlinewidth": 0,
              "ticks": ""
             }
            },
            "type": "scatterpolar"
           }
          ],
          "scatterpolargl": [
           {
            "marker": {
             "colorbar": {
              "outlinewidth": 0,
              "ticks": ""
             }
            },
            "type": "scatterpolargl"
           }
          ],
          "scatterternary": [
           {
            "marker": {
             "colorbar": {
              "outlinewidth": 0,
              "ticks": ""
             }
            },
            "type": "scatterternary"
           }
          ],
          "surface": [
           {
            "colorbar": {
             "outlinewidth": 0,
             "ticks": ""
            },
            "colorscale": [
             [
              0,
              "#0d0887"
             ],
             [
              0.1111111111111111,
              "#46039f"
             ],
             [
              0.2222222222222222,
              "#7201a8"
             ],
             [
              0.3333333333333333,
              "#9c179e"
             ],
             [
              0.4444444444444444,
              "#bd3786"
             ],
             [
              0.5555555555555556,
              "#d8576b"
             ],
             [
              0.6666666666666666,
              "#ed7953"
             ],
             [
              0.7777777777777778,
              "#fb9f3a"
             ],
             [
              0.8888888888888888,
              "#fdca26"
             ],
             [
              1,
              "#f0f921"
             ]
            ],
            "type": "surface"
           }
          ],
          "table": [
           {
            "cells": {
             "fill": {
              "color": "#EBF0F8"
             },
             "line": {
              "color": "white"
             }
            },
            "header": {
             "fill": {
              "color": "#C8D4E3"
             },
             "line": {
              "color": "white"
             }
            },
            "type": "table"
           }
          ]
         },
         "layout": {
          "annotationdefaults": {
           "arrowcolor": "#2a3f5f",
           "arrowhead": 0,
           "arrowwidth": 1
          },
          "autotypenumbers": "strict",
          "coloraxis": {
           "colorbar": {
            "outlinewidth": 0,
            "ticks": ""
           }
          },
          "colorscale": {
           "diverging": [
            [
             0,
             "#8e0152"
            ],
            [
             0.1,
             "#c51b7d"
            ],
            [
             0.2,
             "#de77ae"
            ],
            [
             0.3,
             "#f1b6da"
            ],
            [
             0.4,
             "#fde0ef"
            ],
            [
             0.5,
             "#f7f7f7"
            ],
            [
             0.6,
             "#e6f5d0"
            ],
            [
             0.7,
             "#b8e186"
            ],
            [
             0.8,
             "#7fbc41"
            ],
            [
             0.9,
             "#4d9221"
            ],
            [
             1,
             "#276419"
            ]
           ],
           "sequential": [
            [
             0,
             "#0d0887"
            ],
            [
             0.1111111111111111,
             "#46039f"
            ],
            [
             0.2222222222222222,
             "#7201a8"
            ],
            [
             0.3333333333333333,
             "#9c179e"
            ],
            [
             0.4444444444444444,
             "#bd3786"
            ],
            [
             0.5555555555555556,
             "#d8576b"
            ],
            [
             0.6666666666666666,
             "#ed7953"
            ],
            [
             0.7777777777777778,
             "#fb9f3a"
            ],
            [
             0.8888888888888888,
             "#fdca26"
            ],
            [
             1,
             "#f0f921"
            ]
           ],
           "sequentialminus": [
            [
             0,
             "#0d0887"
            ],
            [
             0.1111111111111111,
             "#46039f"
            ],
            [
             0.2222222222222222,
             "#7201a8"
            ],
            [
             0.3333333333333333,
             "#9c179e"
            ],
            [
             0.4444444444444444,
             "#bd3786"
            ],
            [
             0.5555555555555556,
             "#d8576b"
            ],
            [
             0.6666666666666666,
             "#ed7953"
            ],
            [
             0.7777777777777778,
             "#fb9f3a"
            ],
            [
             0.8888888888888888,
             "#fdca26"
            ],
            [
             1,
             "#f0f921"
            ]
           ]
          },
          "colorway": [
           "#636efa",
           "#EF553B",
           "#00cc96",
           "#ab63fa",
           "#FFA15A",
           "#19d3f3",
           "#FF6692",
           "#B6E880",
           "#FF97FF",
           "#FECB52"
          ],
          "font": {
           "color": "#2a3f5f"
          },
          "geo": {
           "bgcolor": "white",
           "lakecolor": "white",
           "landcolor": "#E5ECF6",
           "showlakes": true,
           "showland": true,
           "subunitcolor": "white"
          },
          "hoverlabel": {
           "align": "left"
          },
          "hovermode": "closest",
          "mapbox": {
           "style": "light"
          },
          "paper_bgcolor": "white",
          "plot_bgcolor": "#E5ECF6",
          "polar": {
           "angularaxis": {
            "gridcolor": "white",
            "linecolor": "white",
            "ticks": ""
           },
           "bgcolor": "#E5ECF6",
           "radialaxis": {
            "gridcolor": "white",
            "linecolor": "white",
            "ticks": ""
           }
          },
          "scene": {
           "xaxis": {
            "backgroundcolor": "#E5ECF6",
            "gridcolor": "white",
            "gridwidth": 2,
            "linecolor": "white",
            "showbackground": true,
            "ticks": "",
            "zerolinecolor": "white"
           },
           "yaxis": {
            "backgroundcolor": "#E5ECF6",
            "gridcolor": "white",
            "gridwidth": 2,
            "linecolor": "white",
            "showbackground": true,
            "ticks": "",
            "zerolinecolor": "white"
           },
           "zaxis": {
            "backgroundcolor": "#E5ECF6",
            "gridcolor": "white",
            "gridwidth": 2,
            "linecolor": "white",
            "showbackground": true,
            "ticks": "",
            "zerolinecolor": "white"
           }
          },
          "shapedefaults": {
           "line": {
            "color": "#2a3f5f"
           }
          },
          "ternary": {
           "aaxis": {
            "gridcolor": "white",
            "linecolor": "white",
            "ticks": ""
           },
           "baxis": {
            "gridcolor": "white",
            "linecolor": "white",
            "ticks": ""
           },
           "bgcolor": "#E5ECF6",
           "caxis": {
            "gridcolor": "white",
            "linecolor": "white",
            "ticks": ""
           }
          },
          "title": {
           "x": 0.05
          },
          "xaxis": {
           "automargin": true,
           "gridcolor": "white",
           "linecolor": "white",
           "ticks": "",
           "title": {
            "standoff": 15
           },
           "zerolinecolor": "white",
           "zerolinewidth": 2
          },
          "yaxis": {
           "automargin": true,
           "gridcolor": "white",
           "linecolor": "white",
           "ticks": "",
           "title": {
            "standoff": 15
           },
           "zerolinecolor": "white",
           "zerolinewidth": 2
          }
         }
        },
        "xaxis": {
         "autorange": true,
         "range": [
          0.8580375782881002,
          2.1419624217119
         ],
         "type": "linear"
        },
        "xaxis10": {
         "autorange": true,
         "range": [
          -1,
          4
         ]
        },
        "xaxis11": {
         "autorange": true,
         "range": [
          -22.24077940626304,
          178.90744610626305
         ],
         "type": "linear"
        },
        "xaxis12": {
         "autorange": true,
         "range": [
          4.065114822546974,
          33.95488517745302
         ],
         "type": "linear"
        },
        "xaxis13": {
         "autorange": true,
         "range": [
          40.266009889352816,
          40.291886110647184
         ],
         "type": "linear"
        },
        "xaxis14": {
         "autorange": true,
         "range": [
          -106.89307321294363,
          -106.81035378705637
         ],
         "type": "linear"
        },
        "xaxis15": {
         "autorange": true,
         "range": [
          2021,
          2023
         ],
         "type": "linear"
        },
        "xaxis2": {
         "autorange": true,
         "range": [
          -1,
          4
         ]
        },
        "xaxis3": {
         "autorange": true,
         "range": [
          -1,
          4
         ]
        },
        "xaxis4": {
         "autorange": true,
         "range": [
          -1,
          4
         ]
        },
        "xaxis5": {
         "autorange": true,
         "range": [
          0.015135699373695216,
          1.234864300626305
         ],
         "type": "linear"
        },
        "xaxis6": {
         "autorange": true,
         "range": [
          0.8574112734864301,
          1.2425887265135698
         ]
        },
        "xaxis7": {
         "autorange": true,
         "range": [
          0.011392484342379959,
          0.36960751565762007
         ],
         "type": "linear"
        },
        "xaxis8": {
         "autorange": true,
         "range": [
          -1,
          4
         ]
        },
        "xaxis9": {
         "autorange": true,
         "range": [
          -1,
          4
         ]
        },
        "yaxis": {
         "autorange": true,
         "range": [
          0.8580375782881002,
          2.1419624217119
         ],
         "type": "linear"
        },
        "yaxis10": {
         "autorange": true,
         "range": [
          -1,
          4
         ]
        },
        "yaxis11": {
         "autorange": true,
         "range": [
          -22.24077940626304,
          178.90744610626305
         ],
         "type": "linear"
        },
        "yaxis12": {
         "autorange": true,
         "range": [
          4.065114822546974,
          33.95488517745302
         ],
         "type": "linear"
        },
        "yaxis13": {
         "autorange": true,
         "range": [
          40.266009889352816,
          40.291886110647184
         ],
         "type": "linear"
        },
        "yaxis14": {
         "autorange": true,
         "range": [
          -106.89307321294363,
          -106.81035378705637
         ],
         "type": "linear"
        },
        "yaxis15": {
         "autorange": true,
         "range": [
          2021,
          2023
         ],
         "type": "linear"
        },
        "yaxis2": {
         "autorange": true,
         "range": [
          -1,
          4
         ]
        },
        "yaxis3": {
         "autorange": true,
         "range": [
          -1,
          4
         ]
        },
        "yaxis4": {
         "autorange": true,
         "range": [
          -1,
          4
         ]
        },
        "yaxis5": {
         "autorange": true,
         "range": [
          0.015135699373695216,
          1.234864300626305
         ],
         "type": "linear"
        },
        "yaxis6": {
         "autorange": true,
         "range": [
          0.8574112734864301,
          1.2425887265135698
         ]
        },
        "yaxis7": {
         "autorange": true,
         "range": [
          0.011392484342379959,
          0.36960751565762007
         ],
         "type": "linear"
        },
        "yaxis8": {
         "autorange": true,
         "range": [
          -1,
          4
         ]
        },
        "yaxis9": {
         "autorange": true,
         "range": [
          -1,
          4
         ]
        }
       }
      },
      "image/png": "[encoded data removed]",
      "text/html": [
       "<div>                            <div id=\"be573a4e-00fa-4ccd-8235-6a33c7033e78\" class=\"plotly-graph-div\" style=\"height:1250px; width:100%;\"></div>            <script type=\"text/javascript\">                require([\"plotly\"], function(Plotly) {                    window.PLOTLYENV=window.PLOTLYENV || {};                                    if (document.getElementById(\"be573a4e-00fa-4ccd-8235-6a33c7033e78\")) {                    Plotly.newPlot(                        \"be573a4e-00fa-4ccd-8235-6a33c7033e78\",                        [{\"dimensions\":[{\"axis\":{\"matches\":true},\"label\":\"Rep\",\"values\":[1,2,1,2]},{\"axis\":{\"matches\":true},\"label\":\"op\",\"values\":[null,null,null,null]},{\"axis\":{\"matches\":true},\"label\":\"no3\",\"values\":[null,null,null,null]},{\"axis\":{\"matches\":true},\"label\":\"nh4\",\"values\":[null,null,null,null]},{\"axis\":{\"matches\":true},\"label\":\"no2\",\"values\":[null,null,0.81,0.82]},{\"axis\":{\"matches\":true},\"label\":\"tkn\",\"values\":[null,null,null,null]},{\"axis\":{\"matches\":true},\"label\":\"tp\",\"values\":[null,0.11,null,null]},{\"axis\":{\"matches\":true},\"label\":\"selenium\",\"values\":[null,null,null,null]},{\"axis\":{\"matches\":true},\"label\":\"ECOLI\",\"values\":[null,null,null,null]},{\"axis\":{\"matches\":true},\"label\":\"fecal\",\"values\":[null,null,null,null]},{\"axis\":{\"matches\":true},\"label\":\"tss\",\"values\":[13.33333333,6.666666667,0.0,0.0]},{\"axis\":{\"matches\":true},\"label\":\"chlorophyllA\",\"values\":[30.65,null,null,null]},{\"axis\":{\"matches\":true},\"label\":\"Latitude\",\"values\":[40.28528,40.28528,40.28528,40.28528]},{\"axis\":{\"matches\":true},\"label\":\"Longitude\",\"values\":[-106.846751,-106.846751,-106.846751,-106.846751]},{\"axis\":{\"matches\":true},\"label\":\"Year\",\"values\":[2022,2022,2022,2022]}],\"hovertemplate\":\"Station=SCI<br>%{xaxis.title.text}=%{x}<br>%{yaxis.title.text}=%{y}<extra></extra>\",\"legendgroup\":\"SCI\",\"marker\":{\"color\":\"#636efa\",\"symbol\":\"circle\"},\"name\":\"SCI\",\"showlegend\":true,\"type\":\"splom\"},{\"dimensions\":[{\"axis\":{\"matches\":true},\"label\":\"Rep\",\"values\":[1,2,1,2]},{\"axis\":{\"matches\":true},\"label\":\"op\",\"values\":[null,null,null,null]},{\"axis\":{\"matches\":true},\"label\":\"no3\",\"values\":[null,null,null,null]},{\"axis\":{\"matches\":true},\"label\":\"nh4\",\"values\":[null,null,null,null]},{\"axis\":{\"matches\":true},\"label\":\"no2\",\"values\":[null,null,0.15,1.1]},{\"axis\":{\"matches\":true},\"label\":\"tkn\",\"values\":[null,null,null,null]},{\"axis\":{\"matches\":true},\"label\":\"tp\",\"values\":[0.056,0.051,0.059,0.057]},{\"axis\":{\"matches\":true},\"label\":\"selenium\",\"values\":[null,null,null,null]},{\"axis\":{\"matches\":true},\"label\":\"ECOLI\",\"values\":[null,null,null,null]},{\"axis\":{\"matches\":true},\"label\":\"fecal\",\"values\":[null,null,null,null]},{\"axis\":{\"matches\":true},\"label\":\"tss\",\"values\":[20.0,6.666666667,3.333333333,3.333333333]},{\"axis\":{\"matches\":true},\"label\":\"chlorophyllA\",\"values\":[7.37,null,null,null]},{\"axis\":{\"matches\":true},\"label\":\"Latitude\",\"values\":[40.268871,40.268871,40.268871,40.268871]},{\"axis\":{\"matches\":true},\"label\":\"Longitude\",\"values\":[-106.883927,-106.883927,-106.883927,-106.883927]},{\"axis\":{\"matches\":true},\"label\":\"Year\",\"values\":[2022,2022,2022,2022]}],\"hovertemplate\":\"Station=SCA<br>%{xaxis.title.text}=%{x}<br>%{yaxis.title.text}=%{y}<extra></extra>\",\"legendgroup\":\"SCA\",\"marker\":{\"color\":\"#EF553B\",\"symbol\":\"circle\"},\"name\":\"SCA\",\"showlegend\":true,\"type\":\"splom\"},{\"dimensions\":[{\"axis\":{\"matches\":true},\"label\":\"Rep\",\"values\":[1,2,1,2]},{\"axis\":{\"matches\":true},\"label\":\"op\",\"values\":[null,null,null,null]},{\"axis\":{\"matches\":true},\"label\":\"no3\",\"values\":[null,null,null,null]},{\"axis\":{\"matches\":true},\"label\":\"nh4\",\"values\":[null,null,null,null]},{\"axis\":{\"matches\":true},\"label\":\"no2\",\"values\":[null,null,0.71,0.71]},{\"axis\":{\"matches\":true},\"label\":\"tkn\",\"values\":[null,null,null,null]},{\"axis\":{\"matches\":true},\"label\":\"tp\",\"values\":[null,0.059,null,0.057]},{\"axis\":{\"matches\":true},\"label\":\"selenium\",\"values\":[null,null,null,null]},{\"axis\":{\"matches\":true},\"label\":\"ECOLI\",\"values\":[null,null,null,null]},{\"axis\":{\"matches\":true},\"label\":\"fecal\",\"values\":[null,null,null,null]},{\"axis\":{\"matches\":true},\"label\":\"tss\",\"values\":[0.0,20.0,16.66666667,3.333333333]},{\"axis\":{\"matches\":true},\"label\":\"chlorophyllA\",\"values\":[14.44,null,null,null]},{\"axis\":{\"matches\":true},\"label\":\"Latitude\",\"values\":[40.289025,40.289025,40.289025,40.289025]},{\"axis\":{\"matches\":true},\"label\":\"Longitude\",\"values\":[-106.8195,-106.8195,-106.8195,-106.8195]},{\"axis\":{\"matches\":true},\"label\":\"Year\",\"values\":[2022,2022,2022,2022]}],\"hovertemplate\":\"Station=TR<br>%{xaxis.title.text}=%{x}<br>%{yaxis.title.text}=%{y}<extra></extra>\",\"legendgroup\":\"TR\",\"marker\":{\"color\":\"#00cc96\",\"symbol\":\"circle\"},\"name\":\"TR\",\"showlegend\":true,\"type\":\"splom\"},{\"dimensions\":[{\"axis\":{\"matches\":true},\"label\":\"Rep\",\"values\":[1,2]},{\"axis\":{\"matches\":true},\"label\":\"op\",\"values\":[null,null]},{\"axis\":{\"matches\":true},\"label\":\"no3\",\"values\":[null,null]},{\"axis\":{\"matches\":true},\"label\":\"nh4\",\"values\":[null,null]},{\"axis\":{\"matches\":true},\"label\":\"no2\",\"values\":[null,null]},{\"axis\":{\"matches\":true},\"label\":\"tkn\",\"values\":[0.9,1.2]},{\"axis\":{\"matches\":true},\"label\":\"tp\",\"values\":[0.33,0.29]},{\"axis\":{\"matches\":true},\"label\":\"selenium\",\"values\":[null,null]},{\"axis\":{\"matches\":true},\"label\":\"ECOLI\",\"values\":[null,null]},{\"axis\":{\"matches\":true},\"label\":\"fecal\",\"values\":[null,null]},{\"axis\":{\"matches\":true},\"label\":\"tss\",\"values\":[156.6666667,156.6666667]},{\"axis\":{\"matches\":true},\"label\":\"chlorophyllA\",\"values\":[null,null]},{\"axis\":{\"matches\":true},\"label\":\"Latitude\",\"values\":[40.285947,40.285947]},{\"axis\":{\"matches\":true},\"label\":\"Longitude\",\"values\":[-106.829652,-106.829652]},{\"axis\":{\"matches\":true},\"label\":\"Year\",\"values\":[2022,2022]}],\"hovertemplate\":\"Station=SCO<br>%{xaxis.title.text}=%{x}<br>%{yaxis.title.text}=%{y}<extra></extra>\",\"legendgroup\":\"SCO\",\"marker\":{\"color\":\"#ab63fa\",\"symbol\":\"circle\"},\"name\":\"SCO\",\"showlegend\":true,\"type\":\"splom\"}],                        {\"template\":{\"data\":{\"histogram2dcontour\":[{\"type\":\"histogram2dcontour\",\"colorbar\":{\"outlinewidth\":0,\"ticks\":\"\"},\"colorscale\":[[0.0,\"#0d0887\"],[0.1111111111111111,\"#46039f\"],[0.2222222222222222,\"#7201a8\"],[0.3333333333333333,\"#9c179e\"],[0.4444444444444444,\"#bd3786\"],[0.5555555555555556,\"#d8576b\"],[0.6666666666666666,\"#ed7953\"],[0.7777777777777778,\"#fb9f3a\"],[0.8888888888888888,\"#fdca26\"],[1.0,\"#f0f921\"]]}],\"choropleth\":[{\"type\":\"choropleth\",\"colorbar\":{\"outlinewidth\":0,\"ticks\":\"\"}}],\"histogram2d\":[{\"type\":\"histogram2d\",\"colorbar\":{\"outlinewidth\":0,\"ticks\":\"\"},\"colorscale\":[[0.0,\"#0d0887\"],[0.1111111111111111,\"#46039f\"],[0.2222222222222222,\"#7201a8\"],[0.3333333333333333,\"#9c179e\"],[0.4444444444444444,\"#bd3786\"],[0.5555555555555556,\"#d8576b\"],[0.6666666666666666,\"#ed7953\"],[0.7777777777777778,\"#fb9f3a\"],[0.8888888888888888,\"#fdca26\"],[1.0,\"#f0f921\"]]}],\"heatmap\":[{\"type\":\"heatmap\",\"colorbar\":{\"outlinewidth\":0,\"ticks\":\"\"},\"colorscale\":[[0.0,\"#0d0887\"],[0.1111111111111111,\"#46039f\"],[0.2222222222222222,\"#7201a8\"],[0.3333333333333333,\"#9c179e\"],[0.4444444444444444,\"#bd3786\"],[0.5555555555555556,\"#d8576b\"],[0.6666666666666666,\"#ed7953\"],[0.7777777777777778,\"#fb9f3a\"],[0.8888888888888888,\"#fdca26\"],[1.0,\"#f0f921\"]]}],\"heatmapgl\":[{\"type\":\"heatmapgl\",\"colorbar\":{\"outlinewidth\":0,\"ticks\":\"\"},\"colorscale\":[[0.0,\"#0d0887\"],[0.1111111111111111,\"#46039f\"],[0.2222222222222222,\"#7201a8\"],[0.3333333333333333,\"#9c179e\"],[0.4444444444444444,\"#bd3786\"],[0.5555555555555556,\"#d8576b\"],[0.6666666666666666,\"#ed7953\"],[0.7777777777777778,\"#fb9f3a\"],[0.8888888888888888,\"#fdca26\"],[1.0,\"#f0f921\"]]}],\"contourcarpet\":[{\"type\":\"contourcarpet\",\"colorbar\":{\"outlinewidth\":0,\"ticks\":\"\"}}],\"contour\":[{\"type\":\"contour\",\"colorbar\":{\"outlinewidth\":0,\"ticks\":\"\"},\"colorscale\":[[0.0,\"#0d0887\"],[0.1111111111111111,\"#46039f\"],[0.2222222222222222,\"#7201a8\"],[0.3333333333333333,\"#9c179e\"],[0.4444444444444444,\"#bd3786\"],[0.5555555555555556,\"#d8576b\"],[0.6666666666666666,\"#ed7953\"],[0.7777777777777778,\"#fb9f3a\"],[0.8888888888888888,\"#fdca26\"],[1.0,\"#f0f921\"]]}],\"surface\":[{\"type\":\"surface\",\"colorbar\":{\"outlinewidth\":0,\"ticks\":\"\"},\"colorscale\":[[0.0,\"#0d0887\"],[0.1111111111111111,\"#46039f\"],[0.2222222222222222,\"#7201a8\"],[0.3333333333333333,\"#9c179e\"],[0.4444444444444444,\"#bd3786\"],[0.5555555555555556,\"#d8576b\"],[0.6666666666666666,\"#ed7953\"],[0.7777777777777778,\"#fb9f3a\"],[0.8888888888888888,\"#fdca26\"],[1.0,\"#f0f921\"]]}],\"mesh3d\":[{\"type\":\"mesh3d\",\"colorbar\":{\"outlinewidth\":0,\"ticks\":\"\"}}],\"scatter\":[{\"fillpattern\":{\"fillmode\":\"overlay\",\"size\":10,\"solidity\":0.2},\"type\":\"scatter\"}],\"parcoords\":[{\"type\":\"parcoords\",\"line\":{\"colorbar\":{\"outlinewidth\":0,\"ticks\":\"\"}}}],\"scatterpolargl\":[{\"type\":\"scatterpolargl\",\"marker\":{\"colorbar\":{\"outlinewidth\":0,\"ticks\":\"\"}}}],\"bar\":[{\"error_x\":{\"color\":\"#2a3f5f\"},\"error_y\":{\"color\":\"#2a3f5f\"},\"marker\":{\"line\":{\"color\":\"#E5ECF6\",\"width\":0.5},\"pattern\":{\"fillmode\":\"overlay\",\"size\":10,\"solidity\":0.2}},\"type\":\"bar\"}],\"scattergeo\":[{\"type\":\"scattergeo\",\"marker\":{\"colorbar\":{\"outlinewidth\":0,\"ticks\":\"\"}}}],\"scatterpolar\":[{\"type\":\"scatterpolar\",\"marker\":{\"colorbar\":{\"outlinewidth\":0,\"ticks\":\"\"}}}],\"histogram\":[{\"marker\":{\"pattern\":{\"fillmode\":\"overlay\",\"size\":10,\"solidity\":0.2}},\"type\":\"histogram\"}],\"scattergl\":[{\"type\":\"scattergl\",\"marker\":{\"colorbar\":{\"outlinewidth\":0,\"ticks\":\"\"}}}],\"scatter3d\":[{\"type\":\"scatter3d\",\"line\":{\"colorbar\":{\"outlinewidth\":0,\"ticks\":\"\"}},\"marker\":{\"colorbar\":{\"outlinewidth\":0,\"ticks\":\"\"}}}],\"scattermapbox\":[{\"type\":\"scattermapbox\",\"marker\":{\"colorbar\":{\"outlinewidth\":0,\"ticks\":\"\"}}}],\"scatterternary\":[{\"type\":\"scatterternary\",\"marker\":{\"colorbar\":{\"outlinewidth\":0,\"ticks\":\"\"}}}],\"scattercarpet\":[{\"type\":\"scattercarpet\",\"marker\":{\"colorbar\":{\"outlinewidth\":0,\"ticks\":\"\"}}}],\"carpet\":[{\"aaxis\":{\"endlinecolor\":\"#2a3f5f\",\"gridcolor\":\"white\",\"linecolor\":\"white\",\"minorgridcolor\":\"white\",\"startlinecolor\":\"#2a3f5f\"},\"baxis\":{\"endlinecolor\":\"#2a3f5f\",\"gridcolor\":\"white\",\"linecolor\":\"white\",\"minorgridcolor\":\"white\",\"startlinecolor\":\"#2a3f5f\"},\"type\":\"carpet\"}],\"table\":[{\"cells\":{\"fill\":{\"color\":\"#EBF0F8\"},\"line\":{\"color\":\"white\"}},\"header\":{\"fill\":{\"color\":\"#C8D4E3\"},\"line\":{\"color\":\"white\"}},\"type\":\"table\"}],\"barpolar\":[{\"marker\":{\"line\":{\"color\":\"#E5ECF6\",\"width\":0.5},\"pattern\":{\"fillmode\":\"overlay\",\"size\":10,\"solidity\":0.2}},\"type\":\"barpolar\"}],\"pie\":[{\"automargin\":true,\"type\":\"pie\"}]},\"layout\":{\"autotypenumbers\":\"strict\",\"colorway\":[\"#636efa\",\"#EF553B\",\"#00cc96\",\"#ab63fa\",\"#FFA15A\",\"#19d3f3\",\"#FF6692\",\"#B6E880\",\"#FF97FF\",\"#FECB52\"],\"font\":{\"color\":\"#2a3f5f\"},\"hovermode\":\"closest\",\"hoverlabel\":{\"align\":\"left\"},\"paper_bgcolor\":\"white\",\"plot_bgcolor\":\"#E5ECF6\",\"polar\":{\"bgcolor\":\"#E5ECF6\",\"angularaxis\":{\"gridcolor\":\"white\",\"linecolor\":\"white\",\"ticks\":\"\"},\"radialaxis\":{\"gridcolor\":\"white\",\"linecolor\":\"white\",\"ticks\":\"\"}},\"ternary\":{\"bgcolor\":\"#E5ECF6\",\"aaxis\":{\"gridcolor\":\"white\",\"linecolor\":\"white\",\"ticks\":\"\"},\"baxis\":{\"gridcolor\":\"white\",\"linecolor\":\"white\",\"ticks\":\"\"},\"caxis\":{\"gridcolor\":\"white\",\"linecolor\":\"white\",\"ticks\":\"\"}},\"coloraxis\":{\"colorbar\":{\"outlinewidth\":0,\"ticks\":\"\"}},\"colorscale\":{\"sequential\":[[0.0,\"#0d0887\"],[0.1111111111111111,\"#46039f\"],[0.2222222222222222,\"#7201a8\"],[0.3333333333333333,\"#9c179e\"],[0.4444444444444444,\"#bd3786\"],[0.5555555555555556,\"#d8576b\"],[0.6666666666666666,\"#ed7953\"],[0.7777777777777778,\"#fb9f3a\"],[0.8888888888888888,\"#fdca26\"],[1.0,\"#f0f921\"]],\"sequentialminus\":[[0.0,\"#0d0887\"],[0.1111111111111111,\"#46039f\"],[0.2222222222222222,\"#7201a8\"],[0.3333333333333333,\"#9c179e\"],[0.4444444444444444,\"#bd3786\"],[0.5555555555555556,\"#d8576b\"],[0.6666666666666666,\"#ed7953\"],[0.7777777777777778,\"#fb9f3a\"],[0.8888888888888888,\"#fdca26\"],[1.0,\"#f0f921\"]],\"diverging\":[[0,\"#8e0152\"],[0.1,\"#c51b7d\"],[0.2,\"#de77ae\"],[0.3,\"#f1b6da\"],[0.4,\"#fde0ef\"],[0.5,\"#f7f7f7\"],[0.6,\"#e6f5d0\"],[0.7,\"#b8e186\"],[0.8,\"#7fbc41\"],[0.9,\"#4d9221\"],[1,\"#276419\"]]},\"xaxis\":{\"gridcolor\":\"white\",\"linecolor\":\"white\",\"ticks\":\"\",\"title\":{\"standoff\":15},\"zerolinecolor\":\"white\",\"automargin\":true,\"zerolinewidth\":2},\"yaxis\":{\"gridcolor\":\"white\",\"linecolor\":\"white\",\"ticks\":\"\",\"title\":{\"standoff\":15},\"zerolinecolor\":\"white\",\"automargin\":true,\"zerolinewidth\":2},\"scene\":{\"xaxis\":{\"backgroundcolor\":\"#E5ECF6\",\"gridcolor\":\"white\",\"linecolor\":\"white\",\"showbackground\":true,\"ticks\":\"\",\"zerolinecolor\":\"white\",\"gridwidth\":2},\"yaxis\":{\"backgroundcolor\":\"#E5ECF6\",\"gridcolor\":\"white\",\"linecolor\":\"white\",\"showbackground\":true,\"ticks\":\"\",\"zerolinecolor\":\"white\",\"gridwidth\":2},\"zaxis\":{\"backgroundcolor\":\"#E5ECF6\",\"gridcolor\":\"white\",\"linecolor\":\"white\",\"showbackground\":true,\"ticks\":\"\",\"zerolinecolor\":\"white\",\"gridwidth\":2}},\"shapedefaults\":{\"line\":{\"color\":\"#2a3f5f\"}},\"annotationdefaults\":{\"arrowcolor\":\"#2a3f5f\",\"arrowhead\":0,\"arrowwidth\":1},\"geo\":{\"bgcolor\":\"white\",\"landcolor\":\"#E5ECF6\",\"subunitcolor\":\"white\",\"showland\":true,\"showlakes\":true,\"lakecolor\":\"white\"},\"title\":{\"x\":0.05},\"mapbox\":{\"style\":\"light\"}}},\"legend\":{\"title\":{\"text\":\"Station\"},\"tracegroupgap\":0},\"margin\":{\"t\":60},\"dragmode\":\"select\",\"height\":1250},                        {\"responsive\": true}                    ).then(function(){\n",
       "                            \n",
       "var gd = document.getElementById('be573a4e-00fa-4ccd-8235-6a33c7033e78');\n",
       "var x = new MutationObserver(function (mutations, observer) {{\n",
       "        var display = window.getComputedStyle(gd).display;\n",
       "        if (!display || display === 'none') {{\n",
       "            console.log([gd, 'removed!']);\n",
       "            Plotly.purge(gd);\n",
       "            observer.disconnect();\n",
       "        }}\n",
       "}});\n",
       "\n",
       "// Listen for the removal of the full notebook cells\n",
       "var notebookContainer = gd.closest('#notebook-container');\n",
       "if (notebookContainer) {{\n",
       "    x.observe(notebookContainer, {childList: true});\n",
       "}}\n",
       "\n",
       "// Listen for the clearing of the current output cell\n",
       "var outputEl = gd.closest('.output');\n",
       "if (outputEl) {{\n",
       "    x.observe(outputEl, {childList: true});\n",
       "}}\n",
       "\n",
       "                        })                };                });            </script>        </div>"
      ]
     },
     "metadata": {},
     "output_type": "display_data"
    }
   ],
   "source": [
    "#dimensions=['op', 'no3', 'nh4', 'tkn', 'tp', 'selenium', 'ECOLI', 'fecal', 'tss', 'Flow']\n",
    "dimensions=dfx.select_dtypes(include=np.number).columns\n",
    "#dfx = dfx.select_dtypes(include=np.number)\n",
    "fig = px.scatter_matrix(dfx, dimensions, color='Station', height=1250)\n",
    "fig.show()"
   ]
  },
  {
   "cell_type": "markdown",
   "id": "7ef96505-1991-4517-bf40-6a55731650a4",
   "metadata": {
    "tags": []
   },
   "source": [
    "## Table of Raw Data <a name=\"data\"></a>"
   ]
  },
  {
   "cell_type": "code",
   "execution_count": 12,
   "id": "4e51c17c-d945-4ce2-bea9-360b0371871c",
   "metadata": {},
   "outputs": [
    {
     "data": {
      "text/html": [
       "<div>\n",
       "<style scoped>\n",
       "    .dataframe tbody tr th:only-of-type {\n",
       "        vertical-align: middle;\n",
       "    }\n",
       "\n",
       "    .dataframe tbody tr th {\n",
       "        vertical-align: top;\n",
       "    }\n",
       "\n",
       "    .dataframe thead th {\n",
       "        text-align: right;\n",
       "    }\n",
       "</style>\n",
       "<table border=\"1\" class=\"dataframe\">\n",
       "  <thead>\n",
       "    <tr style=\"text-align: right;\">\n",
       "      <th></th>\n",
       "      <th>Location</th>\n",
       "      <th>Date</th>\n",
       "      <th>Irr./Storm Event</th>\n",
       "      <th>Sample Type</th>\n",
       "      <th>Replication ID</th>\n",
       "      <th>Sample ID</th>\n",
       "      <th>Orthophosphate (mg/L)</th>\n",
       "      <th>NO3 (mg/L)</th>\n",
       "      <th>NH4 (mg/L)</th>\n",
       "      <th>no2</th>\n",
       "      <th>...</th>\n",
       "      <th>Selenium (mg/L)</th>\n",
       "      <th>E. coli. (Ct./100 mL)</th>\n",
       "      <th>Fecal Coliform (Ct./100 mL)</th>\n",
       "      <th>TSS (g/L)</th>\n",
       "      <th>Chlorophyll A (ug/L)</th>\n",
       "      <th>Latitude</th>\n",
       "      <th>Longitude</th>\n",
       "      <th>notes</th>\n",
       "      <th>Year</th>\n",
       "      <th>hex</th>\n",
       "    </tr>\n",
       "  </thead>\n",
       "  <tbody>\n",
       "    <tr>\n",
       "      <th>0</th>\n",
       "      <td>Yampa Valley</td>\n",
       "      <td>5/26/2022</td>\n",
       "      <td>Grab 1</td>\n",
       "      <td>SCI</td>\n",
       "      <td>1</td>\n",
       "      <td>SB-SCI-01-GB</td>\n",
       "      <td>NaN</td>\n",
       "      <td>NaN</td>\n",
       "      <td>NaN</td>\n",
       "      <td>NaN</td>\n",
       "      <td>...</td>\n",
       "      <td>NaN</td>\n",
       "      <td>NaN</td>\n",
       "      <td>NaN</td>\n",
       "      <td>13.333333</td>\n",
       "      <td>30.65</td>\n",
       "      <td>40.285280</td>\n",
       "      <td>-106.846751</td>\n",
       "      <td>nitrite not tested for; no duplicate for chlor...</td>\n",
       "      <td>2022</td>\n",
       "      <td>#1f77b4</td>\n",
       "    </tr>\n",
       "    <tr>\n",
       "      <th>1</th>\n",
       "      <td>Yampa Valley</td>\n",
       "      <td>5/26/2022</td>\n",
       "      <td>Grab 1</td>\n",
       "      <td>SCI</td>\n",
       "      <td>2</td>\n",
       "      <td>SB-SCI-01-GB-D</td>\n",
       "      <td>NaN</td>\n",
       "      <td>NaN</td>\n",
       "      <td>NaN</td>\n",
       "      <td>NaN</td>\n",
       "      <td>...</td>\n",
       "      <td>NaN</td>\n",
       "      <td>NaN</td>\n",
       "      <td>NaN</td>\n",
       "      <td>6.666667</td>\n",
       "      <td>NaN</td>\n",
       "      <td>40.285280</td>\n",
       "      <td>-106.846751</td>\n",
       "      <td>nitrite not tested for; no duplicate for chlor...</td>\n",
       "      <td>2022</td>\n",
       "      <td>#1f77b4</td>\n",
       "    </tr>\n",
       "    <tr>\n",
       "      <th>2</th>\n",
       "      <td>Yampa Valley</td>\n",
       "      <td>5/26/2022</td>\n",
       "      <td>Grab 1</td>\n",
       "      <td>SCA</td>\n",
       "      <td>1</td>\n",
       "      <td>SB-SCA-01-GB</td>\n",
       "      <td>NaN</td>\n",
       "      <td>NaN</td>\n",
       "      <td>NaN</td>\n",
       "      <td>NaN</td>\n",
       "      <td>...</td>\n",
       "      <td>NaN</td>\n",
       "      <td>NaN</td>\n",
       "      <td>NaN</td>\n",
       "      <td>20.000000</td>\n",
       "      <td>7.37</td>\n",
       "      <td>40.268871</td>\n",
       "      <td>-106.883927</td>\n",
       "      <td>nitrite not tested for; no duplicate for chlor...</td>\n",
       "      <td>2022</td>\n",
       "      <td>#ff7f0e</td>\n",
       "    </tr>\n",
       "    <tr>\n",
       "      <th>3</th>\n",
       "      <td>Yampa Valley</td>\n",
       "      <td>5/26/2022</td>\n",
       "      <td>Grab 1</td>\n",
       "      <td>SCA</td>\n",
       "      <td>2</td>\n",
       "      <td>SB-SCA-01-GB-D</td>\n",
       "      <td>NaN</td>\n",
       "      <td>NaN</td>\n",
       "      <td>NaN</td>\n",
       "      <td>NaN</td>\n",
       "      <td>...</td>\n",
       "      <td>NaN</td>\n",
       "      <td>NaN</td>\n",
       "      <td>NaN</td>\n",
       "      <td>6.666667</td>\n",
       "      <td>NaN</td>\n",
       "      <td>40.268871</td>\n",
       "      <td>-106.883927</td>\n",
       "      <td>nitrite not tested for; no duplicate for chlor...</td>\n",
       "      <td>2022</td>\n",
       "      <td>#ff7f0e</td>\n",
       "    </tr>\n",
       "    <tr>\n",
       "      <th>4</th>\n",
       "      <td>Yampa Valley</td>\n",
       "      <td>5/26/2022</td>\n",
       "      <td>Grab 1</td>\n",
       "      <td>TR</td>\n",
       "      <td>1</td>\n",
       "      <td>SB-TR-01-GB</td>\n",
       "      <td>NaN</td>\n",
       "      <td>NaN</td>\n",
       "      <td>NaN</td>\n",
       "      <td>NaN</td>\n",
       "      <td>...</td>\n",
       "      <td>NaN</td>\n",
       "      <td>NaN</td>\n",
       "      <td>NaN</td>\n",
       "      <td>0.000000</td>\n",
       "      <td>14.44</td>\n",
       "      <td>40.289025</td>\n",
       "      <td>-106.819500</td>\n",
       "      <td>nitrite not tested for; no duplicate for chlor...</td>\n",
       "      <td>2022</td>\n",
       "      <td>#2ca02c</td>\n",
       "    </tr>\n",
       "    <tr>\n",
       "      <th>5</th>\n",
       "      <td>Yampa Valley</td>\n",
       "      <td>5/26/2022</td>\n",
       "      <td>Grab 1</td>\n",
       "      <td>TR</td>\n",
       "      <td>2</td>\n",
       "      <td>SB-TR-01-GB-D</td>\n",
       "      <td>NaN</td>\n",
       "      <td>NaN</td>\n",
       "      <td>NaN</td>\n",
       "      <td>NaN</td>\n",
       "      <td>...</td>\n",
       "      <td>NaN</td>\n",
       "      <td>NaN</td>\n",
       "      <td>NaN</td>\n",
       "      <td>20.000000</td>\n",
       "      <td>NaN</td>\n",
       "      <td>40.289025</td>\n",
       "      <td>-106.819500</td>\n",
       "      <td>nitrite not tested for; no duplicate for chlor...</td>\n",
       "      <td>2022</td>\n",
       "      <td>#2ca02c</td>\n",
       "    </tr>\n",
       "    <tr>\n",
       "      <th>6</th>\n",
       "      <td>Yampa Valley</td>\n",
       "      <td>6/16/2022</td>\n",
       "      <td>Grab 1</td>\n",
       "      <td>SCO</td>\n",
       "      <td>1</td>\n",
       "      <td>SB-SCO-01-GB</td>\n",
       "      <td>NaN</td>\n",
       "      <td>NaN</td>\n",
       "      <td>NaN</td>\n",
       "      <td>NaN</td>\n",
       "      <td>...</td>\n",
       "      <td>NaN</td>\n",
       "      <td>NaN</td>\n",
       "      <td>NaN</td>\n",
       "      <td>156.666667</td>\n",
       "      <td>NaN</td>\n",
       "      <td>40.285947</td>\n",
       "      <td>-106.829652</td>\n",
       "      <td>nitrite not tested for; ALS also tested TSS = ...</td>\n",
       "      <td>2022</td>\n",
       "      <td>#d62728</td>\n",
       "    </tr>\n",
       "    <tr>\n",
       "      <th>7</th>\n",
       "      <td>Yampa Valley</td>\n",
       "      <td>6/16/2022</td>\n",
       "      <td>Grab 1</td>\n",
       "      <td>SCO</td>\n",
       "      <td>2</td>\n",
       "      <td>SB-SCO-01-GB-D</td>\n",
       "      <td>NaN</td>\n",
       "      <td>NaN</td>\n",
       "      <td>NaN</td>\n",
       "      <td>NaN</td>\n",
       "      <td>...</td>\n",
       "      <td>NaN</td>\n",
       "      <td>NaN</td>\n",
       "      <td>NaN</td>\n",
       "      <td>156.666667</td>\n",
       "      <td>NaN</td>\n",
       "      <td>40.285947</td>\n",
       "      <td>-106.829652</td>\n",
       "      <td>nitrite not tested for; ALS also tested TSS = ...</td>\n",
       "      <td>2022</td>\n",
       "      <td>#d62728</td>\n",
       "    </tr>\n",
       "    <tr>\n",
       "      <th>8</th>\n",
       "      <td>Yampa Valley</td>\n",
       "      <td>7/18/2022</td>\n",
       "      <td>Grab 2</td>\n",
       "      <td>SCI</td>\n",
       "      <td>1</td>\n",
       "      <td>SB-SCI-02-GB</td>\n",
       "      <td>NaN</td>\n",
       "      <td>NaN</td>\n",
       "      <td>NaN</td>\n",
       "      <td>0.81</td>\n",
       "      <td>...</td>\n",
       "      <td>NaN</td>\n",
       "      <td>NaN</td>\n",
       "      <td>NaN</td>\n",
       "      <td>0.000000</td>\n",
       "      <td>NaN</td>\n",
       "      <td>40.285280</td>\n",
       "      <td>-106.846751</td>\n",
       "      <td>NaN</td>\n",
       "      <td>2022</td>\n",
       "      <td>#1f77b4</td>\n",
       "    </tr>\n",
       "    <tr>\n",
       "      <th>9</th>\n",
       "      <td>Yampa Valley</td>\n",
       "      <td>7/18/2022</td>\n",
       "      <td>Grab 2</td>\n",
       "      <td>SCI</td>\n",
       "      <td>2</td>\n",
       "      <td>SB-SCI-02-GB-D</td>\n",
       "      <td>NaN</td>\n",
       "      <td>NaN</td>\n",
       "      <td>NaN</td>\n",
       "      <td>0.82</td>\n",
       "      <td>...</td>\n",
       "      <td>NaN</td>\n",
       "      <td>NaN</td>\n",
       "      <td>NaN</td>\n",
       "      <td>0.000000</td>\n",
       "      <td>NaN</td>\n",
       "      <td>40.285280</td>\n",
       "      <td>-106.846751</td>\n",
       "      <td>TSS was reported as -3.33, but is presented as...</td>\n",
       "      <td>2022</td>\n",
       "      <td>#1f77b4</td>\n",
       "    </tr>\n",
       "    <tr>\n",
       "      <th>10</th>\n",
       "      <td>Yampa Valley</td>\n",
       "      <td>7/18/2022</td>\n",
       "      <td>Grab 2</td>\n",
       "      <td>SCA</td>\n",
       "      <td>1</td>\n",
       "      <td>SB-SCA-02-GB</td>\n",
       "      <td>NaN</td>\n",
       "      <td>NaN</td>\n",
       "      <td>NaN</td>\n",
       "      <td>0.15</td>\n",
       "      <td>...</td>\n",
       "      <td>NaN</td>\n",
       "      <td>NaN</td>\n",
       "      <td>NaN</td>\n",
       "      <td>3.333333</td>\n",
       "      <td>NaN</td>\n",
       "      <td>40.268871</td>\n",
       "      <td>-106.883927</td>\n",
       "      <td>NaN</td>\n",
       "      <td>2022</td>\n",
       "      <td>#ff7f0e</td>\n",
       "    </tr>\n",
       "    <tr>\n",
       "      <th>11</th>\n",
       "      <td>Yampa Valley</td>\n",
       "      <td>7/18/2022</td>\n",
       "      <td>Grab 2</td>\n",
       "      <td>SCA</td>\n",
       "      <td>2</td>\n",
       "      <td>SB-SCA-02-GB-D</td>\n",
       "      <td>NaN</td>\n",
       "      <td>NaN</td>\n",
       "      <td>NaN</td>\n",
       "      <td>1.10</td>\n",
       "      <td>...</td>\n",
       "      <td>NaN</td>\n",
       "      <td>NaN</td>\n",
       "      <td>NaN</td>\n",
       "      <td>3.333333</td>\n",
       "      <td>NaN</td>\n",
       "      <td>40.268871</td>\n",
       "      <td>-106.883927</td>\n",
       "      <td>NaN</td>\n",
       "      <td>2022</td>\n",
       "      <td>#ff7f0e</td>\n",
       "    </tr>\n",
       "    <tr>\n",
       "      <th>12</th>\n",
       "      <td>Yampa Valley</td>\n",
       "      <td>7/13/2022</td>\n",
       "      <td>Grab 2</td>\n",
       "      <td>TR</td>\n",
       "      <td>1</td>\n",
       "      <td>SB-TR-02-GB</td>\n",
       "      <td>NaN</td>\n",
       "      <td>NaN</td>\n",
       "      <td>NaN</td>\n",
       "      <td>0.71</td>\n",
       "      <td>...</td>\n",
       "      <td>NaN</td>\n",
       "      <td>NaN</td>\n",
       "      <td>NaN</td>\n",
       "      <td>16.666667</td>\n",
       "      <td>NaN</td>\n",
       "      <td>40.289025</td>\n",
       "      <td>-106.819500</td>\n",
       "      <td>formally mislabelled; correct ID is shown here</td>\n",
       "      <td>2022</td>\n",
       "      <td>#2ca02c</td>\n",
       "    </tr>\n",
       "    <tr>\n",
       "      <th>13</th>\n",
       "      <td>Yampa Valley</td>\n",
       "      <td>7/13/2022</td>\n",
       "      <td>Grab 2</td>\n",
       "      <td>TR</td>\n",
       "      <td>2</td>\n",
       "      <td>SB-TR-02-GB-D</td>\n",
       "      <td>NaN</td>\n",
       "      <td>NaN</td>\n",
       "      <td>NaN</td>\n",
       "      <td>0.71</td>\n",
       "      <td>...</td>\n",
       "      <td>NaN</td>\n",
       "      <td>NaN</td>\n",
       "      <td>NaN</td>\n",
       "      <td>3.333333</td>\n",
       "      <td>NaN</td>\n",
       "      <td>40.289025</td>\n",
       "      <td>-106.819500</td>\n",
       "      <td>formally mislabelled; correct ID is shown here</td>\n",
       "      <td>2022</td>\n",
       "      <td>#2ca02c</td>\n",
       "    </tr>\n",
       "  </tbody>\n",
       "</table>\n",
       "<p>14 rows × 22 columns</p>\n",
       "</div>"
      ],
      "text/plain": [
       "        Location       Date Irr./Storm Event Sample Type  Replication ID  \\\n",
       "0   Yampa Valley  5/26/2022           Grab 1         SCI               1   \n",
       "1   Yampa Valley  5/26/2022           Grab 1         SCI               2   \n",
       "2   Yampa Valley  5/26/2022           Grab 1         SCA               1   \n",
       "3   Yampa Valley  5/26/2022           Grab 1         SCA               2   \n",
       "4   Yampa Valley  5/26/2022           Grab 1          TR               1   \n",
       "5   Yampa Valley  5/26/2022           Grab 1          TR               2   \n",
       "6   Yampa Valley  6/16/2022           Grab 1         SCO               1   \n",
       "7   Yampa Valley  6/16/2022           Grab 1         SCO               2   \n",
       "8   Yampa Valley  7/18/2022           Grab 2         SCI               1   \n",
       "9   Yampa Valley  7/18/2022           Grab 2         SCI               2   \n",
       "10  Yampa Valley  7/18/2022           Grab 2         SCA               1   \n",
       "11  Yampa Valley  7/18/2022           Grab 2         SCA               2   \n",
       "12  Yampa Valley  7/13/2022           Grab 2          TR               1   \n",
       "13  Yampa Valley  7/13/2022           Grab 2          TR               2   \n",
       "\n",
       "         Sample ID  Orthophosphate (mg/L)  NO3 (mg/L)  NH4 (mg/L)   no2  ...  \\\n",
       "0     SB-SCI-01-GB                    NaN         NaN         NaN   NaN  ...   \n",
       "1   SB-SCI-01-GB-D                    NaN         NaN         NaN   NaN  ...   \n",
       "2     SB-SCA-01-GB                    NaN         NaN         NaN   NaN  ...   \n",
       "3   SB-SCA-01-GB-D                    NaN         NaN         NaN   NaN  ...   \n",
       "4      SB-TR-01-GB                    NaN         NaN         NaN   NaN  ...   \n",
       "5    SB-TR-01-GB-D                    NaN         NaN         NaN   NaN  ...   \n",
       "6     SB-SCO-01-GB                    NaN         NaN         NaN   NaN  ...   \n",
       "7   SB-SCO-01-GB-D                    NaN         NaN         NaN   NaN  ...   \n",
       "8     SB-SCI-02-GB                    NaN         NaN         NaN  0.81  ...   \n",
       "9   SB-SCI-02-GB-D                    NaN         NaN         NaN  0.82  ...   \n",
       "10    SB-SCA-02-GB                    NaN         NaN         NaN  0.15  ...   \n",
       "11  SB-SCA-02-GB-D                    NaN         NaN         NaN  1.10  ...   \n",
       "12     SB-TR-02-GB                    NaN         NaN         NaN  0.71  ...   \n",
       "13   SB-TR-02-GB-D                    NaN         NaN         NaN  0.71  ...   \n",
       "\n",
       "    Selenium (mg/L)  E. coli. (Ct./100 mL)  Fecal Coliform (Ct./100 mL)  \\\n",
       "0               NaN                    NaN                          NaN   \n",
       "1               NaN                    NaN                          NaN   \n",
       "2               NaN                    NaN                          NaN   \n",
       "3               NaN                    NaN                          NaN   \n",
       "4               NaN                    NaN                          NaN   \n",
       "5               NaN                    NaN                          NaN   \n",
       "6               NaN                    NaN                          NaN   \n",
       "7               NaN                    NaN                          NaN   \n",
       "8               NaN                    NaN                          NaN   \n",
       "9               NaN                    NaN                          NaN   \n",
       "10              NaN                    NaN                          NaN   \n",
       "11              NaN                    NaN                          NaN   \n",
       "12              NaN                    NaN                          NaN   \n",
       "13              NaN                    NaN                          NaN   \n",
       "\n",
       "     TSS (g/L)  Chlorophyll A (ug/L)   Latitude   Longitude  \\\n",
       "0    13.333333                 30.65  40.285280 -106.846751   \n",
       "1     6.666667                   NaN  40.285280 -106.846751   \n",
       "2    20.000000                  7.37  40.268871 -106.883927   \n",
       "3     6.666667                   NaN  40.268871 -106.883927   \n",
       "4     0.000000                 14.44  40.289025 -106.819500   \n",
       "5    20.000000                   NaN  40.289025 -106.819500   \n",
       "6   156.666667                   NaN  40.285947 -106.829652   \n",
       "7   156.666667                   NaN  40.285947 -106.829652   \n",
       "8     0.000000                   NaN  40.285280 -106.846751   \n",
       "9     0.000000                   NaN  40.285280 -106.846751   \n",
       "10    3.333333                   NaN  40.268871 -106.883927   \n",
       "11    3.333333                   NaN  40.268871 -106.883927   \n",
       "12   16.666667                   NaN  40.289025 -106.819500   \n",
       "13    3.333333                   NaN  40.289025 -106.819500   \n",
       "\n",
       "                                                notes  Year      hex  \n",
       "0   nitrite not tested for; no duplicate for chlor...  2022  #1f77b4  \n",
       "1   nitrite not tested for; no duplicate for chlor...  2022  #1f77b4  \n",
       "2   nitrite not tested for; no duplicate for chlor...  2022  #ff7f0e  \n",
       "3   nitrite not tested for; no duplicate for chlor...  2022  #ff7f0e  \n",
       "4   nitrite not tested for; no duplicate for chlor...  2022  #2ca02c  \n",
       "5   nitrite not tested for; no duplicate for chlor...  2022  #2ca02c  \n",
       "6   nitrite not tested for; ALS also tested TSS = ...  2022  #d62728  \n",
       "7   nitrite not tested for; ALS also tested TSS = ...  2022  #d62728  \n",
       "8                                                 NaN  2022  #1f77b4  \n",
       "9   TSS was reported as -3.33, but is presented as...  2022  #1f77b4  \n",
       "10                                                NaN  2022  #ff7f0e  \n",
       "11                                                NaN  2022  #ff7f0e  \n",
       "12     formally mislabelled; correct ID is shown here  2022  #2ca02c  \n",
       "13     formally mislabelled; correct ID is shown here  2022  #2ca02c  \n",
       "\n",
       "[14 rows x 22 columns]"
      ]
     },
     "execution_count": 12,
     "metadata": {},
     "output_type": "execute_result"
    }
   ],
   "source": [
    "df"
   ]
  }
 ],
 "metadata": {
  "kernelspec": {
   "display_name": "Python 3 (ipykernel)",
   "language": "python",
   "name": "python3"
  },
  "language_info": {
   "codemirror_mode": {
    "name": "ipython",
    "version": 3
   },
   "file_extension": ".py",
   "mimetype": "text/x-python",
   "name": "python",
   "nbconvert_exporter": "python",
   "pygments_lexer": "ipython3",
   "version": "3.10.4"
  },
  "toc-autonumbering": false,
  "toc-showmarkdowntxt": false,
  "toc-showtags": true
 },
 "nbformat": 4,
 "nbformat_minor": 5
}
